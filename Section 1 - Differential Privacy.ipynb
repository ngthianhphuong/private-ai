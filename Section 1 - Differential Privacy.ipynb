{
 "cells": [
  {
   "cell_type": "markdown",
   "metadata": {},
   "source": [
    "## Lesson: Toy Differential Privacy - Simple Database Queries"
   ]
  },
  {
   "cell_type": "markdown",
   "metadata": {},
   "source": [
    "In this section we're going to play around with Differential Privacy in the context of a database query. The database is going to be a VERY simple database with only one boolean column. Each row corresponds to a person. Each value corresponds to whether or not that person has a certain private attribute (such as whether they have a certain disease, or whether they are above/below a certain age). We are then going to learn how to know whether a database query over such a small database is differentially private or not - and more importantly - what techniques are at our disposal to ensure various levels of privacy\n",
    "\n",
    "\n",
    "### First We Create a Simple Database\n",
    "\n",
    "Step one is to create our database - we're going to do this by initializing a random list of 1s and 0s (which are the entries in our database). Note - the number of entries directly corresponds to the number of people in our database."
   ]
  },
  {
   "cell_type": "code",
   "execution_count": 1,
   "metadata": {},
   "outputs": [
    {
     "data": {
      "text/plain": [
       "tensor([False,  True,  True,  ...,  True,  True,  True])"
      ]
     },
     "execution_count": 1,
     "metadata": {},
     "output_type": "execute_result"
    }
   ],
   "source": [
    "import torch\n",
    "import numpy as np\n",
    "# the number of entries in our database\n",
    "num_entries = 5000\n",
    "\n",
    "db = torch.rand(num_entries) > 0.5\n",
    "db"
   ]
  },
  {
   "cell_type": "markdown",
   "metadata": {},
   "source": [
    "## Project: Generate Parallel Databases\n",
    "\n",
    "Key to the definition of differenital privacy is the ability to ask the question \"When querying a database, if I removed someone from the database, would the output of the query be any different?\". Thus, in order to check this, we must construct what we term \"parallel databases\" which are simply databases with one entry removed. \n",
    "\n",
    "In this first project, I want you to create a list of every parallel database to the one currently contained in the \"db\" variable. Then, I want you to create a function which both:\n",
    "\n",
    "- creates the initial database (db)\n",
    "- creates all parallel databases"
   ]
  },
  {
   "cell_type": "code",
   "execution_count": 2,
   "metadata": {},
   "outputs": [],
   "source": [
    "def get_parallel_db(db, remove_index):\n",
    "    return torch.cat((db[:remove_index], db[remove_index+1:]))"
   ]
  },
  {
   "cell_type": "code",
   "execution_count": 3,
   "metadata": {},
   "outputs": [],
   "source": [
    "def get_parallel_dbs(db):\n",
    "    parallel_dbs = []\n",
    "    \n",
    "    for i in range(len(db)):\n",
    "        parallel_dbs.append(get_parallel_db(db, i))\n",
    "    return parallel_dbs"
   ]
  },
  {
   "cell_type": "code",
   "execution_count": 4,
   "metadata": {},
   "outputs": [],
   "source": [
    "def create_db_and_parallels(n):\n",
    "    '''Function to create an original database of size n containing 0 and 1,\n",
    "    and n parallel databases, each with one less element compared to original database.\n",
    "    Return:\n",
    "    db: original database of size n;\n",
    "    pdbs: list of n parallel databases\n",
    "    '''\n",
    "    db = torch.randint(0,2, size=(n,))\n",
    "    pdbs = get_parallel_dbs(db)\n",
    "    return db, pdbs"
   ]
  },
  {
   "cell_type": "code",
   "execution_count": 10,
   "metadata": {},
   "outputs": [],
   "source": [
    "db, pdbs = create_db_and_parallels(5000)"
   ]
  },
  {
   "cell_type": "code",
   "execution_count": 11,
   "metadata": {},
   "outputs": [
    {
     "data": {
      "text/plain": [
       "5000"
      ]
     },
     "execution_count": 11,
     "metadata": {},
     "output_type": "execute_result"
    }
   ],
   "source": [
    "len(pdbs)"
   ]
  },
  {
   "cell_type": "markdown",
   "metadata": {},
   "source": [
    "# Lesson: Towards Evaluating The Differential Privacy of a Function\n",
    "\n",
    "Intuitively, we want to be able to query our database and evaluate whether or not the result of the query is leaking \"private\" information. As mentioned previously, this is about evaluating whether the output of a query changes when we remove someone from the database. Specifically, we want to evaluate the *maximum* amount the query changes when someone is removed (maximum over all possible people who could be removed). So, in order to evaluate how much privacy is leaked, we're going to iterate over each person in the database and measure the difference in the output of the query relative to when we query the entire database. \n",
    "\n",
    "Just for the sake of argument, let's make our first \"database query\" a simple sum. Aka, we're going to count the number of 1s in the database."
   ]
  },
  {
   "cell_type": "code",
   "execution_count": 12,
   "metadata": {},
   "outputs": [],
   "source": [
    "db, pdbs = create_db_and_parallels(5000)"
   ]
  },
  {
   "cell_type": "code",
   "execution_count": 13,
   "metadata": {},
   "outputs": [],
   "source": [
    "def query(db):\n",
    "    return db.sum()"
   ]
  },
  {
   "cell_type": "code",
   "execution_count": 14,
   "metadata": {},
   "outputs": [],
   "source": [
    "full_db_result = query(db)"
   ]
  },
  {
   "cell_type": "code",
   "execution_count": 15,
   "metadata": {},
   "outputs": [],
   "source": [
    "sensitivity = 0\n",
    "for pdb in pdbs:\n",
    "    pdb_result = query(pdb)\n",
    "    \n",
    "    db_distance = torch.abs(pdb_result - full_db_result)\n",
    "    \n",
    "    if(db_distance > sensitivity):\n",
    "        sensitivity = db_distance"
   ]
  },
  {
   "cell_type": "code",
   "execution_count": 16,
   "metadata": {},
   "outputs": [
    {
     "data": {
      "text/plain": [
       "tensor(1)"
      ]
     },
     "execution_count": 16,
     "metadata": {},
     "output_type": "execute_result"
    }
   ],
   "source": [
    "sensitivity"
   ]
  },
  {
   "cell_type": "markdown",
   "metadata": {},
   "source": [
    "# Project - Evaluating the Privacy of a Function\n",
    "\n",
    "In the last section, we measured the difference between each parallel db's query result and the query result for the entire database and then calculated the max value (which was 1). This value is called \"sensitivity\", and it corresponds to the function we chose for the query. Namely, the \"sum\" query will always have a sensitivity of exactly 1. However, we can also calculate sensitivity for other functions as well.\n",
    "\n",
    "Let's try to calculate sensitivity for the \"mean\" function."
   ]
  },
  {
   "cell_type": "code",
   "execution_count": 7,
   "metadata": {},
   "outputs": [],
   "source": [
    "def query(db):\n",
    "    return torch.mean(db.float())"
   ]
  },
  {
   "cell_type": "code",
   "execution_count": 5,
   "metadata": {},
   "outputs": [],
   "source": [
    "def sensitivity(query, n_entries):\n",
    "    db, pdbs = create_db_and_parallels(5000)\n",
    "    \n",
    "    full_db_result = query(db)\n",
    "    \n",
    "    sensitivity = 0\n",
    "    for pdb in pdbs:\n",
    "        pdb_result = query(pdb)\n",
    "\n",
    "        db_distance = torch.abs(pdb_result - full_db_result)\n",
    "\n",
    "        if(db_distance > sensitivity):\n",
    "            sensitivity = db_distance\n",
    "    return sensitivity"
   ]
  },
  {
   "cell_type": "code",
   "execution_count": 8,
   "metadata": {},
   "outputs": [
    {
     "data": {
      "text/plain": [
       "tensor(0.0001)"
      ]
     },
     "execution_count": 8,
     "metadata": {},
     "output_type": "execute_result"
    }
   ],
   "source": [
    "sensitivity(query, 5000)"
   ]
  },
  {
   "cell_type": "markdown",
   "metadata": {},
   "source": [
    "Wow! That sensitivity is WAY lower. Note the intuition here. \"Sensitivity\" is measuring how sensitive the output of the query is to a person being removed from the database. For a simple sum, this is always 1, but for the mean, removing a person is going to change the result of the query by rougly 1 divided by the size of the database (which is much smaller). Thus, \"mean\" is a VASTLY less \"sensitive\" function (query) than SUM."
   ]
  },
  {
   "cell_type": "markdown",
   "metadata": {},
   "source": [
    "# Project: Calculate L1 Sensitivity For Threshold\n",
    "\n",
    "In this first project, I want you to calculate the sensitivty for the \"threshold\" function. \n",
    "\n",
    "- First compute the sum over the database (i.e. sum(db)) and return whether that sum is greater than a certain threshold.\n",
    "- Then, I want you to create databases of size 10 and threshold of 5 and calculate the sensitivity of the function. \n",
    "- Finally, re-initialize the database 10 times and calculate the sensitivity each time."
   ]
  },
  {
   "cell_type": "code",
   "execution_count": 22,
   "metadata": {},
   "outputs": [],
   "source": [
    "def query(db, threshold):\n",
    "    return (db.sum() > threshold).float()"
   ]
  },
  {
   "cell_type": "code",
   "execution_count": 23,
   "metadata": {},
   "outputs": [],
   "source": [
    "def create_dbs(n_entries):\n",
    "    dbs = list()\n",
    "    for i in range(n_entries):\n",
    "        dbs.append(torch.randint(0, 2, size=(n_entries,)))\n",
    "    return dbs"
   ]
  },
  {
   "cell_type": "code",
   "execution_count": 24,
   "metadata": {},
   "outputs": [],
   "source": [
    "def sensitivity(query, n_entries):\n",
    "    dbs = create_dbs(n_entries) # pdbs contains 10 databases of size 10\n",
    "    \n",
    "    sensitivities = list()\n",
    "    for db in dbs:\n",
    "        sensitivities.append(query(db, threshold=5))\n",
    "    return sensitivities"
   ]
  },
  {
   "cell_type": "code",
   "execution_count": 25,
   "metadata": {},
   "outputs": [
    {
     "data": {
      "text/plain": [
       "[tensor(0.),\n",
       " tensor(0.),\n",
       " tensor(1.),\n",
       " tensor(0.),\n",
       " tensor(1.),\n",
       " tensor(0.),\n",
       " tensor(1.),\n",
       " tensor(1.),\n",
       " tensor(0.),\n",
       " tensor(0.)]"
      ]
     },
     "execution_count": 25,
     "metadata": {},
     "output_type": "execute_result"
    }
   ],
   "source": [
    "sensitivity(query, 10)"
   ]
  },
  {
   "cell_type": "markdown",
   "metadata": {},
   "source": [
    "# Lesson: A Basic Differencing Attack\n",
    "\n",
    "Sadly none of the functions we've looked at so far are differentially private (despite them having varying levels of sensitivity). The most basic type of attack can be done as follows.\n",
    "\n",
    "Let's say we wanted to figure out a specific person's value in the database. All we would have to do is query for the sum of the entire database and then the sum of the entire database without that person!\n",
    "\n",
    "# Project: Perform a Differencing Attack on Row 10\n",
    "\n",
    "In this project, I want you to construct a database and then demonstrate how you can use two different sum queries to explose the value of the person represented by row 10 in the database (note, you'll need to use a database with at least 10 rows)"
   ]
  },
  {
   "cell_type": "code",
   "execution_count": 26,
   "metadata": {},
   "outputs": [],
   "source": [
    "def query_sum(db):\n",
    "    return db.sum()"
   ]
  },
  {
   "cell_type": "code",
   "execution_count": 43,
   "metadata": {},
   "outputs": [],
   "source": [
    "def query_sum_threshold(db, threshold=4):\n",
    "    return (db.sum() > threshold).float()"
   ]
  },
  {
   "cell_type": "code",
   "execution_count": 44,
   "metadata": {},
   "outputs": [],
   "source": [
    "def sensitivity(query, n_entries):\n",
    "    # create a database of size 10\n",
    "    db = torch.randint(0, 2, size=(n_entries,))\n",
    "    \n",
    "    # query on the whole database\n",
    "    db_result = query(db)\n",
    "    \n",
    "    # query on the database without 10th entry\n",
    "    reduced_db_result = query(db[:-1])\n",
    "    \n",
    "    # calculate sensitivity\n",
    "    return torch.abs(db_result-reduced_db_result)"
   ]
  },
  {
   "cell_type": "code",
   "execution_count": 45,
   "metadata": {},
   "outputs": [
    {
     "data": {
      "text/plain": [
       "tensor(1)"
      ]
     },
     "execution_count": 45,
     "metadata": {},
     "output_type": "execute_result"
    }
   ],
   "source": [
    "sensitivity(query_sum, 10)"
   ]
  },
  {
   "cell_type": "code",
   "execution_count": 46,
   "metadata": {},
   "outputs": [
    {
     "data": {
      "text/plain": [
       "tensor(0.)"
      ]
     },
     "execution_count": 46,
     "metadata": {},
     "output_type": "execute_result"
    }
   ],
   "source": [
    "sensitivity(query_sum_threshold, 10)"
   ]
  },
  {
   "cell_type": "markdown",
   "metadata": {},
   "source": [
    "# Project: Local Differential Privacy\n",
    "\n",
    "As you can see, the basic sum query is not differentially private at all! In truth, differential privacy always requires a form of randomness added to the query. Let me show you what I mean.\n",
    "\n",
    "### Randomized Response (Local Differential Privacy)\n",
    "\n",
    "Let's say I have a group of people I wish to survey about a very taboo behavior which I think they will lie about (say, I want to know if they have ever committed a certain kind of crime). I'm not a policeman, I'm just trying to collect statistics to understand the higher level trend in society. So, how do we do this? One technique is to add randomness to each person's response by giving each person the following instructions (assuming I'm asking a simple yes/no question):\n",
    "\n",
    "- Flip a coin 2 times.\n",
    "- If the first coin flip is heads, answer honestly\n",
    "- If the first coin flip is tails, answer according to the second coin flip (heads for yes, tails for no)!\n",
    "\n",
    "Thus, each person is now protected with \"plausible deniability\". If they answer \"Yes\" to the question \"have you committed X crime?\", then it might becasue they actually did, or it might be becasue they are answering according to a random coin flip. Each person has a high degree of protection. Furthermore, we can recover the underlying statistics with some accuracy, as the \"true statistics\" are simply averaged with a 50% probability. Thus, if we collect a bunch of samples and it turns out that 60% of people answer yes, then we know that the TRUE distribution is actually centered around 70%, because 70% averaged wtih 50% (a coin flip) is 60% which is the result we obtained. \n",
    "\n",
    "However, it should be noted that, especially when we only have a few samples, this comes at the cost of accuracy. This tradeoff exists across all of Differential Privacy. The greater the privacy protection (plausible deniability) the less accurate the results. \n",
    "\n",
    "Let's implement this local DP for our database before!"
   ]
  },
  {
   "cell_type": "code",
   "execution_count": 2,
   "metadata": {},
   "outputs": [],
   "source": [
    "# create a database\n",
    "db = torch.randint(0, 2, size=(1000,)) "
   ]
  },
  {
   "cell_type": "code",
   "execution_count": 4,
   "metadata": {},
   "outputs": [],
   "source": [
    "def query(database):\n",
    "    return torch.mean(database.float())"
   ]
  },
  {
   "cell_type": "code",
   "execution_count": 6,
   "metadata": {},
   "outputs": [],
   "source": [
    "def report_query(n_entries):\n",
    "    db = torch.randint(0, 2, size=(n_entries,))\n",
    "    first_flip = torch.randint(0, 2, size=(n_entries,))\n",
    "    second_flip = torch.randint(0, 2, size=(n_entries,))\n",
    "    augmented_db = db*first_flip + (1 - first_flip)*second_flip   \n",
    "                                \n",
    "    db_result = query(db)\n",
    "    augmented_db_result = query(augmented_db)*2 - 0.5\n",
    "    return db_result, augmented_db_result "
   ]
  },
  {
   "cell_type": "code",
   "execution_count": 7,
   "metadata": {},
   "outputs": [
    {
     "name": "stdout",
     "output_type": "stream",
     "text": [
      "(tensor(0.8000), tensor(0.5000))\n"
     ]
    }
   ],
   "source": [
    "print(report_query(10))"
   ]
  },
  {
   "cell_type": "code",
   "execution_count": 8,
   "metadata": {},
   "outputs": [
    {
     "name": "stdout",
     "output_type": "stream",
     "text": [
      "(tensor(0.5300), tensor(0.6200))\n"
     ]
    }
   ],
   "source": [
    "print(report_query(100))"
   ]
  },
  {
   "cell_type": "code",
   "execution_count": 9,
   "metadata": {},
   "outputs": [
    {
     "name": "stdout",
     "output_type": "stream",
     "text": [
      "(tensor(0.5160), tensor(0.5100))\n"
     ]
    }
   ],
   "source": [
    "print(report_query(1000))"
   ]
  },
  {
   "cell_type": "code",
   "execution_count": 10,
   "metadata": {},
   "outputs": [
    {
     "name": "stdout",
     "output_type": "stream",
     "text": [
      "(tensor(0.5016), tensor(0.5046))\n"
     ]
    }
   ],
   "source": [
    "print(report_query(10000))"
   ]
  },
  {
   "cell_type": "markdown",
   "metadata": {},
   "source": [
    "# Project: Varying Amounts of Noise\n",
    "\n",
    "In this project, I want you to augment the randomized response query (the one we just wrote) to allow for varying amounts of randomness to be added. Specifically, I want you to bias the coin flip to be higher or lower and then run the same experiment. \n",
    "\n",
    "Note - this one is a bit tricker than you might expect. You need to both adjust the likelihood of the first coin flip AND the de-skewing at the end (where we create the \"augmented_result\" variable)."
   ]
  },
  {
   "cell_type": "code",
   "execution_count": 11,
   "metadata": {},
   "outputs": [],
   "source": [
    "def query(database):\n",
    "    return torch.mean(database.float())"
   ]
  },
  {
   "cell_type": "code",
   "execution_count": 14,
   "metadata": {},
   "outputs": [],
   "source": [
    "def report_query(n_entries, noise):\n",
    "    \n",
    "    \"noise: how likely the first flip will be 1\"\n",
    "    \n",
    "    db = torch.randint(0, 2, size=(n_entries,))\n",
    "    \n",
    "    first_flip = (torch.rand(len(db)) > (1 - noise)).float() # random numbers from a uniform distribution on the interval [0, 1)\n",
    "    second_flip = (torch.rand(len(db)) > 0.5).float()\n",
    "    \n",
    "    augmented_db = db*first_flip + (1 - first_flip)*second_flip   \n",
    "                                \n",
    "    db_result = query(db)\n",
    "    \n",
    "    augmented_db_result = (query(augmented_db) - 0.5*(1-noise))/noise\n",
    "    \n",
    "    return db_result, augmented_db_result "
   ]
  },
  {
   "cell_type": "code",
   "execution_count": 15,
   "metadata": {},
   "outputs": [],
   "source": [
    "# if noise = 0.3: 70% the chance the first flip will be 1"
   ]
  },
  {
   "cell_type": "code",
   "execution_count": 26,
   "metadata": {},
   "outputs": [
    {
     "data": {
      "text/plain": [
       "(tensor(0.4400), tensor(0.4000))"
      ]
     },
     "execution_count": 26,
     "metadata": {},
     "output_type": "execute_result"
    }
   ],
   "source": [
    "report_query(n_entries=100, noise=0.1)"
   ]
  },
  {
   "cell_type": "code",
   "execution_count": 27,
   "metadata": {},
   "outputs": [
    {
     "data": {
      "text/plain": [
       "(tensor(0.5000), tensor(0.7500))"
      ]
     },
     "execution_count": 27,
     "metadata": {},
     "output_type": "execute_result"
    }
   ],
   "source": [
    "report_query(n_entries=100, noise=0.2)"
   ]
  },
  {
   "cell_type": "code",
   "execution_count": 28,
   "metadata": {},
   "outputs": [
    {
     "data": {
      "text/plain": [
       "(tensor(0.4900), tensor(0.4500))"
      ]
     },
     "execution_count": 28,
     "metadata": {},
     "output_type": "execute_result"
    }
   ],
   "source": [
    "report_query(n_entries=100, noise=0.4)"
   ]
  },
  {
   "cell_type": "code",
   "execution_count": 29,
   "metadata": {},
   "outputs": [
    {
     "data": {
      "text/plain": [
       "(tensor(0.4900), tensor(0.5125))"
      ]
     },
     "execution_count": 29,
     "metadata": {},
     "output_type": "execute_result"
    }
   ],
   "source": [
    "report_query(n_entries=100, noise=0.8)"
   ]
  },
  {
   "cell_type": "code",
   "execution_count": 30,
   "metadata": {},
   "outputs": [
    {
     "data": {
      "text/plain": [
       "(tensor(0.5000), tensor(0.5000))"
      ]
     },
     "execution_count": 30,
     "metadata": {},
     "output_type": "execute_result"
    }
   ],
   "source": [
    "report_query(n_entries=100, noise=1)"
   ]
  },
  {
   "cell_type": "code",
   "execution_count": 34,
   "metadata": {},
   "outputs": [
    {
     "data": {
      "text/plain": [
       "(tensor(0.4977), tensor(0.5220))"
      ]
     },
     "execution_count": 34,
     "metadata": {},
     "output_type": "execute_result"
    }
   ],
   "source": [
    "report_query(n_entries=10000, noise=0.1)"
   ]
  },
  {
   "cell_type": "code",
   "execution_count": 35,
   "metadata": {},
   "outputs": [
    {
     "data": {
      "text/plain": [
       "(tensor(0.4999), tensor(0.5200))"
      ]
     },
     "execution_count": 35,
     "metadata": {},
     "output_type": "execute_result"
    }
   ],
   "source": [
    "report_query(n_entries=10000, noise=0.2)"
   ]
  },
  {
   "cell_type": "code",
   "execution_count": 36,
   "metadata": {},
   "outputs": [
    {
     "data": {
      "text/plain": [
       "(tensor(0.5001), tensor(0.4940))"
      ]
     },
     "execution_count": 36,
     "metadata": {},
     "output_type": "execute_result"
    }
   ],
   "source": [
    "report_query(n_entries=10000, noise=0.4)"
   ]
  },
  {
   "cell_type": "markdown",
   "metadata": {},
   "source": [
    "# Lesson: The Formal Definition of Differential Privacy\n",
    "\n",
    "The previous method of adding noise was called \"Local Differentail Privacy\" because we added noise to each datapoint individually. This is necessary for some situations wherein the data is SO sensitive that individuals do not trust noise to be added later. However, it comes at a very high cost in terms of accuracy. \n",
    "\n",
    "However, alternatively we can add noise AFTER data has been aggregated by a function. This kind of noise can allow for similar levels of protection with a lower affect on accuracy. However, participants must be able to trust that no-one looked at their datapoints _before_ the aggregation took place. In some situations this works out well, in others (such as an individual hand-surveying a group of people), this is less realistic.\n",
    "\n",
    "Nevertheless, global differential privacy is incredibly important because it allows us to perform differential privacy on smaller groups of individuals with lower amounts of noise. Let's revisit our sum functions."
   ]
  },
  {
   "cell_type": "code",
   "execution_count": 5,
   "metadata": {},
   "outputs": [
    {
     "data": {
      "text/plain": [
       "tensor(45.)"
      ]
     },
     "execution_count": 5,
     "metadata": {},
     "output_type": "execute_result"
    }
   ],
   "source": [
    "db, pdbs = create_db_and_parallels(100)\n",
    "\n",
    "def query(db):\n",
    "    return torch.sum(db.float())\n",
    "\n",
    "def M(db):\n",
    "    query(db) + noise\n",
    "\n",
    "query(db)"
   ]
  },
  {
   "cell_type": "markdown",
   "metadata": {},
   "source": [
    "So the idea here is that we want to add noise to the output of our function. We actually have two different kinds of noise we can add - Laplacian Noise or Gaussian Noise. However, before we do so at this point we need to dive into the formal definition of Differential Privacy.\n",
    "\n",
    "![alt text](dp_formula.png \"Title\")"
   ]
  },
  {
   "cell_type": "markdown",
   "metadata": {},
   "source": [
    "_Image From: \"The Algorithmic Foundations of Differential Privacy\" - Cynthia Dwork and Aaron Roth - https://www.cis.upenn.edu/~aaroth/Papers/privacybook.pdf_"
   ]
  },
  {
   "cell_type": "markdown",
   "metadata": {},
   "source": [
    "This definition does not _create_ differential privacy, instead it is a measure of how much privacy is afforded by a query M. Specifically, it's a comparison between running the query M on a database (x) and a parallel database (y). As you remember, parallel databases are defined to be the same as a full database (x) with one entry/person removed.\n",
    "\n",
    "Thus, this definition says that FOR ALL parallel databases, the maximum distance between a query on database (x) and the same query on database (y) will be e^epsilon, but that occasionally this constraint won't hold with probability delta. Thus, this theorem is called \"epsilon delta\" differential privacy.\n",
    "\n",
    "# Epsilon\n",
    "\n",
    "Let's unpack the intuition of this for a moment. \n",
    "\n",
    "Epsilon Zero: If a query satisfied this inequality where epsilon was set to 0, then that would mean that the query for all parallel databases outputed the exact same value as the full database. As you may remember, when we calculated the \"threshold\" function, often the Sensitivity was 0. In that case, the epsilon also happened to be zero.\n",
    "\n",
    "Epsilon One: If a query satisfied this inequality with epsilon 1, then the maximum distance between all queries would be 1 - or more precisely - the maximum distance between the two random distributions M(x) and M(y) is 1 (because all these queries have some amount of randomness in them, just like we observed in the last section).\n",
    "\n",
    "# Delta\n",
    "\n",
    "Delta is basically the probability that epsilon breaks. Namely, sometimes the epsilon is different for some queries than it is for others. For example, you may remember when we were calculating the sensitivity of threshold, most of the time sensitivity was 0 but sometimes it was 1. Thus, we could calculate this as \"epsilon zero but non-zero delta\" which would say that epsilon is perfect except for some probability of the time when it's arbitrarily higher. Note that this expression doesn't represent the full tradeoff between epsilon and delta."
   ]
  },
  {
   "cell_type": "markdown",
   "metadata": {},
   "source": [
    "# Lesson: How To Add Noise for Global Differential Privacy\n",
    "\n",
    "In this lesson, we're going to learn about how to take a query and add varying amounts of noise so that it satisfies a certain degree of differential privacy. In particular, we're going to leave behind the Local Differential privacy previously discussed and instead opt to focus on Global differential privacy. \n",
    "\n",
    "So, to sum up, this lesson is about adding noise to the output of our query so that it satisfies a certain epsilon-delta differential privacy threshold.\n",
    "\n",
    "There are two kinds of noise we can add - Gaussian Noise or Laplacian Noise. Generally speaking Laplacian is better, but both are still valid. Now to the hard question...\n",
    "\n",
    "### How much noise should we add?\n",
    "\n",
    "The amount of noise necessary to add to the output of a query is a function of four things:\n",
    "\n",
    "- the type of noise (Gaussian/Laplacian)\n",
    "- the sensitivity of the query/function\n",
    "- the desired epsilon (ε)\n",
    "- the desired delta (δ)\n",
    "\n",
    "Thus, for each type of noise we're adding, we have different way of calculating how much to add as a function of sensitivity, epsilon, and delta. We're going to focus on Laplacian noise. Laplacian noise is increased/decreased according to a \"scale\" parameter b. We choose \"b\" based on the following formula.\n",
    "\n",
    "b = sensitivity(query) / epsilon\n",
    "\n",
    "In other words, if we set b to be this value, then we know that we will have a privacy leakage of <= epsilon. Furthermore, the nice thing about Laplace is that it guarantees this with delta == 0. There are some tunings where we can have very low epsilon where delta is non-zero, but we'll ignore them for now.\n",
    "\n",
    "### Querying Repeatedly\n",
    "\n",
    "- if we query the database multiple times - we can simply add the epsilons (Even if we change the amount of noise and their epsilons are not the same)."
   ]
  },
  {
   "cell_type": "markdown",
   "metadata": {},
   "source": [
    "# Project: Create a Differentially Private Query\n",
    "\n",
    "In this project, I want you to take what you learned in the previous lesson and create a query function which sums over the database and adds just the right amount of noise such that it satisfies an epsilon constraint. Write a query for both \"sum\" and for \"mean\". Ensure that you use the correct sensitivity measures for both."
   ]
  },
  {
   "cell_type": "code",
   "execution_count": 7,
   "metadata": {},
   "outputs": [],
   "source": [
    "def query_sum(db):\n",
    "    return torch.sum(db.float())"
   ]
  },
  {
   "cell_type": "code",
   "execution_count": 8,
   "metadata": {},
   "outputs": [],
   "source": [
    "def query_mean(db):\n",
    "    return torch.mean(db.float())"
   ]
  },
  {
   "cell_type": "code",
   "execution_count": 38,
   "metadata": {},
   "outputs": [],
   "source": [
    "db, pdbs = create_db_and_parallels(5000)"
   ]
  },
  {
   "cell_type": "code",
   "execution_count": 39,
   "metadata": {},
   "outputs": [],
   "source": [
    "def laplacian_mechanism(query, db, sensitivity, epsilon):\n",
    "    beta = sensitivity/epsilon\n",
    "    noise = torch.tensor(np.random.laplace(0, beta, 1))\n",
    "    return query(db) + noise"
   ]
  },
  {
   "cell_type": "code",
   "execution_count": 40,
   "metadata": {},
   "outputs": [
    {
     "data": {
      "text/plain": [
       "tensor([2492.6993], dtype=torch.float64)"
      ]
     },
     "execution_count": 40,
     "metadata": {},
     "output_type": "execute_result"
    }
   ],
   "source": [
    "laplacian_mechanism(query_sum, db, 1, 1)"
   ]
  },
  {
   "cell_type": "code",
   "execution_count": 41,
   "metadata": {},
   "outputs": [
    {
     "data": {
      "text/plain": [
       "tensor([0.4988], dtype=torch.float64)"
      ]
     },
     "execution_count": 41,
     "metadata": {},
     "output_type": "execute_result"
    }
   ],
   "source": [
    "laplacian_mechanism(query_mean, db, 1/5000, 1)"
   ]
  },
  {
   "cell_type": "code",
   "execution_count": 43,
   "metadata": {},
   "outputs": [
    {
     "data": {
      "text/plain": [
       "tensor([2326.1991], dtype=torch.float64)"
      ]
     },
     "execution_count": 43,
     "metadata": {},
     "output_type": "execute_result"
    }
   ],
   "source": [
    "# reduce epsilon - noise is more spread out\n",
    "laplacian_mechanism(query_sum, db, 1, 0.001)"
   ]
  },
  {
   "cell_type": "code",
   "execution_count": 44,
   "metadata": {},
   "outputs": [
    {
     "data": {
      "text/plain": [
       "tensor([0.3998], dtype=torch.float64)"
      ]
     },
     "execution_count": 44,
     "metadata": {},
     "output_type": "execute_result"
    }
   ],
   "source": [
    "laplacian_mechanism(query_mean, db, 1/5000, 0.001)"
   ]
  },
  {
   "cell_type": "markdown",
   "metadata": {},
   "source": [
    "# Lesson: Differential Privacy for Deep Learning\n",
    "\n",
    "So in the last lessons you may have been wondering - what does all of this have to do with Deep Learning? Well, these same techniques we were just studying form the core primitives for how Differential Privacy provides guarantees in the context of Deep Learning. \n",
    "\n",
    "Previously, we defined perfect privacy as \"a query to a database returns the same value even if we remove any person from the database\", and used this intuition in the description of epsilon/delta. In the context of deep learning we have a similar standard.\n",
    "\n",
    "Training a model on a dataset should return the same model even if we remove any person from the dataset.\n",
    "\n",
    "Thus, we've replaced \"querying a database\" with \"training a model on a dataset\". In essence, the training process is a kind of query. However, one should note that this adds two points of complexity which database queries did not have:\n",
    "\n",
    "    1. do we always know where \"people\" are referenced in the dataset?\n",
    "    2. neural models rarely never train to the same output model, even on identical data\n",
    "\n",
    "The answer to (1) is to treat each training example as a single, separate person. Strictly speaking, this is often overly zealous as some training examples have no relevance to people and others may have multiple/partial (consider an image with multiple people contained within it). Thus, localizing exactly where \"people\" are referenced, and thus how much your model would change if people were removed, is challenging.\n",
    "\n",
    "The answer to (2) is also an open problem - but several interesitng proposals have been made. We're going to focus on one of the most popular proposals, PATE.\n",
    "\n",
    "## An Example Scenario: A Health Neural Network\n",
    "\n",
    "First we're going to consider a scenario - you work for a hospital and you have a large collection of images about your patients. However, you don't know what's in them. You would like to use these images to develop a neural network which can automatically classify them, however since your images aren't labeled, they aren't sufficient to train a classifier. \n",
    "\n",
    "However, being a cunning strategist, you realize that you can reach out to 10 partner hospitals which DO have annotated data. It is your hope to train your new classifier on their datasets so that you can automatically label your own. While these hospitals are interested in helping, they have privacy concerns regarding information about their patients. Thus, you will use the following technique to train a classifier which protects the privacy of patients in the other hospitals.\n",
    "\n",
    "- 1) You'll ask each of the 10 hospitals to train a model on their own datasets (All of which have the same kinds of labels)\n",
    "- 2) You'll then use each of the 10 partner models to predict on your local dataset, generating 10 labels for each of your datapoints\n",
    "- 3) Then, for each local data point (now with 10 labels), you will perform a DP query to generate the final true label. This query is a \"max\" function, where \"max\" is the most frequent label across the 10 labels. We will need to add laplacian noise to make this Differentially Private to a certain epsilon/delta constraint.\n",
    "- 4) Finally, we will retrain a new model on our local dataset which now has labels. This will be our final \"DP\" model.\n",
    "\n",
    "So, let's walk through these steps. I will assume you're already familiar with how to train/predict a deep neural network, so we'll skip steps 1 and 2 and work with example data. We'll focus instead on step 3, namely how to perform the DP query for each example using toy data.\n",
    "\n",
    "So, let's say we have 10,000 training examples, and we've got 10 labels for each example (from our 10 \"teacher models\" which were trained directly on private data). Each label is chosen from a set of 10 possible labels (categories) for each image."
   ]
  },
  {
   "cell_type": "code",
   "execution_count": 2,
   "metadata": {},
   "outputs": [],
   "source": [
    "import numpy as np"
   ]
  },
  {
   "cell_type": "code",
   "execution_count": 3,
   "metadata": {},
   "outputs": [],
   "source": [
    "num_teachers = 10 # we're working with 10 partner hospitals\n",
    "num_examples = 10000 # the size of OUR dataset\n",
    "num_labels = 10 # number of lablels for our classifier"
   ]
  },
  {
   "cell_type": "code",
   "execution_count": 19,
   "metadata": {},
   "outputs": [],
   "source": [
    "preds = (np.random.rand(num_teachers, num_examples) * num_labels).astype(int).transpose(1,0) # fake predictions"
   ]
  },
  {
   "cell_type": "code",
   "execution_count": 20,
   "metadata": {},
   "outputs": [
    {
     "data": {
      "text/plain": [
       "array([8, 4, 6, 5, 2, 2, 3, 4, 5, 5])"
      ]
     },
     "execution_count": 20,
     "metadata": {},
     "output_type": "execute_result"
    }
   ],
   "source": [
    "preds[0] # predictions for first example from 10 teacher classifiers"
   ]
  },
  {
   "cell_type": "code",
   "execution_count": 21,
   "metadata": {},
   "outputs": [
    {
     "data": {
      "text/plain": [
       "(10000, 10)"
      ]
     },
     "execution_count": 21,
     "metadata": {},
     "output_type": "execute_result"
    }
   ],
   "source": [
    "preds.shape"
   ]
  },
  {
   "cell_type": "code",
   "execution_count": 22,
   "metadata": {},
   "outputs": [],
   "source": [
    "new_labels = list()\n",
    "for an_image in preds:\n",
    "\n",
    "    label_counts = np.bincount(an_image, minlength=num_labels)\n",
    "\n",
    "    epsilon = 0.1\n",
    "    beta = 1 / epsilon\n",
    "\n",
    "    for i in range(len(label_counts)):\n",
    "        label_counts[i] += np.random.laplace(0, beta, 1) # add noise to prediction counts\n",
    "\n",
    "    new_label = np.argmax(label_counts)\n",
    "    \n",
    "    new_labels.append(new_label)"
   ]
  },
  {
   "cell_type": "code",
   "execution_count": 25,
   "metadata": {},
   "outputs": [
    {
     "data": {
      "text/plain": [
       "10000"
      ]
     },
     "execution_count": 25,
     "metadata": {},
     "output_type": "execute_result"
    }
   ],
   "source": [
    "len(new_labels)"
   ]
  },
  {
   "cell_type": "markdown",
   "metadata": {},
   "source": [
    "# PATE Analysis"
   ]
  },
  {
   "cell_type": "code",
   "execution_count": 2,
   "metadata": {},
   "outputs": [
    {
     "data": {
      "text/plain": [
       "9"
      ]
     },
     "execution_count": 2,
     "metadata": {},
     "output_type": "execute_result"
    }
   ],
   "source": [
    "labels = np.array([9, 9, 3, 6, 9, 9, 9, 9, 8, 2])\n",
    "counts = np.bincount(labels, minlength=10)\n",
    "query_result = np.argmax(counts)\n",
    "query_result"
   ]
  },
  {
   "cell_type": "code",
   "execution_count": 59,
   "metadata": {},
   "outputs": [],
   "source": [
    "from syft.frameworks.torch.differential_privacy import pate"
   ]
  },
  {
   "cell_type": "code",
   "execution_count": 61,
   "metadata": {},
   "outputs": [
    {
     "name": "stdout",
     "output_type": "stream",
     "text": [
      "Warning: May not have used enough values of l. Increase 'moments' variable and run again.\n"
     ]
    }
   ],
   "source": [
    "num_teachers, num_examples, num_labels = (100, 100, 10)\n",
    "preds = (np.random.rand(num_teachers, num_examples) * num_labels).astype(int) #fake preds\n",
    "indices = (np.random.rand(num_examples) * num_labels).astype(int) # true answers\n",
    "\n",
    "preds[:,0:10] *= 0\n",
    "\n",
    "data_dep_eps, data_ind_eps = pate.perform_analysis(teacher_preds=preds, indices=indices, noise_eps=0.1, delta=1e-5)\n",
    "\n",
    "assert data_dep_eps < data_ind_eps\n",
    "\n"
   ]
  },
  {
   "cell_type": "code",
   "execution_count": 64,
   "metadata": {},
   "outputs": [
    {
     "name": "stdout",
     "output_type": "stream",
     "text": [
      "Warning: May not have used enough values of l. Increase 'moments' variable and run again.\n",
      "Data Independent Epsilon: 11.756462732485115\n",
      "Data Dependent Epsilon: 1.52655213289881\n"
     ]
    }
   ],
   "source": [
    "data_dep_eps, data_ind_eps = pate.perform_analysis(teacher_preds=preds, indices=indices, noise_eps=0.1, delta=1e-5)\n",
    "print(\"Data Independent Epsilon:\", data_ind_eps)\n",
    "print(\"Data Dependent Epsilon:\", data_dep_eps)"
   ]
  },
  {
   "cell_type": "code",
   "execution_count": 65,
   "metadata": {},
   "outputs": [],
   "source": [
    "preds[:,0:50] *= 0"
   ]
  },
  {
   "cell_type": "code",
   "execution_count": 66,
   "metadata": {},
   "outputs": [
    {
     "name": "stdout",
     "output_type": "stream",
     "text": [
      "Data Independent Epsilon: 11.756462732485115\n",
      "Data Dependent Epsilon: 0.9029013677789843\n"
     ]
    }
   ],
   "source": [
    "data_dep_eps, data_ind_eps = pate.perform_analysis(teacher_preds=preds, indices=indices, noise_eps=0.1, delta=1e-5, moments=20)\n",
    "print(\"Data Independent Epsilon:\", data_ind_eps)\n",
    "print(\"Data Dependent Epsilon:\", data_dep_eps)"
   ]
  },
  {
   "cell_type": "code",
   "execution_count": null,
   "metadata": {},
   "outputs": [],
   "source": []
  },
  {
   "cell_type": "markdown",
   "metadata": {},
   "source": [
    "# Where to Go From Here\n",
    "\n",
    "\n",
    "Read:\n",
    "    - Algorithmic Foundations of Differential Privacy: https://www.cis.upenn.edu/~aaroth/Papers/privacybook.pdf\n",
    "    - Deep Learning with Differential Privacy: https://arxiv.org/pdf/1607.00133.pdf\n",
    "    - The Ethical Algorithm: https://www.amazon.com/Ethical-Algorithm-Science-Socially-Design/dp/0190948205\n",
    "   \n",
    "Topics:\n",
    "    - The Exponential Mechanism\n",
    "    - The Moment's Accountant\n",
    "    - Differentially Private Stochastic Gradient Descent\n",
    "\n",
    "Advice:\n",
    "    - For deployments - stick with public frameworks!\n",
    "    - Join the Differential Privacy Community\n",
    "    - Don't get ahead of yourself - DP is still in the early days"
   ]
  },
  {
   "cell_type": "markdown",
   "metadata": {},
   "source": [
    "# Section Project:\n",
    "\n",
    "For the final project for this section, you're going to train a DP model using this PATE method on the MNIST dataset, provided below."
   ]
  },
  {
   "cell_type": "markdown",
   "metadata": {},
   "source": [
    "### 1. Load MNIST dataset"
   ]
  },
  {
   "cell_type": "code",
   "execution_count": 68,
   "metadata": {},
   "outputs": [],
   "source": [
    "import torch\n",
    "from torch import nn\n",
    "from torch import optim\n",
    "import torch.nn.functional as F\n",
    "from torchvision import datasets, transforms\n",
    "from torch.utils.data import Subset, DataLoader\n",
    "from torch.utils.data.sampler import SubsetRandomSampler\n",
    "\n",
    "import numpy as np\n",
    "import matplotlib.pyplot as plt"
   ]
  },
  {
   "cell_type": "code",
   "execution_count": 75,
   "metadata": {},
   "outputs": [],
   "source": [
    "transform = transforms.Compose([transforms.ToTensor(),\n",
    "                               transforms.Normalize((0.5,), (0.5,))])\n",
    "teacher_data = datasets.MNIST(root='./data', train=True, download=True, transform=transform)\n",
    "student_data = datasets.MNIST(root='./data', train=False, download=True, transform=transform)"
   ]
  },
  {
   "cell_type": "code",
   "execution_count": 72,
   "metadata": {},
   "outputs": [
    {
     "name": "stdout",
     "output_type": "stream",
     "text": [
      "Number of examples in teacher data: 60000\n",
      "Number of examples in student data: 10000\n"
     ]
    }
   ],
   "source": [
    "print(\"Number of examples in teacher data: \" + str(len(teacher_data)))\n",
    "print(\"Number of examples in student data: \" + str(len(student_data)))"
   ]
  },
  {
   "cell_type": "markdown",
   "metadata": {},
   "source": [
    "I will divide teacher dataset into 200 different teacher subsets, each subset contains 300 samples.\n",
    "\n",
    "I will split each subset into 80% train and 20% validation and will train a classifier. There will be 200 classifiers in total."
   ]
  },
  {
   "cell_type": "markdown",
   "metadata": {},
   "source": [
    "### 2. Train 200 teacher classifiers"
   ]
  },
  {
   "cell_type": "code",
   "execution_count": 26,
   "metadata": {},
   "outputs": [],
   "source": [
    "num_teachers, num_examples, num_labels = 200, 300, 10"
   ]
  },
  {
   "cell_type": "code",
   "execution_count": 27,
   "metadata": {},
   "outputs": [],
   "source": [
    "# define network architecture\n",
    "\n",
    "class Teacher(nn.Module):\n",
    "    def __init__(self):\n",
    "        super().__init__()\n",
    "        self.fc1 = nn.Linear(784, 256)\n",
    "        self.fc2 = nn.Linear(256, 128)\n",
    "        self.fc3 = nn.Linear(128, 64)\n",
    "        self.fc4 = nn.Linear(64, 10)\n",
    "    \n",
    "    def forward(self, x):\n",
    "        # flatten input tensor\n",
    "        x = x.view(x.shape[0], -1)\n",
    "        \n",
    "        x = F.relu(self.fc1(x))\n",
    "        x = F.relu(self.fc2(x))\n",
    "        x = F.relu(self.fc3(x))\n",
    "        x = F.log_softmax(self.fc4(x), dim=1)\n",
    "        \n",
    "        return x"
   ]
  },
  {
   "cell_type": "code",
   "execution_count": 29,
   "metadata": {},
   "outputs": [],
   "source": [
    "# initialize 200 teacher classifiers\n",
    "\n",
    "classifiers = []\n",
    "for i in range(num_teachers):\n",
    "    classifiers.append(Teacher())"
   ]
  },
  {
   "cell_type": "code",
   "execution_count": 37,
   "metadata": {},
   "outputs": [],
   "source": [
    "# define some hyperparameters\n",
    "batch_size = 64\n",
    "epochs = 30\n",
    "print_every = 5"
   ]
  },
  {
   "cell_type": "code",
   "execution_count": 82,
   "metadata": {},
   "outputs": [
    {
     "name": "stdout",
     "output_type": "stream",
     "text": [
      "Training teacher classifier: 1...\n",
      "Epoch: 5\tTraining loss: 1.4637\tTest loss: 6.2646\tTest accuracy: 0.9667.\n",
      "Epoch: 10\tTraining loss: 0.2616\tTest loss: 4.2905\tTest accuracy: 0.9833.\n",
      "Epoch: 15\tTraining loss: 0.0672\tTest loss: 3.2211\tTest accuracy: 0.9667.\n",
      "Epoch: 20\tTraining loss: 0.0302\tTest loss: 3.2978\tTest accuracy: 0.9833.\n",
      "Epoch: 25\tTraining loss: 0.0183\tTest loss: 2.9324\tTest accuracy: 0.9833.\n",
      "Epoch: 30\tTraining loss: 0.0127\tTest loss: 3.3265\tTest accuracy: 0.9667.\n",
      "Training teacher classifier: 2...\n",
      "Epoch: 5\tTraining loss: 7.3138\tTest loss: 9.2503\tTest accuracy: 0.9500.\n",
      "Epoch: 10\tTraining loss: 0.6189\tTest loss: 7.5143\tTest accuracy: 0.9667.\n",
      "Epoch: 15\tTraining loss: 0.1156\tTest loss: 4.5444\tTest accuracy: 0.9667.\n",
      "Epoch: 20\tTraining loss: 0.0518\tTest loss: 7.3627\tTest accuracy: 0.9667.\n",
      "Epoch: 25\tTraining loss: 0.0345\tTest loss: 6.6524\tTest accuracy: 0.9500.\n",
      "Epoch: 30\tTraining loss: 0.0257\tTest loss: 6.7031\tTest accuracy: 0.9500.\n",
      "Training teacher classifier: 3...\n",
      "Epoch: 5\tTraining loss: 13.9059\tTest loss: 18.1509\tTest accuracy: 0.9333.\n",
      "Epoch: 10\tTraining loss: 2.6361\tTest loss: 10.1568\tTest accuracy: 0.9500.\n",
      "Epoch: 15\tTraining loss: 0.6255\tTest loss: 13.9430\tTest accuracy: 0.9333.\n",
      "Epoch: 20\tTraining loss: 0.1907\tTest loss: 16.1568\tTest accuracy: 0.9333.\n",
      "Epoch: 25\tTraining loss: 0.1055\tTest loss: 15.8582\tTest accuracy: 0.9333.\n",
      "Epoch: 30\tTraining loss: 0.0755\tTest loss: 16.7323\tTest accuracy: 0.9333.\n",
      "Training teacher classifier: 4...\n",
      "Epoch: 5\tTraining loss: 12.7474\tTest loss: 18.0933\tTest accuracy: 0.9167.\n",
      "Epoch: 10\tTraining loss: 2.7934\tTest loss: 9.5716\tTest accuracy: 0.9333.\n",
      "Epoch: 15\tTraining loss: 0.5848\tTest loss: 6.5489\tTest accuracy: 0.9667.\n",
      "Epoch: 20\tTraining loss: 0.2053\tTest loss: 5.9221\tTest accuracy: 0.9667.\n",
      "Epoch: 25\tTraining loss: 0.1050\tTest loss: 5.9699\tTest accuracy: 0.9500.\n",
      "Epoch: 30\tTraining loss: 0.0666\tTest loss: 6.3645\tTest accuracy: 0.9500.\n",
      "Training teacher classifier: 5...\n",
      "Epoch: 5\tTraining loss: 11.4788\tTest loss: 20.9447\tTest accuracy: 0.9000.\n",
      "Epoch: 10\tTraining loss: 3.8057\tTest loss: 13.3302\tTest accuracy: 0.9167.\n",
      "Epoch: 15\tTraining loss: 0.9637\tTest loss: 15.9392\tTest accuracy: 0.8833.\n",
      "Epoch: 20\tTraining loss: 0.2482\tTest loss: 16.6096\tTest accuracy: 0.9167.\n",
      "Epoch: 25\tTraining loss: 0.1069\tTest loss: 18.6140\tTest accuracy: 0.9167.\n",
      "Epoch: 30\tTraining loss: 0.0681\tTest loss: 19.5217\tTest accuracy: 0.9167.\n",
      "Training teacher classifier: 6...\n",
      "Epoch: 5\tTraining loss: 7.2290\tTest loss: 16.8884\tTest accuracy: 0.9500.\n",
      "Epoch: 10\tTraining loss: 0.5410\tTest loss: 18.0121\tTest accuracy: 0.9500.\n",
      "Epoch: 15\tTraining loss: 0.1133\tTest loss: 24.4823\tTest accuracy: 0.9667.\n",
      "Epoch: 20\tTraining loss: 0.0543\tTest loss: 25.4665\tTest accuracy: 0.9667.\n",
      "Epoch: 25\tTraining loss: 0.0366\tTest loss: 26.0395\tTest accuracy: 0.9667.\n",
      "Epoch: 30\tTraining loss: 0.0278\tTest loss: 26.8931\tTest accuracy: 0.9667.\n",
      "Training teacher classifier: 7...\n",
      "Epoch: 5\tTraining loss: 6.7576\tTest loss: 15.9407\tTest accuracy: 0.8833.\n",
      "Epoch: 10\tTraining loss: 1.8120\tTest loss: 19.9263\tTest accuracy: 0.8833.\n",
      "Epoch: 15\tTraining loss: 0.3227\tTest loss: 24.2417\tTest accuracy: 0.8833.\n",
      "Epoch: 20\tTraining loss: 0.1155\tTest loss: 25.9674\tTest accuracy: 0.9000.\n",
      "Epoch: 25\tTraining loss: 0.0719\tTest loss: 26.0757\tTest accuracy: 0.9000.\n",
      "Epoch: 30\tTraining loss: 0.0496\tTest loss: 26.7796\tTest accuracy: 0.8833.\n",
      "Training teacher classifier: 8...\n",
      "Epoch: 5\tTraining loss: 10.7287\tTest loss: 16.8792\tTest accuracy: 0.9167.\n",
      "Epoch: 10\tTraining loss: 1.3794\tTest loss: 14.2785\tTest accuracy: 0.9500.\n",
      "Epoch: 15\tTraining loss: 0.3588\tTest loss: 18.0560\tTest accuracy: 0.9500.\n",
      "Epoch: 20\tTraining loss: 0.1468\tTest loss: 17.4175\tTest accuracy: 0.9500.\n",
      "Epoch: 25\tTraining loss: 0.0897\tTest loss: 17.7031\tTest accuracy: 0.9500.\n",
      "Epoch: 30\tTraining loss: 0.0639\tTest loss: 17.4104\tTest accuracy: 0.9500.\n",
      "Training teacher classifier: 9...\n",
      "Epoch: 5\tTraining loss: 7.9434\tTest loss: 12.8780\tTest accuracy: 0.9333.\n",
      "Epoch: 10\tTraining loss: 1.0635\tTest loss: 10.9490\tTest accuracy: 0.9667.\n",
      "Epoch: 15\tTraining loss: 0.1977\tTest loss: 12.3218\tTest accuracy: 0.9667.\n",
      "Epoch: 20\tTraining loss: 0.0803\tTest loss: 12.9244\tTest accuracy: 0.9500.\n",
      "Epoch: 25\tTraining loss: 0.0530\tTest loss: 14.2610\tTest accuracy: 0.9667.\n",
      "Epoch: 30\tTraining loss: 0.0399\tTest loss: 14.4901\tTest accuracy: 0.9667.\n",
      "Training teacher classifier: 10...\n",
      "Epoch: 5\tTraining loss: 12.5077\tTest loss: 23.4635\tTest accuracy: 0.9000.\n",
      "Epoch: 10\tTraining loss: 2.9434\tTest loss: 17.5302\tTest accuracy: 0.9167.\n",
      "Epoch: 15\tTraining loss: 0.8655\tTest loss: 19.5040\tTest accuracy: 0.9500.\n",
      "Epoch: 20\tTraining loss: 0.2467\tTest loss: 21.2184\tTest accuracy: 0.9333.\n",
      "Epoch: 25\tTraining loss: 0.1177\tTest loss: 21.4400\tTest accuracy: 0.9333.\n",
      "Epoch: 30\tTraining loss: 0.0734\tTest loss: 22.5563\tTest accuracy: 0.9333.\n",
      "Training teacher classifier: 11...\n",
      "Epoch: 5\tTraining loss: 14.0072\tTest loss: 21.2777\tTest accuracy: 0.9000.\n",
      "Epoch: 10\tTraining loss: 3.1055\tTest loss: 18.0639\tTest accuracy: 0.8833.\n",
      "Epoch: 15\tTraining loss: 0.7599\tTest loss: 12.1449\tTest accuracy: 0.9333.\n",
      "Epoch: 20\tTraining loss: 0.2534\tTest loss: 15.3542\tTest accuracy: 0.9000.\n",
      "Epoch: 25\tTraining loss: 0.1253\tTest loss: 13.1791\tTest accuracy: 0.9333.\n",
      "Epoch: 30\tTraining loss: 0.0805\tTest loss: 12.9056\tTest accuracy: 0.9333.\n",
      "Training teacher classifier: 12...\n",
      "Epoch: 5\tTraining loss: 11.2252\tTest loss: 9.7100\tTest accuracy: 0.9833.\n",
      "Epoch: 10\tTraining loss: 2.2899\tTest loss: 7.3545\tTest accuracy: 0.9500.\n",
      "Epoch: 15\tTraining loss: 0.5137\tTest loss: 5.6842\tTest accuracy: 0.9500.\n",
      "Epoch: 20\tTraining loss: 0.2026\tTest loss: 6.9453\tTest accuracy: 0.9333.\n",
      "Epoch: 25\tTraining loss: 0.1078\tTest loss: 6.5737\tTest accuracy: 0.9333.\n",
      "Epoch: 30\tTraining loss: 0.0685\tTest loss: 6.8396\tTest accuracy: 0.9333.\n",
      "Training teacher classifier: 13...\n",
      "Epoch: 5\tTraining loss: 6.7305\tTest loss: 7.4536\tTest accuracy: 0.9667.\n",
      "Epoch: 10\tTraining loss: 1.2945\tTest loss: 2.2667\tTest accuracy: 0.9833.\n",
      "Epoch: 15\tTraining loss: 0.2931\tTest loss: 1.1359\tTest accuracy: 1.0000.\n",
      "Epoch: 20\tTraining loss: 0.1226\tTest loss: 0.6753\tTest accuracy: 1.0000.\n",
      "Epoch: 25\tTraining loss: 0.0805\tTest loss: 0.5291\tTest accuracy: 1.0000.\n",
      "Epoch: 30\tTraining loss: 0.0607\tTest loss: 0.5103\tTest accuracy: 1.0000.\n",
      "Training teacher classifier: 14...\n",
      "Epoch: 5\tTraining loss: 6.6473\tTest loss: 6.5539\tTest accuracy: 0.9500.\n",
      "Epoch: 10\tTraining loss: 1.3060\tTest loss: 4.5637\tTest accuracy: 0.9667.\n",
      "Epoch: 15\tTraining loss: 0.2700\tTest loss: 4.1588\tTest accuracy: 0.9667.\n",
      "Epoch: 20\tTraining loss: 0.1228\tTest loss: 5.2395\tTest accuracy: 0.9667.\n",
      "Epoch: 25\tTraining loss: 0.0785\tTest loss: 4.9158\tTest accuracy: 0.9667.\n",
      "Epoch: 30\tTraining loss: 0.0561\tTest loss: 5.1889\tTest accuracy: 0.9667.\n",
      "Training teacher classifier: 15...\n",
      "Epoch: 5\tTraining loss: 6.7927\tTest loss: 17.1854\tTest accuracy: 0.9333.\n",
      "Epoch: 10\tTraining loss: 1.2795\tTest loss: 16.2333\tTest accuracy: 0.9500.\n",
      "Epoch: 15\tTraining loss: 0.3050\tTest loss: 17.2132\tTest accuracy: 0.9333.\n",
      "Epoch: 20\tTraining loss: 0.1264\tTest loss: 20.0332\tTest accuracy: 0.9333.\n",
      "Epoch: 25\tTraining loss: 0.0716\tTest loss: 19.8484\tTest accuracy: 0.9333.\n",
      "Epoch: 30\tTraining loss: 0.0462\tTest loss: 20.2767\tTest accuracy: 0.9333.\n",
      "Training teacher classifier: 16...\n",
      "Epoch: 5\tTraining loss: 6.4875\tTest loss: 12.4131\tTest accuracy: 0.9333.\n",
      "Epoch: 10\tTraining loss: 0.8237\tTest loss: 11.6822\tTest accuracy: 0.9500.\n",
      "Epoch: 15\tTraining loss: 0.1586\tTest loss: 7.9718\tTest accuracy: 0.9500.\n",
      "Epoch: 20\tTraining loss: 0.0742\tTest loss: 7.3151\tTest accuracy: 0.9500.\n",
      "Epoch: 25\tTraining loss: 0.0456\tTest loss: 7.3897\tTest accuracy: 0.9500.\n",
      "Epoch: 30\tTraining loss: 0.0318\tTest loss: 7.5370\tTest accuracy: 0.9667.\n",
      "Training teacher classifier: 17...\n",
      "Epoch: 5\tTraining loss: 13.6603\tTest loss: 20.0570\tTest accuracy: 0.9500.\n",
      "Epoch: 10\tTraining loss: 2.0278\tTest loss: 9.4820\tTest accuracy: 0.9333.\n",
      "Epoch: 15\tTraining loss: 0.2951\tTest loss: 8.1748\tTest accuracy: 0.9667.\n",
      "Epoch: 20\tTraining loss: 0.1184\tTest loss: 7.5638\tTest accuracy: 0.9667.\n",
      "Epoch: 25\tTraining loss: 0.0738\tTest loss: 7.6707\tTest accuracy: 0.9667.\n",
      "Epoch: 30\tTraining loss: 0.0532\tTest loss: 7.6355\tTest accuracy: 0.9667.\n",
      "Training teacher classifier: 18...\n",
      "Epoch: 5\tTraining loss: 12.0186\tTest loss: 19.3653\tTest accuracy: 0.9167.\n"
     ]
    },
    {
     "name": "stdout",
     "output_type": "stream",
     "text": [
      "Epoch: 10\tTraining loss: 1.1709\tTest loss: 17.6324\tTest accuracy: 0.9500.\n",
      "Epoch: 15\tTraining loss: 0.2185\tTest loss: 20.7750\tTest accuracy: 0.9500.\n",
      "Epoch: 20\tTraining loss: 0.0961\tTest loss: 20.6903\tTest accuracy: 0.9500.\n",
      "Epoch: 25\tTraining loss: 0.0616\tTest loss: 22.0067\tTest accuracy: 0.9500.\n",
      "Epoch: 30\tTraining loss: 0.0452\tTest loss: 22.6216\tTest accuracy: 0.9500.\n",
      "Training teacher classifier: 19...\n",
      "Epoch: 5\tTraining loss: 7.8773\tTest loss: 7.3084\tTest accuracy: 0.9833.\n",
      "Epoch: 10\tTraining loss: 0.9237\tTest loss: 1.4568\tTest accuracy: 1.0000.\n",
      "Epoch: 15\tTraining loss: 0.2402\tTest loss: 1.4116\tTest accuracy: 0.9833.\n",
      "Epoch: 20\tTraining loss: 0.1110\tTest loss: 1.3534\tTest accuracy: 0.9833.\n",
      "Epoch: 25\tTraining loss: 0.0673\tTest loss: 1.2135\tTest accuracy: 0.9833.\n",
      "Epoch: 30\tTraining loss: 0.0476\tTest loss: 1.0414\tTest accuracy: 1.0000.\n",
      "Training teacher classifier: 20...\n",
      "Epoch: 5\tTraining loss: 4.3273\tTest loss: 5.8816\tTest accuracy: 0.9833.\n",
      "Epoch: 10\tTraining loss: 1.0861\tTest loss: 5.3784\tTest accuracy: 0.9667.\n",
      "Epoch: 15\tTraining loss: 0.2161\tTest loss: 5.3815\tTest accuracy: 0.9500.\n",
      "Epoch: 20\tTraining loss: 0.0979\tTest loss: 4.6767\tTest accuracy: 0.9667.\n",
      "Epoch: 25\tTraining loss: 0.0615\tTest loss: 4.6412\tTest accuracy: 0.9667.\n",
      "Epoch: 30\tTraining loss: 0.0440\tTest loss: 4.6682\tTest accuracy: 0.9667.\n",
      "Training teacher classifier: 21...\n",
      "Epoch: 5\tTraining loss: 12.0053\tTest loss: 12.8320\tTest accuracy: 0.9500.\n",
      "Epoch: 10\tTraining loss: 1.5938\tTest loss: 10.1793\tTest accuracy: 0.9167.\n",
      "Epoch: 15\tTraining loss: 0.2690\tTest loss: 11.4836\tTest accuracy: 0.9000.\n",
      "Epoch: 20\tTraining loss: 0.0756\tTest loss: 10.2951\tTest accuracy: 0.9167.\n",
      "Epoch: 25\tTraining loss: 0.0382\tTest loss: 11.8042\tTest accuracy: 0.9167.\n",
      "Epoch: 30\tTraining loss: 0.0245\tTest loss: 12.4083\tTest accuracy: 0.9167.\n",
      "Training teacher classifier: 22...\n",
      "Epoch: 5\tTraining loss: 9.8174\tTest loss: 20.7580\tTest accuracy: 0.9333.\n",
      "Epoch: 10\tTraining loss: 1.1020\tTest loss: 8.9835\tTest accuracy: 0.9667.\n",
      "Epoch: 15\tTraining loss: 0.1486\tTest loss: 10.8711\tTest accuracy: 0.9333.\n",
      "Epoch: 20\tTraining loss: 0.0550\tTest loss: 11.2590\tTest accuracy: 0.9333.\n",
      "Epoch: 25\tTraining loss: 0.0314\tTest loss: 11.8547\tTest accuracy: 0.9333.\n",
      "Epoch: 30\tTraining loss: 0.0214\tTest loss: 12.2156\tTest accuracy: 0.9333.\n",
      "Training teacher classifier: 23...\n",
      "Epoch: 5\tTraining loss: 10.2580\tTest loss: 19.4074\tTest accuracy: 0.9500.\n",
      "Epoch: 10\tTraining loss: 2.5159\tTest loss: 20.5354\tTest accuracy: 0.9500.\n",
      "Epoch: 15\tTraining loss: 0.5615\tTest loss: 21.8413\tTest accuracy: 0.9667.\n",
      "Epoch: 20\tTraining loss: 0.1611\tTest loss: 24.2581\tTest accuracy: 0.9500.\n",
      "Epoch: 25\tTraining loss: 0.0812\tTest loss: 25.1959\tTest accuracy: 0.9667.\n",
      "Epoch: 30\tTraining loss: 0.0506\tTest loss: 26.6541\tTest accuracy: 0.9667.\n",
      "Training teacher classifier: 24...\n",
      "Epoch: 5\tTraining loss: 10.1237\tTest loss: 14.2090\tTest accuracy: 0.9000.\n",
      "Epoch: 10\tTraining loss: 2.0103\tTest loss: 9.2021\tTest accuracy: 0.9500.\n",
      "Epoch: 15\tTraining loss: 0.4338\tTest loss: 9.2311\tTest accuracy: 0.9333.\n",
      "Epoch: 20\tTraining loss: 0.1513\tTest loss: 10.1863\tTest accuracy: 0.9333.\n",
      "Epoch: 25\tTraining loss: 0.0832\tTest loss: 11.1177\tTest accuracy: 0.9333.\n",
      "Epoch: 30\tTraining loss: 0.0568\tTest loss: 11.4163\tTest accuracy: 0.9333.\n",
      "Training teacher classifier: 25...\n",
      "Epoch: 5\tTraining loss: 13.6274\tTest loss: 19.4746\tTest accuracy: 0.9167.\n",
      "Epoch: 10\tTraining loss: 2.8059\tTest loss: 20.0493\tTest accuracy: 0.9000.\n",
      "Epoch: 15\tTraining loss: 0.8614\tTest loss: 20.1878\tTest accuracy: 0.9000.\n",
      "Epoch: 20\tTraining loss: 0.3657\tTest loss: 20.8094\tTest accuracy: 0.9000.\n",
      "Epoch: 25\tTraining loss: 0.2089\tTest loss: 21.3554\tTest accuracy: 0.9000.\n",
      "Epoch: 30\tTraining loss: 0.1332\tTest loss: 21.8378\tTest accuracy: 0.9000.\n",
      "Training teacher classifier: 26...\n",
      "Epoch: 5\tTraining loss: 14.8973\tTest loss: 19.5480\tTest accuracy: 0.9333.\n",
      "Epoch: 10\tTraining loss: 3.4603\tTest loss: 19.6022\tTest accuracy: 0.9000.\n",
      "Epoch: 15\tTraining loss: 1.1520\tTest loss: 18.3044\tTest accuracy: 0.9500.\n",
      "Epoch: 20\tTraining loss: 0.4256\tTest loss: 23.7877\tTest accuracy: 0.9167.\n",
      "Epoch: 25\tTraining loss: 0.1769\tTest loss: 24.1810\tTest accuracy: 0.9167.\n",
      "Epoch: 30\tTraining loss: 0.1054\tTest loss: 27.7879\tTest accuracy: 0.9167.\n",
      "Training teacher classifier: 27...\n",
      "Epoch: 5\tTraining loss: 13.6889\tTest loss: 14.3526\tTest accuracy: 0.9333.\n",
      "Epoch: 10\tTraining loss: 2.6052\tTest loss: 10.9070\tTest accuracy: 0.9333.\n",
      "Epoch: 15\tTraining loss: 0.6322\tTest loss: 15.3716\tTest accuracy: 0.9333.\n",
      "Epoch: 20\tTraining loss: 0.1823\tTest loss: 19.5792\tTest accuracy: 0.9000.\n",
      "Epoch: 25\tTraining loss: 0.0967\tTest loss: 19.8809\tTest accuracy: 0.9000.\n",
      "Epoch: 30\tTraining loss: 0.0658\tTest loss: 21.4444\tTest accuracy: 0.9000.\n",
      "Training teacher classifier: 28...\n",
      "Epoch: 5\tTraining loss: 8.7163\tTest loss: 23.5000\tTest accuracy: 0.8667.\n",
      "Epoch: 10\tTraining loss: 1.7527\tTest loss: 18.5222\tTest accuracy: 0.8667.\n",
      "Epoch: 15\tTraining loss: 0.3775\tTest loss: 18.7732\tTest accuracy: 0.8667.\n",
      "Epoch: 20\tTraining loss: 0.1488\tTest loss: 16.8226\tTest accuracy: 0.8833.\n",
      "Epoch: 25\tTraining loss: 0.0995\tTest loss: 16.9558\tTest accuracy: 0.8833.\n",
      "Epoch: 30\tTraining loss: 0.0736\tTest loss: 16.8172\tTest accuracy: 0.8833.\n",
      "Training teacher classifier: 29...\n",
      "Epoch: 5\tTraining loss: 12.1701\tTest loss: 28.3031\tTest accuracy: 0.9167.\n",
      "Epoch: 10\tTraining loss: 2.1162\tTest loss: 26.4497\tTest accuracy: 0.9500.\n",
      "Epoch: 15\tTraining loss: 1.0114\tTest loss: 28.3364\tTest accuracy: 0.9167.\n",
      "Epoch: 20\tTraining loss: 0.2706\tTest loss: 35.1212\tTest accuracy: 0.9167.\n",
      "Epoch: 25\tTraining loss: 0.1193\tTest loss: 33.7772\tTest accuracy: 0.9333.\n",
      "Epoch: 30\tTraining loss: 0.0564\tTest loss: 32.3898\tTest accuracy: 0.9167.\n",
      "Training teacher classifier: 30...\n",
      "Epoch: 5\tTraining loss: 8.3593\tTest loss: 43.7812\tTest accuracy: 0.8500.\n",
      "Epoch: 10\tTraining loss: 2.0968\tTest loss: 46.2174\tTest accuracy: 0.8667.\n",
      "Epoch: 15\tTraining loss: 0.5827\tTest loss: 52.7730\tTest accuracy: 0.8500.\n",
      "Epoch: 20\tTraining loss: 0.2403\tTest loss: 57.2906\tTest accuracy: 0.8333.\n",
      "Epoch: 25\tTraining loss: 0.1351\tTest loss: 60.2545\tTest accuracy: 0.8500.\n",
      "Epoch: 30\tTraining loss: 0.0948\tTest loss: 62.5431\tTest accuracy: 0.8500.\n",
      "Training teacher classifier: 31...\n",
      "Epoch: 5\tTraining loss: 9.3660\tTest loss: 34.2269\tTest accuracy: 0.8500.\n",
      "Epoch: 10\tTraining loss: 1.1540\tTest loss: 25.1476\tTest accuracy: 0.9000.\n",
      "Epoch: 15\tTraining loss: 0.1893\tTest loss: 27.2763\tTest accuracy: 0.9000.\n",
      "Epoch: 20\tTraining loss: 0.0777\tTest loss: 31.5804\tTest accuracy: 0.9167.\n",
      "Epoch: 25\tTraining loss: 0.0476\tTest loss: 32.1594\tTest accuracy: 0.9167.\n",
      "Epoch: 30\tTraining loss: 0.0336\tTest loss: 33.0675\tTest accuracy: 0.9167.\n",
      "Training teacher classifier: 32...\n",
      "Epoch: 5\tTraining loss: 5.3354\tTest loss: 17.1143\tTest accuracy: 0.9000.\n",
      "Epoch: 10\tTraining loss: 0.4239\tTest loss: 17.0849\tTest accuracy: 0.9500.\n",
      "Epoch: 15\tTraining loss: 0.1204\tTest loss: 19.5181\tTest accuracy: 0.9000.\n",
      "Epoch: 20\tTraining loss: 0.0643\tTest loss: 19.5390\tTest accuracy: 0.9167.\n",
      "Epoch: 25\tTraining loss: 0.0451\tTest loss: 20.3306\tTest accuracy: 0.9167.\n",
      "Epoch: 30\tTraining loss: 0.0351\tTest loss: 20.7291\tTest accuracy: 0.9167.\n",
      "Training teacher classifier: 33...\n",
      "Epoch: 5\tTraining loss: 7.7106\tTest loss: 24.7711\tTest accuracy: 0.8667.\n",
      "Epoch: 10\tTraining loss: 0.6453\tTest loss: 27.0584\tTest accuracy: 0.9167.\n",
      "Epoch: 15\tTraining loss: 0.1209\tTest loss: 28.1232\tTest accuracy: 0.9000.\n",
      "Epoch: 20\tTraining loss: 0.0590\tTest loss: 28.7606\tTest accuracy: 0.9000.\n",
      "Epoch: 25\tTraining loss: 0.0410\tTest loss: 29.1732\tTest accuracy: 0.9167.\n",
      "Epoch: 30\tTraining loss: 0.0318\tTest loss: 29.4145\tTest accuracy: 0.9000.\n",
      "Training teacher classifier: 34...\n",
      "Epoch: 5\tTraining loss: 6.9243\tTest loss: 14.5453\tTest accuracy: 0.9167.\n",
      "Epoch: 10\tTraining loss: 0.8300\tTest loss: 8.9924\tTest accuracy: 0.9333.\n",
      "Epoch: 15\tTraining loss: 0.1930\tTest loss: 14.5708\tTest accuracy: 0.8833.\n",
      "Epoch: 20\tTraining loss: 0.0959\tTest loss: 12.1032\tTest accuracy: 0.9167.\n",
      "Epoch: 25\tTraining loss: 0.0636\tTest loss: 13.1469\tTest accuracy: 0.9000.\n",
      "Epoch: 30\tTraining loss: 0.0468\tTest loss: 13.0249\tTest accuracy: 0.9167.\n",
      "Training teacher classifier: 35...\n",
      "Epoch: 5\tTraining loss: 10.8986\tTest loss: 26.0719\tTest accuracy: 0.8833.\n",
      "Epoch: 10\tTraining loss: 2.7516\tTest loss: 17.5003\tTest accuracy: 0.9333.\n"
     ]
    },
    {
     "name": "stdout",
     "output_type": "stream",
     "text": [
      "Epoch: 15\tTraining loss: 0.7312\tTest loss: 21.0864\tTest accuracy: 0.9167.\n",
      "Epoch: 20\tTraining loss: 0.2153\tTest loss: 22.5532\tTest accuracy: 0.9167.\n",
      "Epoch: 25\tTraining loss: 0.0989\tTest loss: 23.0296\tTest accuracy: 0.9333.\n",
      "Epoch: 30\tTraining loss: 0.0627\tTest loss: 23.9380\tTest accuracy: 0.9333.\n",
      "Training teacher classifier: 36...\n",
      "Epoch: 5\tTraining loss: 6.5465\tTest loss: 14.0605\tTest accuracy: 0.9167.\n",
      "Epoch: 10\tTraining loss: 1.0143\tTest loss: 14.1654\tTest accuracy: 0.9167.\n",
      "Epoch: 15\tTraining loss: 0.2426\tTest loss: 15.1061\tTest accuracy: 0.9333.\n",
      "Epoch: 20\tTraining loss: 0.0902\tTest loss: 16.4725\tTest accuracy: 0.9500.\n",
      "Epoch: 25\tTraining loss: 0.0535\tTest loss: 15.4297\tTest accuracy: 0.9500.\n",
      "Epoch: 30\tTraining loss: 0.0376\tTest loss: 15.7455\tTest accuracy: 0.9500.\n",
      "Training teacher classifier: 37...\n",
      "Epoch: 5\tTraining loss: 6.1660\tTest loss: 8.6423\tTest accuracy: 0.9500.\n",
      "Epoch: 10\tTraining loss: 1.0852\tTest loss: 9.2011\tTest accuracy: 0.9500.\n",
      "Epoch: 15\tTraining loss: 0.2502\tTest loss: 9.4871\tTest accuracy: 0.9500.\n",
      "Epoch: 20\tTraining loss: 0.1199\tTest loss: 9.7324\tTest accuracy: 0.9333.\n",
      "Epoch: 25\tTraining loss: 0.0821\tTest loss: 9.4564\tTest accuracy: 0.9333.\n",
      "Epoch: 30\tTraining loss: 0.0608\tTest loss: 10.1365\tTest accuracy: 0.9333.\n",
      "Training teacher classifier: 38...\n",
      "Epoch: 5\tTraining loss: 6.0027\tTest loss: 18.2712\tTest accuracy: 0.9167.\n",
      "Epoch: 10\tTraining loss: 0.8952\tTest loss: 14.7830\tTest accuracy: 0.9333.\n",
      "Epoch: 15\tTraining loss: 0.2383\tTest loss: 17.7162\tTest accuracy: 0.9167.\n",
      "Epoch: 20\tTraining loss: 0.0990\tTest loss: 19.2328\tTest accuracy: 0.9167.\n",
      "Epoch: 25\tTraining loss: 0.0610\tTest loss: 19.7591\tTest accuracy: 0.9167.\n",
      "Epoch: 30\tTraining loss: 0.0416\tTest loss: 20.6665\tTest accuracy: 0.9167.\n",
      "Training teacher classifier: 39...\n",
      "Epoch: 5\tTraining loss: 9.1126\tTest loss: 20.7650\tTest accuracy: 0.8833.\n",
      "Epoch: 10\tTraining loss: 2.2467\tTest loss: 15.3301\tTest accuracy: 0.9000.\n",
      "Epoch: 15\tTraining loss: 0.5812\tTest loss: 15.8114\tTest accuracy: 0.9000.\n",
      "Epoch: 20\tTraining loss: 0.2758\tTest loss: 14.8522\tTest accuracy: 0.9167.\n",
      "Epoch: 25\tTraining loss: 0.1746\tTest loss: 15.4023\tTest accuracy: 0.9167.\n",
      "Epoch: 30\tTraining loss: 0.1260\tTest loss: 15.8470\tTest accuracy: 0.9167.\n",
      "Training teacher classifier: 40...\n",
      "Epoch: 5\tTraining loss: 8.9245\tTest loss: 15.3596\tTest accuracy: 0.9167.\n",
      "Epoch: 10\tTraining loss: 1.5440\tTest loss: 11.1013\tTest accuracy: 0.9333.\n",
      "Epoch: 15\tTraining loss: 0.2842\tTest loss: 13.1911\tTest accuracy: 0.9000.\n",
      "Epoch: 20\tTraining loss: 0.1152\tTest loss: 13.6149\tTest accuracy: 0.9000.\n",
      "Epoch: 25\tTraining loss: 0.0704\tTest loss: 14.7404\tTest accuracy: 0.9167.\n",
      "Epoch: 30\tTraining loss: 0.0496\tTest loss: 15.3623\tTest accuracy: 0.9000.\n",
      "Training teacher classifier: 41...\n",
      "Epoch: 5\tTraining loss: 5.4668\tTest loss: 12.4252\tTest accuracy: 0.9333.\n",
      "Epoch: 10\tTraining loss: 1.0794\tTest loss: 13.0596\tTest accuracy: 0.9333.\n",
      "Epoch: 15\tTraining loss: 0.2117\tTest loss: 11.5960\tTest accuracy: 0.9333.\n",
      "Epoch: 20\tTraining loss: 0.1024\tTest loss: 13.0303\tTest accuracy: 0.9333.\n",
      "Epoch: 25\tTraining loss: 0.0673\tTest loss: 12.4530\tTest accuracy: 0.9500.\n",
      "Epoch: 30\tTraining loss: 0.0476\tTest loss: 13.0562\tTest accuracy: 0.9333.\n",
      "Training teacher classifier: 42...\n",
      "Epoch: 5\tTraining loss: 8.6315\tTest loss: 25.5396\tTest accuracy: 0.8833.\n",
      "Epoch: 10\tTraining loss: 0.9518\tTest loss: 16.9296\tTest accuracy: 0.9000.\n",
      "Epoch: 15\tTraining loss: 0.1542\tTest loss: 22.4699\tTest accuracy: 0.8833.\n",
      "Epoch: 20\tTraining loss: 0.0740\tTest loss: 21.7820\tTest accuracy: 0.9167.\n",
      "Epoch: 25\tTraining loss: 0.0480\tTest loss: 21.6957\tTest accuracy: 0.9167.\n",
      "Epoch: 30\tTraining loss: 0.0354\tTest loss: 21.8099\tTest accuracy: 0.9167.\n",
      "Training teacher classifier: 43...\n",
      "Epoch: 5\tTraining loss: 10.0154\tTest loss: 17.7911\tTest accuracy: 0.9167.\n",
      "Epoch: 10\tTraining loss: 1.4725\tTest loss: 11.0335\tTest accuracy: 0.9667.\n",
      "Epoch: 15\tTraining loss: 0.3481\tTest loss: 12.8018\tTest accuracy: 0.9167.\n",
      "Epoch: 20\tTraining loss: 0.1384\tTest loss: 13.0898\tTest accuracy: 0.9167.\n",
      "Epoch: 25\tTraining loss: 0.0794\tTest loss: 13.7939\tTest accuracy: 0.9167.\n",
      "Epoch: 30\tTraining loss: 0.0550\tTest loss: 13.2459\tTest accuracy: 0.9333.\n",
      "Training teacher classifier: 44...\n",
      "Epoch: 5\tTraining loss: 10.2356\tTest loss: 22.1938\tTest accuracy: 0.9500.\n",
      "Epoch: 10\tTraining loss: 1.8924\tTest loss: 28.8390\tTest accuracy: 0.9333.\n",
      "Epoch: 15\tTraining loss: 0.5001\tTest loss: 31.0292\tTest accuracy: 0.9500.\n",
      "Epoch: 20\tTraining loss: 0.2315\tTest loss: 32.6495\tTest accuracy: 0.9500.\n",
      "Epoch: 25\tTraining loss: 0.1546\tTest loss: 33.3482\tTest accuracy: 0.9500.\n",
      "Epoch: 30\tTraining loss: 0.1139\tTest loss: 34.1066\tTest accuracy: 0.9500.\n",
      "Training teacher classifier: 45...\n",
      "Epoch: 5\tTraining loss: 14.9476\tTest loss: 15.2317\tTest accuracy: 0.9333.\n",
      "Epoch: 10\tTraining loss: 1.5667\tTest loss: 6.4428\tTest accuracy: 0.9500.\n",
      "Epoch: 15\tTraining loss: 0.3030\tTest loss: 7.0009\tTest accuracy: 0.9500.\n",
      "Epoch: 20\tTraining loss: 0.1211\tTest loss: 7.1449\tTest accuracy: 0.9167.\n",
      "Epoch: 25\tTraining loss: 0.0728\tTest loss: 7.5088\tTest accuracy: 0.9000.\n",
      "Epoch: 30\tTraining loss: 0.0525\tTest loss: 7.5301\tTest accuracy: 0.9167.\n",
      "Training teacher classifier: 46...\n",
      "Epoch: 5\tTraining loss: 6.0144\tTest loss: 9.6083\tTest accuracy: 0.9500.\n",
      "Epoch: 10\tTraining loss: 0.9270\tTest loss: 15.2248\tTest accuracy: 0.9167.\n",
      "Epoch: 15\tTraining loss: 0.2542\tTest loss: 11.5833\tTest accuracy: 0.9667.\n",
      "Epoch: 20\tTraining loss: 0.1216\tTest loss: 14.0118\tTest accuracy: 0.9333.\n",
      "Epoch: 25\tTraining loss: 0.0804\tTest loss: 13.4379\tTest accuracy: 0.9333.\n",
      "Epoch: 30\tTraining loss: 0.0603\tTest loss: 13.8296\tTest accuracy: 0.9333.\n",
      "Training teacher classifier: 47...\n",
      "Epoch: 5\tTraining loss: 14.8545\tTest loss: 22.5448\tTest accuracy: 0.9167.\n",
      "Epoch: 10\tTraining loss: 1.7092\tTest loss: 12.8990\tTest accuracy: 0.9167.\n",
      "Epoch: 15\tTraining loss: 0.5186\tTest loss: 17.2796\tTest accuracy: 0.9000.\n",
      "Epoch: 20\tTraining loss: 0.0813\tTest loss: 16.6909\tTest accuracy: 0.9167.\n",
      "Epoch: 25\tTraining loss: 0.0494\tTest loss: 14.4497\tTest accuracy: 0.9167.\n",
      "Epoch: 30\tTraining loss: 0.0340\tTest loss: 16.0077\tTest accuracy: 0.9167.\n",
      "Training teacher classifier: 48...\n",
      "Epoch: 5\tTraining loss: 10.2500\tTest loss: 13.9196\tTest accuracy: 0.9500.\n",
      "Epoch: 10\tTraining loss: 1.6496\tTest loss: 12.1580\tTest accuracy: 0.9500.\n",
      "Epoch: 15\tTraining loss: 0.3858\tTest loss: 13.9831\tTest accuracy: 0.9333.\n",
      "Epoch: 20\tTraining loss: 0.1843\tTest loss: 15.6309\tTest accuracy: 0.9333.\n",
      "Epoch: 25\tTraining loss: 0.1240\tTest loss: 15.1988\tTest accuracy: 0.9500.\n",
      "Epoch: 30\tTraining loss: 0.0925\tTest loss: 15.4341\tTest accuracy: 0.9333.\n",
      "Training teacher classifier: 49...\n",
      "Epoch: 5\tTraining loss: 8.2439\tTest loss: 14.9896\tTest accuracy: 0.9333.\n",
      "Epoch: 10\tTraining loss: 1.5410\tTest loss: 9.0372\tTest accuracy: 0.9333.\n",
      "Epoch: 15\tTraining loss: 0.2596\tTest loss: 6.5825\tTest accuracy: 0.9833.\n",
      "Epoch: 20\tTraining loss: 0.0932\tTest loss: 4.7539\tTest accuracy: 0.9833.\n",
      "Epoch: 25\tTraining loss: 0.0486\tTest loss: 4.1421\tTest accuracy: 0.9833.\n",
      "Epoch: 30\tTraining loss: 0.0320\tTest loss: 3.9798\tTest accuracy: 0.9833.\n",
      "Training teacher classifier: 50...\n",
      "Epoch: 5\tTraining loss: 8.7549\tTest loss: 17.4809\tTest accuracy: 0.9333.\n",
      "Epoch: 10\tTraining loss: 1.5663\tTest loss: 9.0846\tTest accuracy: 0.9500.\n",
      "Epoch: 15\tTraining loss: 0.3870\tTest loss: 10.7496\tTest accuracy: 0.9500.\n",
      "Epoch: 20\tTraining loss: 0.1616\tTest loss: 11.3899\tTest accuracy: 0.9667.\n",
      "Epoch: 25\tTraining loss: 0.0959\tTest loss: 11.4267\tTest accuracy: 0.9667.\n",
      "Epoch: 30\tTraining loss: 0.0660\tTest loss: 11.2605\tTest accuracy: 0.9667.\n",
      "Training teacher classifier: 51...\n",
      "Epoch: 5\tTraining loss: 10.0351\tTest loss: 15.9291\tTest accuracy: 0.9167.\n",
      "Epoch: 10\tTraining loss: 2.0163\tTest loss: 14.1456\tTest accuracy: 0.9167.\n",
      "Epoch: 15\tTraining loss: 0.3404\tTest loss: 12.6080\tTest accuracy: 0.9500.\n",
      "Epoch: 20\tTraining loss: 0.1697\tTest loss: 14.0388\tTest accuracy: 0.9333.\n",
      "Epoch: 25\tTraining loss: 0.1066\tTest loss: 14.1374\tTest accuracy: 0.9333.\n",
      "Epoch: 30\tTraining loss: 0.0803\tTest loss: 14.6076\tTest accuracy: 0.9333.\n",
      "Training teacher classifier: 52...\n",
      "Epoch: 5\tTraining loss: 9.2610\tTest loss: 14.5225\tTest accuracy: 0.9333.\n",
      "Epoch: 10\tTraining loss: 3.6528\tTest loss: 6.4449\tTest accuracy: 0.9667.\n",
      "Epoch: 15\tTraining loss: 1.2623\tTest loss: 4.6091\tTest accuracy: 0.9833.\n"
     ]
    },
    {
     "name": "stdout",
     "output_type": "stream",
     "text": [
      "Epoch: 20\tTraining loss: 0.6895\tTest loss: 4.7267\tTest accuracy: 0.9667.\n",
      "Epoch: 25\tTraining loss: 0.3708\tTest loss: 4.5918\tTest accuracy: 0.9833.\n",
      "Epoch: 30\tTraining loss: 0.2448\tTest loss: 4.6719\tTest accuracy: 0.9833.\n",
      "Training teacher classifier: 53...\n",
      "Epoch: 5\tTraining loss: 9.2495\tTest loss: 22.3234\tTest accuracy: 0.8667.\n",
      "Epoch: 10\tTraining loss: 1.7827\tTest loss: 12.8248\tTest accuracy: 0.9167.\n",
      "Epoch: 15\tTraining loss: 0.3501\tTest loss: 12.8443\tTest accuracy: 0.9333.\n",
      "Epoch: 20\tTraining loss: 0.1402\tTest loss: 12.4270\tTest accuracy: 0.9333.\n",
      "Epoch: 25\tTraining loss: 0.0884\tTest loss: 13.1646\tTest accuracy: 0.9333.\n",
      "Epoch: 30\tTraining loss: 0.0652\tTest loss: 13.2690\tTest accuracy: 0.9333.\n",
      "Training teacher classifier: 54...\n",
      "Epoch: 5\tTraining loss: 11.2648\tTest loss: 15.6869\tTest accuracy: 0.9000.\n",
      "Epoch: 10\tTraining loss: 1.9733\tTest loss: 10.0446\tTest accuracy: 0.9333.\n",
      "Epoch: 15\tTraining loss: 0.2478\tTest loss: 10.7571\tTest accuracy: 0.9333.\n",
      "Epoch: 20\tTraining loss: 0.1049\tTest loss: 10.0555\tTest accuracy: 0.9333.\n",
      "Epoch: 25\tTraining loss: 0.0613\tTest loss: 10.8291\tTest accuracy: 0.9333.\n",
      "Epoch: 30\tTraining loss: 0.0440\tTest loss: 10.4050\tTest accuracy: 0.9333.\n",
      "Training teacher classifier: 55...\n",
      "Epoch: 5\tTraining loss: 15.3354\tTest loss: 14.0050\tTest accuracy: 0.9333.\n",
      "Epoch: 10\tTraining loss: 5.1648\tTest loss: 6.8112\tTest accuracy: 0.9500.\n",
      "Epoch: 15\tTraining loss: 1.9224\tTest loss: 4.6312\tTest accuracy: 0.9667.\n",
      "Epoch: 20\tTraining loss: 0.6443\tTest loss: 4.7163\tTest accuracy: 0.9833.\n",
      "Epoch: 25\tTraining loss: 0.2197\tTest loss: 3.3935\tTest accuracy: 0.9833.\n",
      "Epoch: 30\tTraining loss: 0.1180\tTest loss: 3.2490\tTest accuracy: 0.9833.\n",
      "Training teacher classifier: 56...\n",
      "Epoch: 5\tTraining loss: 15.2568\tTest loss: 20.1898\tTest accuracy: 0.9333.\n",
      "Epoch: 10\tTraining loss: 2.7663\tTest loss: 17.2599\tTest accuracy: 0.9000.\n",
      "Epoch: 15\tTraining loss: 0.4930\tTest loss: 16.3055\tTest accuracy: 0.9000.\n",
      "Epoch: 20\tTraining loss: 0.1843\tTest loss: 16.4475\tTest accuracy: 0.8833.\n",
      "Epoch: 25\tTraining loss: 0.1036\tTest loss: 16.2464\tTest accuracy: 0.9000.\n",
      "Epoch: 30\tTraining loss: 0.0690\tTest loss: 16.1863\tTest accuracy: 0.9000.\n",
      "Training teacher classifier: 57...\n",
      "Epoch: 5\tTraining loss: 8.8093\tTest loss: 12.6295\tTest accuracy: 0.9167.\n",
      "Epoch: 10\tTraining loss: 1.7812\tTest loss: 11.9261\tTest accuracy: 0.8833.\n",
      "Epoch: 15\tTraining loss: 0.4648\tTest loss: 10.9096\tTest accuracy: 0.9000.\n",
      "Epoch: 20\tTraining loss: 0.2229\tTest loss: 11.8127\tTest accuracy: 0.9000.\n",
      "Epoch: 25\tTraining loss: 0.1467\tTest loss: 12.4667\tTest accuracy: 0.9000.\n",
      "Epoch: 30\tTraining loss: 0.1114\tTest loss: 13.2722\tTest accuracy: 0.9000.\n",
      "Training teacher classifier: 58...\n",
      "Epoch: 5\tTraining loss: 9.1554\tTest loss: 9.9908\tTest accuracy: 0.9500.\n",
      "Epoch: 10\tTraining loss: 1.2586\tTest loss: 10.4019\tTest accuracy: 0.9500.\n",
      "Epoch: 15\tTraining loss: 0.2041\tTest loss: 11.8402\tTest accuracy: 0.9500.\n",
      "Epoch: 20\tTraining loss: 0.0849\tTest loss: 10.8315\tTest accuracy: 0.9500.\n",
      "Epoch: 25\tTraining loss: 0.0522\tTest loss: 11.9976\tTest accuracy: 0.9500.\n",
      "Epoch: 30\tTraining loss: 0.0364\tTest loss: 12.3301\tTest accuracy: 0.9333.\n",
      "Training teacher classifier: 59...\n",
      "Epoch: 5\tTraining loss: 9.8388\tTest loss: 19.0650\tTest accuracy: 0.9000.\n",
      "Epoch: 10\tTraining loss: 1.3306\tTest loss: 13.6272\tTest accuracy: 0.9167.\n",
      "Epoch: 15\tTraining loss: 0.2880\tTest loss: 15.6147\tTest accuracy: 0.9500.\n",
      "Epoch: 20\tTraining loss: 0.1158\tTest loss: 15.4517\tTest accuracy: 0.9500.\n",
      "Epoch: 25\tTraining loss: 0.0715\tTest loss: 16.1407\tTest accuracy: 0.9500.\n",
      "Epoch: 30\tTraining loss: 0.0526\tTest loss: 16.8614\tTest accuracy: 0.9500.\n",
      "Training teacher classifier: 60...\n",
      "Epoch: 5\tTraining loss: 5.4164\tTest loss: 8.7524\tTest accuracy: 0.9333.\n",
      "Epoch: 10\tTraining loss: 0.5804\tTest loss: 7.4317\tTest accuracy: 0.9667.\n",
      "Epoch: 15\tTraining loss: 0.1625\tTest loss: 5.0541\tTest accuracy: 0.9500.\n",
      "Epoch: 20\tTraining loss: 0.0881\tTest loss: 4.4077\tTest accuracy: 0.9667.\n",
      "Epoch: 25\tTraining loss: 0.0628\tTest loss: 4.8231\tTest accuracy: 0.9667.\n",
      "Epoch: 30\tTraining loss: 0.0480\tTest loss: 4.5565\tTest accuracy: 0.9667.\n",
      "Training teacher classifier: 61...\n",
      "Epoch: 5\tTraining loss: 8.0431\tTest loss: 16.3193\tTest accuracy: 0.9333.\n",
      "Epoch: 10\tTraining loss: 0.7706\tTest loss: 20.9501\tTest accuracy: 0.9000.\n",
      "Epoch: 15\tTraining loss: 0.1156\tTest loss: 17.7524\tTest accuracy: 0.9167.\n",
      "Epoch: 20\tTraining loss: 0.0505\tTest loss: 18.7356\tTest accuracy: 0.9000.\n",
      "Epoch: 25\tTraining loss: 0.0324\tTest loss: 18.8256\tTest accuracy: 0.9000.\n",
      "Epoch: 30\tTraining loss: 0.0245\tTest loss: 18.6165\tTest accuracy: 0.9000.\n",
      "Training teacher classifier: 62...\n",
      "Epoch: 5\tTraining loss: 7.6151\tTest loss: 8.0144\tTest accuracy: 0.9667.\n",
      "Epoch: 10\tTraining loss: 1.1320\tTest loss: 10.0516\tTest accuracy: 0.9500.\n",
      "Epoch: 15\tTraining loss: 0.2118\tTest loss: 11.3337\tTest accuracy: 0.9500.\n",
      "Epoch: 20\tTraining loss: 0.0830\tTest loss: 10.4157\tTest accuracy: 0.9500.\n",
      "Epoch: 25\tTraining loss: 0.0512\tTest loss: 10.3919\tTest accuracy: 0.9500.\n",
      "Epoch: 30\tTraining loss: 0.0372\tTest loss: 11.1352\tTest accuracy: 0.9500.\n",
      "Training teacher classifier: 63...\n",
      "Epoch: 5\tTraining loss: 8.2025\tTest loss: 24.4739\tTest accuracy: 0.8333.\n",
      "Epoch: 10\tTraining loss: 0.7143\tTest loss: 31.4481\tTest accuracy: 0.8833.\n",
      "Epoch: 15\tTraining loss: 0.1388\tTest loss: 27.2362\tTest accuracy: 0.9167.\n",
      "Epoch: 20\tTraining loss: 0.0601\tTest loss: 29.5463\tTest accuracy: 0.9167.\n",
      "Epoch: 25\tTraining loss: 0.0376\tTest loss: 28.9092\tTest accuracy: 0.9167.\n",
      "Epoch: 30\tTraining loss: 0.0270\tTest loss: 29.0879\tTest accuracy: 0.9167.\n",
      "Training teacher classifier: 64...\n",
      "Epoch: 5\tTraining loss: 9.0041\tTest loss: 35.3708\tTest accuracy: 0.8333.\n",
      "Epoch: 10\tTraining loss: 2.5443\tTest loss: 34.2569\tTest accuracy: 0.8500.\n",
      "Epoch: 15\tTraining loss: 0.3883\tTest loss: 32.2523\tTest accuracy: 0.8667.\n",
      "Epoch: 20\tTraining loss: 0.1351\tTest loss: 33.1500\tTest accuracy: 0.8667.\n",
      "Epoch: 25\tTraining loss: 0.0830\tTest loss: 32.6249\tTest accuracy: 0.8667.\n",
      "Epoch: 30\tTraining loss: 0.0615\tTest loss: 34.0010\tTest accuracy: 0.8667.\n",
      "Training teacher classifier: 65...\n",
      "Epoch: 5\tTraining loss: 7.9842\tTest loss: 29.5468\tTest accuracy: 0.8500.\n",
      "Epoch: 10\tTraining loss: 1.1004\tTest loss: 21.4812\tTest accuracy: 0.9500.\n",
      "Epoch: 15\tTraining loss: 0.2867\tTest loss: 24.6188\tTest accuracy: 0.9333.\n",
      "Epoch: 20\tTraining loss: 0.1191\tTest loss: 26.4702\tTest accuracy: 0.9167.\n",
      "Epoch: 25\tTraining loss: 0.0733\tTest loss: 27.6674\tTest accuracy: 0.9167.\n",
      "Epoch: 30\tTraining loss: 0.0509\tTest loss: 29.0245\tTest accuracy: 0.9333.\n",
      "Training teacher classifier: 66...\n",
      "Epoch: 5\tTraining loss: 5.7926\tTest loss: 6.0831\tTest accuracy: 0.9833.\n",
      "Epoch: 10\tTraining loss: 0.9531\tTest loss: 4.4043\tTest accuracy: 0.9833.\n",
      "Epoch: 15\tTraining loss: 0.2732\tTest loss: 4.6791\tTest accuracy: 0.9833.\n",
      "Epoch: 20\tTraining loss: 0.1014\tTest loss: 4.1551\tTest accuracy: 0.9833.\n",
      "Epoch: 25\tTraining loss: 0.0619\tTest loss: 3.6780\tTest accuracy: 0.9833.\n",
      "Epoch: 30\tTraining loss: 0.0460\tTest loss: 3.7785\tTest accuracy: 0.9833.\n",
      "Training teacher classifier: 67...\n",
      "Epoch: 5\tTraining loss: 11.2189\tTest loss: 20.8259\tTest accuracy: 0.8667.\n",
      "Epoch: 10\tTraining loss: 1.0701\tTest loss: 14.0568\tTest accuracy: 0.9167.\n",
      "Epoch: 15\tTraining loss: 0.1924\tTest loss: 15.7969\tTest accuracy: 0.9000.\n",
      "Epoch: 20\tTraining loss: 0.0883\tTest loss: 15.8167\tTest accuracy: 0.9167.\n",
      "Epoch: 25\tTraining loss: 0.0556\tTest loss: 17.9138\tTest accuracy: 0.9167.\n",
      "Epoch: 30\tTraining loss: 0.0415\tTest loss: 17.8117\tTest accuracy: 0.9000.\n",
      "Training teacher classifier: 68...\n",
      "Epoch: 5\tTraining loss: 19.0754\tTest loss: 15.8658\tTest accuracy: 0.9333.\n",
      "Epoch: 10\tTraining loss: 1.4185\tTest loss: 17.8019\tTest accuracy: 0.9500.\n",
      "Epoch: 15\tTraining loss: 0.2503\tTest loss: 7.3769\tTest accuracy: 0.9500.\n",
      "Epoch: 20\tTraining loss: 0.0889\tTest loss: 10.5242\tTest accuracy: 0.9500.\n",
      "Epoch: 25\tTraining loss: 0.0531\tTest loss: 7.7048\tTest accuracy: 0.9667.\n",
      "Epoch: 30\tTraining loss: 0.0379\tTest loss: 7.9713\tTest accuracy: 0.9667.\n",
      "Training teacher classifier: 69...\n",
      "Epoch: 5\tTraining loss: 4.4270\tTest loss: 7.9551\tTest accuracy: 0.9833.\n",
      "Epoch: 10\tTraining loss: 0.3022\tTest loss: 7.4598\tTest accuracy: 0.9667.\n",
      "Epoch: 15\tTraining loss: 0.0578\tTest loss: 5.2270\tTest accuracy: 0.9667.\n",
      "Epoch: 20\tTraining loss: 0.0279\tTest loss: 5.1088\tTest accuracy: 0.9667.\n"
     ]
    },
    {
     "name": "stdout",
     "output_type": "stream",
     "text": [
      "Epoch: 25\tTraining loss: 0.0179\tTest loss: 4.9166\tTest accuracy: 0.9667.\n",
      "Epoch: 30\tTraining loss: 0.0138\tTest loss: 4.7876\tTest accuracy: 0.9667.\n",
      "Training teacher classifier: 70...\n",
      "Epoch: 5\tTraining loss: 9.5698\tTest loss: 23.5632\tTest accuracy: 0.9000.\n",
      "Epoch: 10\tTraining loss: 1.6505\tTest loss: 23.2703\tTest accuracy: 0.9500.\n",
      "Epoch: 15\tTraining loss: 0.3020\tTest loss: 22.5699\tTest accuracy: 0.9500.\n",
      "Epoch: 20\tTraining loss: 0.1428\tTest loss: 25.8509\tTest accuracy: 0.9500.\n",
      "Epoch: 25\tTraining loss: 0.0910\tTest loss: 25.0815\tTest accuracy: 0.9500.\n",
      "Epoch: 30\tTraining loss: 0.0696\tTest loss: 25.5178\tTest accuracy: 0.9500.\n",
      "Training teacher classifier: 71...\n",
      "Epoch: 5\tTraining loss: 13.8041\tTest loss: 13.0554\tTest accuracy: 0.9500.\n",
      "Epoch: 10\tTraining loss: 2.1703\tTest loss: 10.8837\tTest accuracy: 0.9333.\n",
      "Epoch: 15\tTraining loss: 0.4793\tTest loss: 17.0968\tTest accuracy: 0.9500.\n",
      "Epoch: 20\tTraining loss: 0.1738\tTest loss: 16.9329\tTest accuracy: 0.9333.\n",
      "Epoch: 25\tTraining loss: 0.0957\tTest loss: 16.6563\tTest accuracy: 0.9333.\n",
      "Epoch: 30\tTraining loss: 0.0563\tTest loss: 16.6646\tTest accuracy: 0.9333.\n",
      "Training teacher classifier: 72...\n",
      "Epoch: 5\tTraining loss: 4.7539\tTest loss: 32.3014\tTest accuracy: 0.8167.\n",
      "Epoch: 10\tTraining loss: 0.5846\tTest loss: 24.3254\tTest accuracy: 0.9000.\n",
      "Epoch: 15\tTraining loss: 0.1188\tTest loss: 29.2394\tTest accuracy: 0.8833.\n",
      "Epoch: 20\tTraining loss: 0.0560\tTest loss: 31.5654\tTest accuracy: 0.8833.\n",
      "Epoch: 25\tTraining loss: 0.0363\tTest loss: 32.2686\tTest accuracy: 0.9000.\n",
      "Epoch: 30\tTraining loss: 0.0273\tTest loss: 33.1112\tTest accuracy: 0.9000.\n",
      "Training teacher classifier: 73...\n",
      "Epoch: 5\tTraining loss: 6.1532\tTest loss: 6.3440\tTest accuracy: 0.9667.\n",
      "Epoch: 10\tTraining loss: 1.0029\tTest loss: 4.7521\tTest accuracy: 0.9833.\n",
      "Epoch: 15\tTraining loss: 0.1651\tTest loss: 2.9070\tTest accuracy: 0.9667.\n",
      "Epoch: 20\tTraining loss: 0.0803\tTest loss: 2.6737\tTest accuracy: 0.9833.\n",
      "Epoch: 25\tTraining loss: 0.0498\tTest loss: 2.8096\tTest accuracy: 0.9833.\n",
      "Epoch: 30\tTraining loss: 0.0364\tTest loss: 2.5471\tTest accuracy: 0.9833.\n",
      "Training teacher classifier: 74...\n",
      "Epoch: 5\tTraining loss: 5.1886\tTest loss: 6.1250\tTest accuracy: 0.9667.\n",
      "Epoch: 10\tTraining loss: 0.8527\tTest loss: 4.3424\tTest accuracy: 0.9667.\n",
      "Epoch: 15\tTraining loss: 0.1746\tTest loss: 2.6004\tTest accuracy: 1.0000.\n",
      "Epoch: 20\tTraining loss: 0.0681\tTest loss: 2.3362\tTest accuracy: 1.0000.\n",
      "Epoch: 25\tTraining loss: 0.0353\tTest loss: 2.2353\tTest accuracy: 1.0000.\n",
      "Epoch: 30\tTraining loss: 0.0209\tTest loss: 2.3737\tTest accuracy: 1.0000.\n",
      "Training teacher classifier: 75...\n",
      "Epoch: 5\tTraining loss: 8.9334\tTest loss: 10.7899\tTest accuracy: 0.9667.\n",
      "Epoch: 10\tTraining loss: 1.3012\tTest loss: 4.3859\tTest accuracy: 0.9833.\n",
      "Epoch: 15\tTraining loss: 0.2680\tTest loss: 4.6749\tTest accuracy: 0.9833.\n",
      "Epoch: 20\tTraining loss: 0.0976\tTest loss: 5.6039\tTest accuracy: 0.9833.\n",
      "Epoch: 25\tTraining loss: 0.0609\tTest loss: 6.2285\tTest accuracy: 0.9833.\n",
      "Epoch: 30\tTraining loss: 0.0446\tTest loss: 6.8762\tTest accuracy: 0.9833.\n",
      "Training teacher classifier: 76...\n",
      "Epoch: 5\tTraining loss: 16.0672\tTest loss: 20.9972\tTest accuracy: 0.9167.\n",
      "Epoch: 10\tTraining loss: 2.7089\tTest loss: 16.6877\tTest accuracy: 0.8833.\n",
      "Epoch: 15\tTraining loss: 0.6229\tTest loss: 17.4764\tTest accuracy: 0.9000.\n",
      "Epoch: 20\tTraining loss: 0.2515\tTest loss: 16.1942\tTest accuracy: 0.9000.\n",
      "Epoch: 25\tTraining loss: 0.1470\tTest loss: 17.0830\tTest accuracy: 0.9167.\n",
      "Epoch: 30\tTraining loss: 0.1012\tTest loss: 17.4231\tTest accuracy: 0.9167.\n",
      "Training teacher classifier: 77...\n",
      "Epoch: 5\tTraining loss: 7.4260\tTest loss: 8.5078\tTest accuracy: 0.9667.\n",
      "Epoch: 10\tTraining loss: 1.1904\tTest loss: 6.8764\tTest accuracy: 0.9667.\n",
      "Epoch: 15\tTraining loss: 0.2105\tTest loss: 5.8216\tTest accuracy: 0.9667.\n",
      "Epoch: 20\tTraining loss: 0.0887\tTest loss: 5.9795\tTest accuracy: 0.9667.\n",
      "Epoch: 25\tTraining loss: 0.0596\tTest loss: 5.8053\tTest accuracy: 0.9667.\n",
      "Epoch: 30\tTraining loss: 0.0441\tTest loss: 5.9853\tTest accuracy: 0.9667.\n",
      "Training teacher classifier: 78...\n",
      "Epoch: 5\tTraining loss: 10.9324\tTest loss: 19.7567\tTest accuracy: 0.9333.\n",
      "Epoch: 10\tTraining loss: 1.5986\tTest loss: 15.8955\tTest accuracy: 0.9667.\n",
      "Epoch: 15\tTraining loss: 0.2325\tTest loss: 18.1680\tTest accuracy: 0.9667.\n",
      "Epoch: 20\tTraining loss: 0.0845\tTest loss: 20.1392\tTest accuracy: 0.9333.\n",
      "Epoch: 25\tTraining loss: 0.0451\tTest loss: 20.3184\tTest accuracy: 0.9500.\n",
      "Epoch: 30\tTraining loss: 0.0285\tTest loss: 20.4594\tTest accuracy: 0.9500.\n",
      "Training teacher classifier: 79...\n",
      "Epoch: 5\tTraining loss: 5.4506\tTest loss: 13.3346\tTest accuracy: 0.9500.\n",
      "Epoch: 10\tTraining loss: 1.3502\tTest loss: 13.3720\tTest accuracy: 0.9167.\n",
      "Epoch: 15\tTraining loss: 0.3388\tTest loss: 9.0986\tTest accuracy: 0.9500.\n",
      "Epoch: 20\tTraining loss: 0.1570\tTest loss: 10.8433\tTest accuracy: 0.9500.\n",
      "Epoch: 25\tTraining loss: 0.1027\tTest loss: 11.2545\tTest accuracy: 0.9500.\n",
      "Epoch: 30\tTraining loss: 0.0769\tTest loss: 10.6229\tTest accuracy: 0.9667.\n",
      "Training teacher classifier: 80...\n",
      "Epoch: 5\tTraining loss: 9.5452\tTest loss: 12.5402\tTest accuracy: 0.9667.\n",
      "Epoch: 10\tTraining loss: 1.2709\tTest loss: 11.5921\tTest accuracy: 0.9833.\n",
      "Epoch: 15\tTraining loss: 0.2353\tTest loss: 10.6559\tTest accuracy: 0.9667.\n",
      "Epoch: 20\tTraining loss: 0.0834\tTest loss: 11.1894\tTest accuracy: 0.9833.\n",
      "Epoch: 25\tTraining loss: 0.0495\tTest loss: 11.5922\tTest accuracy: 0.9833.\n",
      "Epoch: 30\tTraining loss: 0.0354\tTest loss: 11.8546\tTest accuracy: 0.9833.\n",
      "Training teacher classifier: 81...\n",
      "Epoch: 5\tTraining loss: 8.3330\tTest loss: 11.1112\tTest accuracy: 0.9333.\n",
      "Epoch: 10\tTraining loss: 1.5836\tTest loss: 8.1728\tTest accuracy: 0.9667.\n",
      "Epoch: 15\tTraining loss: 0.3445\tTest loss: 5.4725\tTest accuracy: 0.9667.\n",
      "Epoch: 20\tTraining loss: 0.1437\tTest loss: 6.0270\tTest accuracy: 0.9667.\n",
      "Epoch: 25\tTraining loss: 0.0870\tTest loss: 5.8677\tTest accuracy: 0.9500.\n",
      "Epoch: 30\tTraining loss: 0.0614\tTest loss: 6.4254\tTest accuracy: 0.9500.\n",
      "Training teacher classifier: 82...\n",
      "Epoch: 5\tTraining loss: 7.9460\tTest loss: 20.4420\tTest accuracy: 0.9000.\n",
      "Epoch: 10\tTraining loss: 1.5479\tTest loss: 17.9489\tTest accuracy: 0.8833.\n",
      "Epoch: 15\tTraining loss: 0.4056\tTest loss: 21.3392\tTest accuracy: 0.9167.\n",
      "Epoch: 20\tTraining loss: 0.1639\tTest loss: 24.1707\tTest accuracy: 0.8833.\n",
      "Epoch: 25\tTraining loss: 0.0977\tTest loss: 26.2434\tTest accuracy: 0.9000.\n",
      "Epoch: 30\tTraining loss: 0.0700\tTest loss: 27.4750\tTest accuracy: 0.9000.\n",
      "Training teacher classifier: 83...\n",
      "Epoch: 5\tTraining loss: 11.1538\tTest loss: 18.7351\tTest accuracy: 0.9167.\n",
      "Epoch: 10\tTraining loss: 3.4958\tTest loss: 13.8602\tTest accuracy: 0.9167.\n",
      "Epoch: 15\tTraining loss: 0.9204\tTest loss: 15.0610\tTest accuracy: 0.9167.\n",
      "Epoch: 20\tTraining loss: 0.3398\tTest loss: 15.1448\tTest accuracy: 0.9167.\n",
      "Epoch: 25\tTraining loss: 0.1739\tTest loss: 15.7453\tTest accuracy: 0.9167.\n",
      "Epoch: 30\tTraining loss: 0.1132\tTest loss: 16.1612\tTest accuracy: 0.9167.\n",
      "Training teacher classifier: 84...\n",
      "Epoch: 5\tTraining loss: 10.9950\tTest loss: 10.5328\tTest accuracy: 0.9667.\n",
      "Epoch: 10\tTraining loss: 1.8640\tTest loss: 6.5320\tTest accuracy: 0.9333.\n",
      "Epoch: 15\tTraining loss: 0.4510\tTest loss: 5.9060\tTest accuracy: 0.9500.\n",
      "Epoch: 20\tTraining loss: 0.1906\tTest loss: 5.9734\tTest accuracy: 0.9667.\n",
      "Epoch: 25\tTraining loss: 0.1180\tTest loss: 5.4585\tTest accuracy: 0.9667.\n",
      "Epoch: 30\tTraining loss: 0.0839\tTest loss: 5.3290\tTest accuracy: 0.9667.\n",
      "Training teacher classifier: 85...\n",
      "Epoch: 5\tTraining loss: 12.6148\tTest loss: 13.3755\tTest accuracy: 0.9500.\n",
      "Epoch: 10\tTraining loss: 2.1074\tTest loss: 8.8133\tTest accuracy: 0.9333.\n",
      "Epoch: 15\tTraining loss: 0.3412\tTest loss: 11.0772\tTest accuracy: 0.9333.\n",
      "Epoch: 20\tTraining loss: 0.1231\tTest loss: 12.1396\tTest accuracy: 0.9000.\n",
      "Epoch: 25\tTraining loss: 0.0698\tTest loss: 11.7557\tTest accuracy: 0.9333.\n",
      "Epoch: 30\tTraining loss: 0.0484\tTest loss: 12.3288\tTest accuracy: 0.9333.\n",
      "Training teacher classifier: 86...\n",
      "Epoch: 5\tTraining loss: 6.7228\tTest loss: 12.8635\tTest accuracy: 0.9333.\n",
      "Epoch: 10\tTraining loss: 1.9786\tTest loss: 9.6833\tTest accuracy: 0.9333.\n",
      "Epoch: 15\tTraining loss: 0.6137\tTest loss: 10.3431\tTest accuracy: 0.9500.\n",
      "Epoch: 20\tTraining loss: 0.2799\tTest loss: 9.3175\tTest accuracy: 0.9500.\n",
      "Epoch: 25\tTraining loss: 0.1601\tTest loss: 10.5694\tTest accuracy: 0.9500.\n"
     ]
    },
    {
     "name": "stdout",
     "output_type": "stream",
     "text": [
      "Epoch: 30\tTraining loss: 0.1096\tTest loss: 10.6515\tTest accuracy: 0.9500.\n",
      "Training teacher classifier: 87...\n",
      "Epoch: 5\tTraining loss: 5.9107\tTest loss: 15.8295\tTest accuracy: 0.9500.\n",
      "Epoch: 10\tTraining loss: 0.7536\tTest loss: 15.2206\tTest accuracy: 0.9333.\n",
      "Epoch: 15\tTraining loss: 0.2197\tTest loss: 13.4648\tTest accuracy: 0.9667.\n",
      "Epoch: 20\tTraining loss: 0.0991\tTest loss: 14.0752\tTest accuracy: 0.9500.\n",
      "Epoch: 25\tTraining loss: 0.0611\tTest loss: 14.5856\tTest accuracy: 0.9333.\n",
      "Epoch: 30\tTraining loss: 0.0437\tTest loss: 14.8857\tTest accuracy: 0.9333.\n",
      "Training teacher classifier: 88...\n",
      "Epoch: 5\tTraining loss: 9.0327\tTest loss: 16.7120\tTest accuracy: 0.9333.\n",
      "Epoch: 10\tTraining loss: 0.7473\tTest loss: 15.5458\tTest accuracy: 0.8833.\n",
      "Epoch: 15\tTraining loss: 0.1871\tTest loss: 17.0845\tTest accuracy: 0.9167.\n",
      "Epoch: 20\tTraining loss: 0.0957\tTest loss: 15.9586\tTest accuracy: 0.9167.\n",
      "Epoch: 25\tTraining loss: 0.0624\tTest loss: 16.4505\tTest accuracy: 0.9167.\n",
      "Epoch: 30\tTraining loss: 0.0476\tTest loss: 16.4334\tTest accuracy: 0.9167.\n",
      "Training teacher classifier: 89...\n",
      "Epoch: 5\tTraining loss: 12.8775\tTest loss: 23.1389\tTest accuracy: 0.8667.\n",
      "Epoch: 10\tTraining loss: 2.9141\tTest loss: 18.5343\tTest accuracy: 0.8833.\n",
      "Epoch: 15\tTraining loss: 0.6806\tTest loss: 25.3190\tTest accuracy: 0.8833.\n",
      "Epoch: 20\tTraining loss: 0.2318\tTest loss: 30.6088\tTest accuracy: 0.8333.\n",
      "Epoch: 25\tTraining loss: 0.1401\tTest loss: 34.0731\tTest accuracy: 0.8333.\n",
      "Epoch: 30\tTraining loss: 0.0933\tTest loss: 35.0238\tTest accuracy: 0.8167.\n",
      "Training teacher classifier: 90...\n",
      "Epoch: 5\tTraining loss: 13.5760\tTest loss: 21.1221\tTest accuracy: 0.8833.\n",
      "Epoch: 10\tTraining loss: 3.0637\tTest loss: 18.7548\tTest accuracy: 0.8833.\n",
      "Epoch: 15\tTraining loss: 0.7176\tTest loss: 19.1728\tTest accuracy: 0.9000.\n",
      "Epoch: 20\tTraining loss: 0.2199\tTest loss: 20.8266\tTest accuracy: 0.9167.\n",
      "Epoch: 25\tTraining loss: 0.1193\tTest loss: 21.7938\tTest accuracy: 0.9167.\n",
      "Epoch: 30\tTraining loss: 0.0730\tTest loss: 21.7275\tTest accuracy: 0.9167.\n",
      "Training teacher classifier: 91...\n",
      "Epoch: 5\tTraining loss: 8.1470\tTest loss: 6.9055\tTest accuracy: 0.9667.\n",
      "Epoch: 10\tTraining loss: 0.8514\tTest loss: 2.8867\tTest accuracy: 0.9833.\n",
      "Epoch: 15\tTraining loss: 0.1799\tTest loss: 1.5281\tTest accuracy: 1.0000.\n",
      "Epoch: 20\tTraining loss: 0.0869\tTest loss: 1.6788\tTest accuracy: 1.0000.\n",
      "Epoch: 25\tTraining loss: 0.0556\tTest loss: 1.7863\tTest accuracy: 0.9833.\n",
      "Epoch: 30\tTraining loss: 0.0413\tTest loss: 1.8550\tTest accuracy: 0.9833.\n",
      "Training teacher classifier: 92...\n",
      "Epoch: 5\tTraining loss: 11.7210\tTest loss: 17.2381\tTest accuracy: 0.9167.\n",
      "Epoch: 10\tTraining loss: 1.3040\tTest loss: 10.5243\tTest accuracy: 0.9667.\n",
      "Epoch: 15\tTraining loss: 0.2353\tTest loss: 10.7218\tTest accuracy: 0.9500.\n",
      "Epoch: 20\tTraining loss: 0.0944\tTest loss: 10.6455\tTest accuracy: 0.9667.\n",
      "Epoch: 25\tTraining loss: 0.0560\tTest loss: 10.3202\tTest accuracy: 0.9667.\n",
      "Epoch: 30\tTraining loss: 0.0394\tTest loss: 10.8320\tTest accuracy: 0.9667.\n",
      "Training teacher classifier: 93...\n",
      "Epoch: 5\tTraining loss: 6.8497\tTest loss: 23.9237\tTest accuracy: 0.9000.\n",
      "Epoch: 10\tTraining loss: 0.9882\tTest loss: 22.0052\tTest accuracy: 0.9167.\n",
      "Epoch: 15\tTraining loss: 0.2056\tTest loss: 23.1750\tTest accuracy: 0.9333.\n",
      "Epoch: 20\tTraining loss: 0.0920\tTest loss: 26.7256\tTest accuracy: 0.9333.\n",
      "Epoch: 25\tTraining loss: 0.0577\tTest loss: 27.3888\tTest accuracy: 0.9333.\n",
      "Epoch: 30\tTraining loss: 0.0427\tTest loss: 27.6271\tTest accuracy: 0.9333.\n",
      "Training teacher classifier: 94...\n",
      "Epoch: 5\tTraining loss: 4.7946\tTest loss: 24.4015\tTest accuracy: 0.9000.\n",
      "Epoch: 10\tTraining loss: 0.6435\tTest loss: 17.6631\tTest accuracy: 0.9333.\n",
      "Epoch: 15\tTraining loss: 0.1572\tTest loss: 15.0569\tTest accuracy: 0.9500.\n",
      "Epoch: 20\tTraining loss: 0.0531\tTest loss: 15.0847\tTest accuracy: 0.9500.\n",
      "Epoch: 25\tTraining loss: 0.0322\tTest loss: 15.5300\tTest accuracy: 0.9333.\n",
      "Epoch: 30\tTraining loss: 0.0235\tTest loss: 14.6676\tTest accuracy: 0.9333.\n",
      "Training teacher classifier: 95...\n",
      "Epoch: 5\tTraining loss: 8.5744\tTest loss: 11.6216\tTest accuracy: 0.9667.\n",
      "Epoch: 10\tTraining loss: 1.0877\tTest loss: 4.0704\tTest accuracy: 0.9667.\n",
      "Epoch: 15\tTraining loss: 0.1883\tTest loss: 1.9625\tTest accuracy: 1.0000.\n",
      "Epoch: 20\tTraining loss: 0.0990\tTest loss: 2.4950\tTest accuracy: 0.9833.\n",
      "Epoch: 25\tTraining loss: 0.0667\tTest loss: 2.6335\tTest accuracy: 0.9667.\n",
      "Epoch: 30\tTraining loss: 0.0502\tTest loss: 2.5321\tTest accuracy: 0.9667.\n",
      "Training teacher classifier: 96...\n",
      "Epoch: 5\tTraining loss: 7.1856\tTest loss: 18.7430\tTest accuracy: 0.9167.\n",
      "Epoch: 10\tTraining loss: 1.4076\tTest loss: 17.4202\tTest accuracy: 0.9333.\n",
      "Epoch: 15\tTraining loss: 0.2475\tTest loss: 16.3145\tTest accuracy: 0.9333.\n",
      "Epoch: 20\tTraining loss: 0.1005\tTest loss: 16.6011\tTest accuracy: 0.9333.\n",
      "Epoch: 25\tTraining loss: 0.0645\tTest loss: 17.5746\tTest accuracy: 0.9333.\n",
      "Epoch: 30\tTraining loss: 0.0474\tTest loss: 18.1099\tTest accuracy: 0.9167.\n",
      "Training teacher classifier: 97...\n",
      "Epoch: 5\tTraining loss: 6.2304\tTest loss: 13.9604\tTest accuracy: 0.9167.\n",
      "Epoch: 10\tTraining loss: 1.7796\tTest loss: 9.8736\tTest accuracy: 0.9833.\n",
      "Epoch: 15\tTraining loss: 0.4817\tTest loss: 12.5961\tTest accuracy: 0.9500.\n",
      "Epoch: 20\tTraining loss: 0.1956\tTest loss: 12.4401\tTest accuracy: 0.9500.\n",
      "Epoch: 25\tTraining loss: 0.1070\tTest loss: 13.5990\tTest accuracy: 0.9500.\n",
      "Epoch: 30\tTraining loss: 0.0714\tTest loss: 14.3310\tTest accuracy: 0.9333.\n",
      "Training teacher classifier: 98...\n",
      "Epoch: 5\tTraining loss: 17.1533\tTest loss: 24.8490\tTest accuracy: 0.9000.\n",
      "Epoch: 10\tTraining loss: 3.0878\tTest loss: 13.0374\tTest accuracy: 0.9500.\n",
      "Epoch: 15\tTraining loss: 0.7393\tTest loss: 15.7891\tTest accuracy: 0.9500.\n",
      "Epoch: 20\tTraining loss: 0.1892\tTest loss: 16.4105\tTest accuracy: 0.9500.\n",
      "Epoch: 25\tTraining loss: 0.0906\tTest loss: 16.4432\tTest accuracy: 0.9500.\n",
      "Epoch: 30\tTraining loss: 0.0587\tTest loss: 16.8690\tTest accuracy: 0.9500.\n",
      "Training teacher classifier: 99...\n",
      "Epoch: 5\tTraining loss: 9.8976\tTest loss: 10.3512\tTest accuracy: 0.9667.\n",
      "Epoch: 10\tTraining loss: 1.7702\tTest loss: 5.4031\tTest accuracy: 0.9667.\n",
      "Epoch: 15\tTraining loss: 0.3501\tTest loss: 3.6124\tTest accuracy: 0.9833.\n",
      "Epoch: 20\tTraining loss: 0.1347\tTest loss: 3.8536\tTest accuracy: 0.9833.\n",
      "Epoch: 25\tTraining loss: 0.0795\tTest loss: 3.6003\tTest accuracy: 0.9833.\n",
      "Epoch: 30\tTraining loss: 0.0560\tTest loss: 3.3126\tTest accuracy: 0.9833.\n",
      "Training teacher classifier: 100...\n",
      "Epoch: 5\tTraining loss: 12.0016\tTest loss: 17.6627\tTest accuracy: 0.8833.\n",
      "Epoch: 10\tTraining loss: 2.1641\tTest loss: 26.9388\tTest accuracy: 0.8833.\n",
      "Epoch: 15\tTraining loss: 0.4530\tTest loss: 27.0735\tTest accuracy: 0.8833.\n",
      "Epoch: 20\tTraining loss: 0.1785\tTest loss: 28.5463\tTest accuracy: 0.8667.\n",
      "Epoch: 25\tTraining loss: 0.1064\tTest loss: 28.5046\tTest accuracy: 0.8667.\n",
      "Epoch: 30\tTraining loss: 0.0775\tTest loss: 28.7477\tTest accuracy: 0.8667.\n",
      "Training teacher classifier: 101...\n",
      "Epoch: 5\tTraining loss: 8.1480\tTest loss: 10.4021\tTest accuracy: 0.9667.\n",
      "Epoch: 10\tTraining loss: 1.4202\tTest loss: 12.6239\tTest accuracy: 0.9000.\n",
      "Epoch: 15\tTraining loss: 0.3250\tTest loss: 8.3900\tTest accuracy: 0.9333.\n",
      "Epoch: 20\tTraining loss: 0.1558\tTest loss: 8.2772\tTest accuracy: 0.9333.\n",
      "Epoch: 25\tTraining loss: 0.0895\tTest loss: 10.1840\tTest accuracy: 0.9167.\n",
      "Epoch: 30\tTraining loss: 0.0590\tTest loss: 10.1837\tTest accuracy: 0.9333.\n",
      "Training teacher classifier: 102...\n",
      "Epoch: 5\tTraining loss: 8.3964\tTest loss: 9.6844\tTest accuracy: 0.9667.\n",
      "Epoch: 10\tTraining loss: 1.9025\tTest loss: 6.1474\tTest accuracy: 0.9667.\n",
      "Epoch: 15\tTraining loss: 0.4065\tTest loss: 3.0767\tTest accuracy: 1.0000.\n",
      "Epoch: 20\tTraining loss: 0.1651\tTest loss: 3.0092\tTest accuracy: 0.9833.\n",
      "Epoch: 25\tTraining loss: 0.1011\tTest loss: 3.0207\tTest accuracy: 0.9833.\n",
      "Epoch: 30\tTraining loss: 0.0700\tTest loss: 2.9768\tTest accuracy: 0.9833.\n",
      "Training teacher classifier: 103...\n",
      "Epoch: 5\tTraining loss: 15.2093\tTest loss: 22.5107\tTest accuracy: 0.8833.\n",
      "Epoch: 10\tTraining loss: 4.0476\tTest loss: 20.5526\tTest accuracy: 0.9000.\n",
      "Epoch: 15\tTraining loss: 0.8825\tTest loss: 24.5929\tTest accuracy: 0.9167.\n",
      "Epoch: 20\tTraining loss: 0.2616\tTest loss: 28.9329\tTest accuracy: 0.9167.\n",
      "Epoch: 25\tTraining loss: 0.1331\tTest loss: 30.5590\tTest accuracy: 0.9000.\n",
      "Epoch: 30\tTraining loss: 0.0852\tTest loss: 31.8804\tTest accuracy: 0.9000.\n"
     ]
    },
    {
     "name": "stdout",
     "output_type": "stream",
     "text": [
      "Training teacher classifier: 104...\n",
      "Epoch: 5\tTraining loss: 5.1965\tTest loss: 22.3350\tTest accuracy: 0.9333.\n",
      "Epoch: 10\tTraining loss: 0.5880\tTest loss: 24.1701\tTest accuracy: 0.9000.\n",
      "Epoch: 15\tTraining loss: 0.1578\tTest loss: 26.2257\tTest accuracy: 0.9167.\n",
      "Epoch: 20\tTraining loss: 0.0836\tTest loss: 26.9577\tTest accuracy: 0.9167.\n",
      "Epoch: 25\tTraining loss: 0.0543\tTest loss: 28.3924\tTest accuracy: 0.9167.\n",
      "Epoch: 30\tTraining loss: 0.0398\tTest loss: 29.6315\tTest accuracy: 0.9167.\n",
      "Training teacher classifier: 105...\n",
      "Epoch: 5\tTraining loss: 12.3599\tTest loss: 25.1368\tTest accuracy: 0.8333.\n",
      "Epoch: 10\tTraining loss: 2.5116\tTest loss: 16.1718\tTest accuracy: 0.9000.\n",
      "Epoch: 15\tTraining loss: 0.4178\tTest loss: 13.8502\tTest accuracy: 0.8833.\n",
      "Epoch: 20\tTraining loss: 0.1811\tTest loss: 14.4937\tTest accuracy: 0.9000.\n",
      "Epoch: 25\tTraining loss: 0.1139\tTest loss: 13.2329\tTest accuracy: 0.9000.\n",
      "Epoch: 30\tTraining loss: 0.0809\tTest loss: 13.8485\tTest accuracy: 0.8833.\n",
      "Training teacher classifier: 106...\n",
      "Epoch: 5\tTraining loss: 10.7624\tTest loss: 15.7376\tTest accuracy: 0.9000.\n",
      "Epoch: 10\tTraining loss: 1.7951\tTest loss: 7.1861\tTest accuracy: 0.9667.\n",
      "Epoch: 15\tTraining loss: 0.3175\tTest loss: 12.1960\tTest accuracy: 0.9167.\n",
      "Epoch: 20\tTraining loss: 0.1531\tTest loss: 11.6086\tTest accuracy: 0.9333.\n",
      "Epoch: 25\tTraining loss: 0.0935\tTest loss: 11.8207\tTest accuracy: 0.9333.\n",
      "Epoch: 30\tTraining loss: 0.0663\tTest loss: 12.4870\tTest accuracy: 0.9333.\n",
      "Training teacher classifier: 107...\n",
      "Epoch: 5\tTraining loss: 4.0901\tTest loss: 11.3671\tTest accuracy: 0.9500.\n",
      "Epoch: 10\tTraining loss: 0.7754\tTest loss: 7.7729\tTest accuracy: 0.9667.\n",
      "Epoch: 15\tTraining loss: 0.1729\tTest loss: 6.1495\tTest accuracy: 0.9500.\n",
      "Epoch: 20\tTraining loss: 0.0865\tTest loss: 6.1770\tTest accuracy: 0.9667.\n",
      "Epoch: 25\tTraining loss: 0.0570\tTest loss: 5.8988\tTest accuracy: 0.9667.\n",
      "Epoch: 30\tTraining loss: 0.0417\tTest loss: 6.1668\tTest accuracy: 0.9667.\n",
      "Training teacher classifier: 108...\n",
      "Epoch: 5\tTraining loss: 7.7188\tTest loss: 30.9823\tTest accuracy: 0.8000.\n",
      "Epoch: 10\tTraining loss: 2.0545\tTest loss: 26.7347\tTest accuracy: 0.8167.\n",
      "Epoch: 15\tTraining loss: 0.3857\tTest loss: 22.3101\tTest accuracy: 0.8833.\n",
      "Epoch: 20\tTraining loss: 0.1796\tTest loss: 25.3021\tTest accuracy: 0.8833.\n",
      "Epoch: 25\tTraining loss: 0.1160\tTest loss: 26.5521\tTest accuracy: 0.8833.\n",
      "Epoch: 30\tTraining loss: 0.0814\tTest loss: 26.9608\tTest accuracy: 0.8833.\n",
      "Training teacher classifier: 109...\n",
      "Epoch: 5\tTraining loss: 12.5101\tTest loss: 12.5889\tTest accuracy: 0.9500.\n",
      "Epoch: 10\tTraining loss: 1.1330\tTest loss: 8.8137\tTest accuracy: 0.9333.\n",
      "Epoch: 15\tTraining loss: 0.2152\tTest loss: 7.1772\tTest accuracy: 0.9333.\n",
      "Epoch: 20\tTraining loss: 0.0864\tTest loss: 7.4384\tTest accuracy: 0.9333.\n",
      "Epoch: 25\tTraining loss: 0.0566\tTest loss: 6.8322\tTest accuracy: 0.9333.\n",
      "Epoch: 30\tTraining loss: 0.0415\tTest loss: 6.9589\tTest accuracy: 0.9333.\n",
      "Training teacher classifier: 110...\n",
      "Epoch: 5\tTraining loss: 6.7584\tTest loss: 26.6118\tTest accuracy: 0.8500.\n",
      "Epoch: 10\tTraining loss: 1.0073\tTest loss: 16.8318\tTest accuracy: 0.9000.\n",
      "Epoch: 15\tTraining loss: 0.2745\tTest loss: 18.7455\tTest accuracy: 0.9000.\n",
      "Epoch: 20\tTraining loss: 0.1175\tTest loss: 21.9546\tTest accuracy: 0.9000.\n",
      "Epoch: 25\tTraining loss: 0.0773\tTest loss: 22.9320\tTest accuracy: 0.9167.\n",
      "Epoch: 30\tTraining loss: 0.0578\tTest loss: 23.9148\tTest accuracy: 0.9000.\n",
      "Training teacher classifier: 111...\n",
      "Epoch: 5\tTraining loss: 5.0297\tTest loss: 11.7676\tTest accuracy: 0.9333.\n",
      "Epoch: 10\tTraining loss: 0.7607\tTest loss: 15.1768\tTest accuracy: 0.9333.\n",
      "Epoch: 15\tTraining loss: 0.2063\tTest loss: 12.1767\tTest accuracy: 0.9667.\n",
      "Epoch: 20\tTraining loss: 0.0957\tTest loss: 12.8979\tTest accuracy: 0.9667.\n",
      "Epoch: 25\tTraining loss: 0.0651\tTest loss: 13.1122\tTest accuracy: 0.9667.\n",
      "Epoch: 30\tTraining loss: 0.0486\tTest loss: 13.0171\tTest accuracy: 0.9667.\n",
      "Training teacher classifier: 112...\n",
      "Epoch: 5\tTraining loss: 7.6933\tTest loss: 16.5492\tTest accuracy: 0.9333.\n",
      "Epoch: 10\tTraining loss: 1.0781\tTest loss: 12.8118\tTest accuracy: 0.9000.\n",
      "Epoch: 15\tTraining loss: 0.1936\tTest loss: 15.4819\tTest accuracy: 0.8667.\n",
      "Epoch: 20\tTraining loss: 0.0811\tTest loss: 14.5428\tTest accuracy: 0.9000.\n",
      "Epoch: 25\tTraining loss: 0.0501\tTest loss: 15.7226\tTest accuracy: 0.8667.\n",
      "Epoch: 30\tTraining loss: 0.0360\tTest loss: 15.6969\tTest accuracy: 0.8667.\n",
      "Training teacher classifier: 113...\n",
      "Epoch: 5\tTraining loss: 11.3976\tTest loss: 16.4778\tTest accuracy: 0.9333.\n",
      "Epoch: 10\tTraining loss: 1.7188\tTest loss: 9.3984\tTest accuracy: 0.9333.\n",
      "Epoch: 15\tTraining loss: 0.3154\tTest loss: 8.1011\tTest accuracy: 0.9500.\n",
      "Epoch: 20\tTraining loss: 0.1174\tTest loss: 7.6731\tTest accuracy: 0.9500.\n",
      "Epoch: 25\tTraining loss: 0.0663\tTest loss: 8.9693\tTest accuracy: 0.9333.\n",
      "Epoch: 30\tTraining loss: 0.0444\tTest loss: 9.3175\tTest accuracy: 0.9500.\n",
      "Training teacher classifier: 114...\n",
      "Epoch: 5\tTraining loss: 3.9882\tTest loss: 13.7529\tTest accuracy: 0.9333.\n",
      "Epoch: 10\tTraining loss: 0.6055\tTest loss: 12.2364\tTest accuracy: 0.9667.\n",
      "Epoch: 15\tTraining loss: 0.1704\tTest loss: 13.4125\tTest accuracy: 0.9500.\n",
      "Epoch: 20\tTraining loss: 0.0862\tTest loss: 13.9060\tTest accuracy: 0.9500.\n",
      "Epoch: 25\tTraining loss: 0.0587\tTest loss: 13.7362\tTest accuracy: 0.9500.\n",
      "Epoch: 30\tTraining loss: 0.0437\tTest loss: 13.9814\tTest accuracy: 0.9500.\n",
      "Training teacher classifier: 115...\n",
      "Epoch: 5\tTraining loss: 10.7866\tTest loss: 9.7866\tTest accuracy: 0.9500.\n",
      "Epoch: 10\tTraining loss: 1.4301\tTest loss: 5.0853\tTest accuracy: 0.9833.\n",
      "Epoch: 15\tTraining loss: 0.2425\tTest loss: 7.6637\tTest accuracy: 0.9833.\n",
      "Epoch: 20\tTraining loss: 0.1125\tTest loss: 7.4391\tTest accuracy: 0.9833.\n",
      "Epoch: 25\tTraining loss: 0.0704\tTest loss: 7.8620\tTest accuracy: 0.9833.\n",
      "Epoch: 30\tTraining loss: 0.0498\tTest loss: 7.8389\tTest accuracy: 0.9833.\n",
      "Training teacher classifier: 116...\n",
      "Epoch: 5\tTraining loss: 10.7113\tTest loss: 20.4077\tTest accuracy: 0.9000.\n",
      "Epoch: 10\tTraining loss: 2.4787\tTest loss: 19.3566\tTest accuracy: 0.9167.\n",
      "Epoch: 15\tTraining loss: 0.4054\tTest loss: 22.7881\tTest accuracy: 0.9000.\n",
      "Epoch: 20\tTraining loss: 0.1168\tTest loss: 25.2544\tTest accuracy: 0.9000.\n",
      "Epoch: 25\tTraining loss: 0.0544\tTest loss: 26.8543\tTest accuracy: 0.9000.\n",
      "Epoch: 30\tTraining loss: 0.0320\tTest loss: 28.6462\tTest accuracy: 0.9167.\n",
      "Training teacher classifier: 117...\n",
      "Epoch: 5\tTraining loss: 14.8151\tTest loss: 26.0353\tTest accuracy: 0.8667.\n",
      "Epoch: 10\tTraining loss: 3.9979\tTest loss: 23.0031\tTest accuracy: 0.8833.\n",
      "Epoch: 15\tTraining loss: 1.1298\tTest loss: 24.1296\tTest accuracy: 0.8667.\n",
      "Epoch: 20\tTraining loss: 0.3767\tTest loss: 25.4407\tTest accuracy: 0.9000.\n",
      "Epoch: 25\tTraining loss: 0.1538\tTest loss: 26.2724\tTest accuracy: 0.9000.\n",
      "Epoch: 30\tTraining loss: 0.0830\tTest loss: 27.5199\tTest accuracy: 0.9000.\n",
      "Training teacher classifier: 118...\n",
      "Epoch: 5\tTraining loss: 9.9940\tTest loss: 7.0861\tTest accuracy: 0.9833.\n",
      "Epoch: 10\tTraining loss: 1.9845\tTest loss: 4.2366\tTest accuracy: 0.9667.\n",
      "Epoch: 15\tTraining loss: 0.3654\tTest loss: 2.3553\tTest accuracy: 0.9833.\n",
      "Epoch: 20\tTraining loss: 0.1405\tTest loss: 1.9670\tTest accuracy: 0.9833.\n",
      "Epoch: 25\tTraining loss: 0.0907\tTest loss: 1.6435\tTest accuracy: 1.0000.\n",
      "Epoch: 30\tTraining loss: 0.0680\tTest loss: 1.5287\tTest accuracy: 1.0000.\n",
      "Training teacher classifier: 119...\n",
      "Epoch: 5\tTraining loss: 6.3054\tTest loss: 9.8788\tTest accuracy: 0.9500.\n",
      "Epoch: 10\tTraining loss: 0.7226\tTest loss: 3.2227\tTest accuracy: 0.9833.\n",
      "Epoch: 15\tTraining loss: 0.1623\tTest loss: 3.3071\tTest accuracy: 0.9833.\n",
      "Epoch: 20\tTraining loss: 0.0738\tTest loss: 3.4847\tTest accuracy: 0.9833.\n",
      "Epoch: 25\tTraining loss: 0.0449\tTest loss: 4.0013\tTest accuracy: 0.9833.\n",
      "Epoch: 30\tTraining loss: 0.0308\tTest loss: 3.9215\tTest accuracy: 0.9833.\n",
      "Training teacher classifier: 120...\n",
      "Epoch: 5\tTraining loss: 10.5326\tTest loss: 25.6564\tTest accuracy: 0.9167.\n",
      "Epoch: 10\tTraining loss: 1.1265\tTest loss: 17.0437\tTest accuracy: 0.9167.\n",
      "Epoch: 15\tTraining loss: 0.2206\tTest loss: 18.8298\tTest accuracy: 0.9333.\n",
      "Epoch: 20\tTraining loss: 0.1132\tTest loss: 21.8720\tTest accuracy: 0.9000.\n",
      "Epoch: 25\tTraining loss: 0.0735\tTest loss: 23.2448\tTest accuracy: 0.9000.\n",
      "Epoch: 30\tTraining loss: 0.0540\tTest loss: 24.3011\tTest accuracy: 0.9000.\n",
      "Training teacher classifier: 121...\n"
     ]
    },
    {
     "name": "stdout",
     "output_type": "stream",
     "text": [
      "Epoch: 5\tTraining loss: 14.2919\tTest loss: 15.2170\tTest accuracy: 0.9500.\n",
      "Epoch: 10\tTraining loss: 2.8901\tTest loss: 7.3007\tTest accuracy: 0.9500.\n",
      "Epoch: 15\tTraining loss: 0.5011\tTest loss: 5.1167\tTest accuracy: 0.9833.\n",
      "Epoch: 20\tTraining loss: 0.1937\tTest loss: 3.4068\tTest accuracy: 0.9667.\n",
      "Epoch: 25\tTraining loss: 0.1095\tTest loss: 3.6710\tTest accuracy: 0.9667.\n",
      "Epoch: 30\tTraining loss: 0.0756\tTest loss: 3.4457\tTest accuracy: 0.9833.\n",
      "Training teacher classifier: 122...\n",
      "Epoch: 5\tTraining loss: 5.6286\tTest loss: 16.2397\tTest accuracy: 0.9333.\n",
      "Epoch: 10\tTraining loss: 0.8724\tTest loss: 10.9656\tTest accuracy: 0.9667.\n",
      "Epoch: 15\tTraining loss: 0.1925\tTest loss: 11.7718\tTest accuracy: 0.9500.\n",
      "Epoch: 20\tTraining loss: 0.0841\tTest loss: 11.7774\tTest accuracy: 0.9500.\n",
      "Epoch: 25\tTraining loss: 0.0514\tTest loss: 12.2676\tTest accuracy: 0.9667.\n",
      "Epoch: 30\tTraining loss: 0.0372\tTest loss: 12.4257\tTest accuracy: 0.9667.\n",
      "Training teacher classifier: 123...\n",
      "Epoch: 5\tTraining loss: 4.5805\tTest loss: 22.1592\tTest accuracy: 0.9167.\n",
      "Epoch: 10\tTraining loss: 0.8396\tTest loss: 16.3909\tTest accuracy: 0.9667.\n",
      "Epoch: 15\tTraining loss: 0.2546\tTest loss: 17.1668\tTest accuracy: 0.9500.\n",
      "Epoch: 20\tTraining loss: 0.1198\tTest loss: 17.7923\tTest accuracy: 0.9500.\n",
      "Epoch: 25\tTraining loss: 0.0733\tTest loss: 18.5042\tTest accuracy: 0.9500.\n",
      "Epoch: 30\tTraining loss: 0.0504\tTest loss: 19.3629\tTest accuracy: 0.9500.\n",
      "Training teacher classifier: 124...\n",
      "Epoch: 5\tTraining loss: 9.6114\tTest loss: 16.7565\tTest accuracy: 0.9167.\n",
      "Epoch: 10\tTraining loss: 2.3022\tTest loss: 7.8855\tTest accuracy: 0.9500.\n",
      "Epoch: 15\tTraining loss: 0.6804\tTest loss: 11.0244\tTest accuracy: 0.9167.\n",
      "Epoch: 20\tTraining loss: 0.1877\tTest loss: 14.2458\tTest accuracy: 0.9167.\n",
      "Epoch: 25\tTraining loss: 0.0802\tTest loss: 14.5708\tTest accuracy: 0.9167.\n",
      "Epoch: 30\tTraining loss: 0.0502\tTest loss: 14.0474\tTest accuracy: 0.9167.\n",
      "Training teacher classifier: 125...\n",
      "Epoch: 5\tTraining loss: 15.2478\tTest loss: 10.7810\tTest accuracy: 1.0000.\n",
      "Epoch: 10\tTraining loss: 2.2033\tTest loss: 2.7139\tTest accuracy: 1.0000.\n",
      "Epoch: 15\tTraining loss: 0.3841\tTest loss: 1.8308\tTest accuracy: 1.0000.\n",
      "Epoch: 20\tTraining loss: 0.1526\tTest loss: 1.2782\tTest accuracy: 1.0000.\n",
      "Epoch: 25\tTraining loss: 0.0930\tTest loss: 1.2771\tTest accuracy: 0.9833.\n",
      "Epoch: 30\tTraining loss: 0.0656\tTest loss: 1.2974\tTest accuracy: 0.9833.\n",
      "Training teacher classifier: 126...\n",
      "Epoch: 5\tTraining loss: 12.9940\tTest loss: 23.5740\tTest accuracy: 0.9000.\n",
      "Epoch: 10\tTraining loss: 4.0427\tTest loss: 19.3665\tTest accuracy: 0.9500.\n",
      "Epoch: 15\tTraining loss: 1.3625\tTest loss: 25.4491\tTest accuracy: 0.9500.\n",
      "Epoch: 20\tTraining loss: 0.4160\tTest loss: 26.7926\tTest accuracy: 0.9500.\n",
      "Epoch: 25\tTraining loss: 0.1926\tTest loss: 28.4788\tTest accuracy: 0.9500.\n",
      "Epoch: 30\tTraining loss: 0.1215\tTest loss: 29.4508\tTest accuracy: 0.9500.\n",
      "Training teacher classifier: 127...\n",
      "Epoch: 5\tTraining loss: 7.1996\tTest loss: 22.9659\tTest accuracy: 0.9167.\n",
      "Epoch: 10\tTraining loss: 1.2933\tTest loss: 20.3174\tTest accuracy: 0.9333.\n",
      "Epoch: 15\tTraining loss: 0.2672\tTest loss: 19.9796\tTest accuracy: 0.9500.\n",
      "Epoch: 20\tTraining loss: 0.1299\tTest loss: 21.2951\tTest accuracy: 0.9167.\n",
      "Epoch: 25\tTraining loss: 0.0790\tTest loss: 21.9304\tTest accuracy: 0.9167.\n",
      "Epoch: 30\tTraining loss: 0.0520\tTest loss: 22.7480\tTest accuracy: 0.9167.\n",
      "Training teacher classifier: 128...\n",
      "Epoch: 5\tTraining loss: 9.0115\tTest loss: 14.1590\tTest accuracy: 0.9500.\n",
      "Epoch: 10\tTraining loss: 2.3372\tTest loss: 7.5370\tTest accuracy: 0.9333.\n",
      "Epoch: 15\tTraining loss: 0.5219\tTest loss: 7.0350\tTest accuracy: 0.9667.\n",
      "Epoch: 20\tTraining loss: 0.2217\tTest loss: 6.5890\tTest accuracy: 0.9500.\n",
      "Epoch: 25\tTraining loss: 0.1277\tTest loss: 7.0114\tTest accuracy: 0.9500.\n",
      "Epoch: 30\tTraining loss: 0.0903\tTest loss: 7.7316\tTest accuracy: 0.9500.\n",
      "Training teacher classifier: 129...\n",
      "Epoch: 5\tTraining loss: 10.7212\tTest loss: 17.3227\tTest accuracy: 0.9333.\n",
      "Epoch: 10\tTraining loss: 4.2911\tTest loss: 16.5267\tTest accuracy: 0.9333.\n",
      "Epoch: 15\tTraining loss: 1.3151\tTest loss: 16.9219\tTest accuracy: 0.9167.\n",
      "Epoch: 20\tTraining loss: 0.6080\tTest loss: 17.1799\tTest accuracy: 0.9333.\n",
      "Epoch: 25\tTraining loss: 0.3432\tTest loss: 18.1412\tTest accuracy: 0.9167.\n",
      "Epoch: 30\tTraining loss: 0.2234\tTest loss: 18.7580\tTest accuracy: 0.9333.\n",
      "Training teacher classifier: 130...\n",
      "Epoch: 5\tTraining loss: 4.2379\tTest loss: 13.0977\tTest accuracy: 0.9167.\n",
      "Epoch: 10\tTraining loss: 0.6769\tTest loss: 6.9222\tTest accuracy: 0.9667.\n",
      "Epoch: 15\tTraining loss: 0.1275\tTest loss: 4.8275\tTest accuracy: 0.9667.\n",
      "Epoch: 20\tTraining loss: 0.0567\tTest loss: 4.4515\tTest accuracy: 0.9833.\n",
      "Epoch: 25\tTraining loss: 0.0346\tTest loss: 4.4271\tTest accuracy: 0.9667.\n",
      "Epoch: 30\tTraining loss: 0.0244\tTest loss: 4.2090\tTest accuracy: 0.9667.\n",
      "Training teacher classifier: 131...\n",
      "Epoch: 5\tTraining loss: 8.7007\tTest loss: 10.9839\tTest accuracy: 0.9667.\n",
      "Epoch: 10\tTraining loss: 1.5560\tTest loss: 5.8217\tTest accuracy: 0.9500.\n",
      "Epoch: 15\tTraining loss: 0.3672\tTest loss: 4.5315\tTest accuracy: 0.9500.\n",
      "Epoch: 20\tTraining loss: 0.1381\tTest loss: 4.5634\tTest accuracy: 0.9500.\n",
      "Epoch: 25\tTraining loss: 0.0836\tTest loss: 4.4384\tTest accuracy: 0.9500.\n",
      "Epoch: 30\tTraining loss: 0.0572\tTest loss: 4.4708\tTest accuracy: 0.9500.\n",
      "Training teacher classifier: 132...\n",
      "Epoch: 5\tTraining loss: 9.3376\tTest loss: 14.2450\tTest accuracy: 0.9000.\n",
      "Epoch: 10\tTraining loss: 2.2824\tTest loss: 11.3839\tTest accuracy: 0.9167.\n",
      "Epoch: 15\tTraining loss: 0.5282\tTest loss: 13.0349\tTest accuracy: 0.9000.\n",
      "Epoch: 20\tTraining loss: 0.1975\tTest loss: 14.7275\tTest accuracy: 0.8833.\n",
      "Epoch: 25\tTraining loss: 0.1105\tTest loss: 16.0014\tTest accuracy: 0.8833.\n",
      "Epoch: 30\tTraining loss: 0.0761\tTest loss: 16.4108\tTest accuracy: 0.8833.\n",
      "Training teacher classifier: 133...\n",
      "Epoch: 5\tTraining loss: 9.7975\tTest loss: 18.1497\tTest accuracy: 0.8833.\n",
      "Epoch: 10\tTraining loss: 0.9349\tTest loss: 3.6104\tTest accuracy: 1.0000.\n",
      "Epoch: 15\tTraining loss: 0.2205\tTest loss: 4.6230\tTest accuracy: 0.9500.\n",
      "Epoch: 20\tTraining loss: 0.0907\tTest loss: 3.9550\tTest accuracy: 0.9833.\n",
      "Epoch: 25\tTraining loss: 0.0573\tTest loss: 5.1733\tTest accuracy: 0.9333.\n",
      "Epoch: 30\tTraining loss: 0.0411\tTest loss: 5.7786\tTest accuracy: 0.9333.\n",
      "Training teacher classifier: 134...\n",
      "Epoch: 5\tTraining loss: 6.3635\tTest loss: 20.3594\tTest accuracy: 0.8833.\n",
      "Epoch: 10\tTraining loss: 1.0380\tTest loss: 25.6047\tTest accuracy: 0.8833.\n",
      "Epoch: 15\tTraining loss: 0.2211\tTest loss: 30.2171\tTest accuracy: 0.9000.\n",
      "Epoch: 20\tTraining loss: 0.1052\tTest loss: 32.3823\tTest accuracy: 0.9000.\n",
      "Epoch: 25\tTraining loss: 0.0653\tTest loss: 34.9910\tTest accuracy: 0.9000.\n",
      "Epoch: 30\tTraining loss: 0.0464\tTest loss: 36.9100\tTest accuracy: 0.9000.\n",
      "Training teacher classifier: 135...\n",
      "Epoch: 5\tTraining loss: 4.4489\tTest loss: 6.7869\tTest accuracy: 0.9500.\n",
      "Epoch: 10\tTraining loss: 0.6795\tTest loss: 4.5302\tTest accuracy: 0.9667.\n",
      "Epoch: 15\tTraining loss: 0.2354\tTest loss: 4.7560\tTest accuracy: 0.9667.\n",
      "Epoch: 20\tTraining loss: 0.1239\tTest loss: 3.8500\tTest accuracy: 0.9667.\n",
      "Epoch: 25\tTraining loss: 0.0839\tTest loss: 3.8497\tTest accuracy: 0.9833.\n",
      "Epoch: 30\tTraining loss: 0.0618\tTest loss: 4.1618\tTest accuracy: 0.9833.\n",
      "Training teacher classifier: 136...\n",
      "Epoch: 5\tTraining loss: 10.1162\tTest loss: 12.6531\tTest accuracy: 0.9500.\n",
      "Epoch: 10\tTraining loss: 2.8850\tTest loss: 6.4974\tTest accuracy: 0.9833.\n",
      "Epoch: 15\tTraining loss: 0.6909\tTest loss: 13.3397\tTest accuracy: 0.9000.\n",
      "Epoch: 20\tTraining loss: 0.2365\tTest loss: 9.5094\tTest accuracy: 0.9333.\n",
      "Epoch: 25\tTraining loss: 0.1249\tTest loss: 11.0268\tTest accuracy: 0.9167.\n",
      "Epoch: 30\tTraining loss: 0.0791\tTest loss: 12.1606\tTest accuracy: 0.9167.\n",
      "Training teacher classifier: 137...\n",
      "Epoch: 5\tTraining loss: 3.7834\tTest loss: 10.9802\tTest accuracy: 0.9333.\n",
      "Epoch: 10\tTraining loss: 0.5116\tTest loss: 12.9518\tTest accuracy: 0.9333.\n",
      "Epoch: 15\tTraining loss: 0.1333\tTest loss: 10.0158\tTest accuracy: 0.9500.\n",
      "Epoch: 20\tTraining loss: 0.0590\tTest loss: 9.8860\tTest accuracy: 0.9333.\n",
      "Epoch: 25\tTraining loss: 0.0395\tTest loss: 10.1541\tTest accuracy: 0.9333.\n",
      "Epoch: 30\tTraining loss: 0.0285\tTest loss: 10.6507\tTest accuracy: 0.9333.\n",
      "Training teacher classifier: 138...\n",
      "Epoch: 5\tTraining loss: 6.9504\tTest loss: 7.0830\tTest accuracy: 0.9833.\n"
     ]
    },
    {
     "name": "stdout",
     "output_type": "stream",
     "text": [
      "Epoch: 10\tTraining loss: 0.8961\tTest loss: 3.4341\tTest accuracy: 0.9833.\n",
      "Epoch: 15\tTraining loss: 0.1643\tTest loss: 1.3217\tTest accuracy: 1.0000.\n",
      "Epoch: 20\tTraining loss: 0.0745\tTest loss: 1.1852\tTest accuracy: 1.0000.\n",
      "Epoch: 25\tTraining loss: 0.0466\tTest loss: 1.4365\tTest accuracy: 1.0000.\n",
      "Epoch: 30\tTraining loss: 0.0333\tTest loss: 1.5510\tTest accuracy: 0.9833.\n",
      "Training teacher classifier: 139...\n",
      "Epoch: 5\tTraining loss: 6.5374\tTest loss: 14.1505\tTest accuracy: 0.9167.\n",
      "Epoch: 10\tTraining loss: 0.7857\tTest loss: 9.3861\tTest accuracy: 0.9667.\n",
      "Epoch: 15\tTraining loss: 0.1628\tTest loss: 9.4288\tTest accuracy: 0.9667.\n",
      "Epoch: 20\tTraining loss: 0.0830\tTest loss: 10.0445\tTest accuracy: 0.9667.\n",
      "Epoch: 25\tTraining loss: 0.0568\tTest loss: 10.8221\tTest accuracy: 0.9667.\n",
      "Epoch: 30\tTraining loss: 0.0434\tTest loss: 11.3559\tTest accuracy: 0.9667.\n",
      "Training teacher classifier: 140...\n",
      "Epoch: 5\tTraining loss: 10.4442\tTest loss: 9.1820\tTest accuracy: 0.9833.\n",
      "Epoch: 10\tTraining loss: 2.4230\tTest loss: 11.7881\tTest accuracy: 0.9333.\n",
      "Epoch: 15\tTraining loss: 0.5788\tTest loss: 9.5154\tTest accuracy: 0.9167.\n",
      "Epoch: 20\tTraining loss: 0.1979\tTest loss: 10.5004\tTest accuracy: 0.9000.\n",
      "Epoch: 25\tTraining loss: 0.0888\tTest loss: 9.8428\tTest accuracy: 0.9167.\n",
      "Epoch: 30\tTraining loss: 0.0576\tTest loss: 10.2839\tTest accuracy: 0.9167.\n",
      "Training teacher classifier: 141...\n",
      "Epoch: 5\tTraining loss: 8.6453\tTest loss: 7.4299\tTest accuracy: 0.9667.\n",
      "Epoch: 10\tTraining loss: 1.3235\tTest loss: 7.4393\tTest accuracy: 0.9833.\n",
      "Epoch: 15\tTraining loss: 0.3906\tTest loss: 6.5455\tTest accuracy: 0.9833.\n",
      "Epoch: 20\tTraining loss: 0.1529\tTest loss: 6.5075\tTest accuracy: 0.9833.\n",
      "Epoch: 25\tTraining loss: 0.0827\tTest loss: 7.1507\tTest accuracy: 0.9833.\n",
      "Epoch: 30\tTraining loss: 0.0549\tTest loss: 7.6271\tTest accuracy: 0.9833.\n",
      "Training teacher classifier: 142...\n",
      "Epoch: 5\tTraining loss: 13.7153\tTest loss: 18.1499\tTest accuracy: 0.9333.\n",
      "Epoch: 10\tTraining loss: 2.7784\tTest loss: 12.5671\tTest accuracy: 0.9000.\n",
      "Epoch: 15\tTraining loss: 0.6346\tTest loss: 14.5486\tTest accuracy: 0.8833.\n",
      "Epoch: 20\tTraining loss: 0.2136\tTest loss: 14.1140\tTest accuracy: 0.9000.\n",
      "Epoch: 25\tTraining loss: 0.1106\tTest loss: 14.9476\tTest accuracy: 0.8833.\n",
      "Epoch: 30\tTraining loss: 0.0694\tTest loss: 15.3017\tTest accuracy: 0.8833.\n",
      "Training teacher classifier: 143...\n",
      "Epoch: 5\tTraining loss: 2.6112\tTest loss: 12.3601\tTest accuracy: 0.9500.\n",
      "Epoch: 10\tTraining loss: 0.3702\tTest loss: 14.3624\tTest accuracy: 0.9333.\n",
      "Epoch: 15\tTraining loss: 0.0720\tTest loss: 14.9672\tTest accuracy: 0.9667.\n",
      "Epoch: 20\tTraining loss: 0.0336\tTest loss: 14.5980\tTest accuracy: 0.9667.\n",
      "Epoch: 25\tTraining loss: 0.0231\tTest loss: 15.8870\tTest accuracy: 0.9667.\n",
      "Epoch: 30\tTraining loss: 0.0174\tTest loss: 16.6451\tTest accuracy: 0.9667.\n",
      "Training teacher classifier: 144...\n",
      "Epoch: 5\tTraining loss: 7.5014\tTest loss: 14.6230\tTest accuracy: 0.9167.\n",
      "Epoch: 10\tTraining loss: 1.0766\tTest loss: 11.2073\tTest accuracy: 0.9333.\n",
      "Epoch: 15\tTraining loss: 0.2980\tTest loss: 8.8725\tTest accuracy: 0.9167.\n",
      "Epoch: 20\tTraining loss: 0.1395\tTest loss: 7.8922\tTest accuracy: 0.9333.\n",
      "Epoch: 25\tTraining loss: 0.0896\tTest loss: 7.5034\tTest accuracy: 0.9333.\n",
      "Epoch: 30\tTraining loss: 0.0655\tTest loss: 7.5491\tTest accuracy: 0.9333.\n",
      "Training teacher classifier: 145...\n",
      "Epoch: 5\tTraining loss: 9.4521\tTest loss: 10.3608\tTest accuracy: 0.9667.\n",
      "Epoch: 10\tTraining loss: 1.6305\tTest loss: 6.8645\tTest accuracy: 0.9833.\n",
      "Epoch: 15\tTraining loss: 0.3745\tTest loss: 6.4165\tTest accuracy: 0.9833.\n",
      "Epoch: 20\tTraining loss: 0.1650\tTest loss: 6.7374\tTest accuracy: 0.9667.\n",
      "Epoch: 25\tTraining loss: 0.1024\tTest loss: 7.5682\tTest accuracy: 0.9667.\n",
      "Epoch: 30\tTraining loss: 0.0736\tTest loss: 7.9208\tTest accuracy: 0.9667.\n",
      "Training teacher classifier: 146...\n",
      "Epoch: 5\tTraining loss: 5.4270\tTest loss: 23.1781\tTest accuracy: 0.8500.\n",
      "Epoch: 10\tTraining loss: 1.4069\tTest loss: 11.4388\tTest accuracy: 0.9000.\n",
      "Epoch: 15\tTraining loss: 0.4099\tTest loss: 13.6319\tTest accuracy: 0.9000.\n",
      "Epoch: 20\tTraining loss: 0.1890\tTest loss: 13.5486\tTest accuracy: 0.9000.\n",
      "Epoch: 25\tTraining loss: 0.1146\tTest loss: 13.4516\tTest accuracy: 0.9000.\n",
      "Epoch: 30\tTraining loss: 0.0831\tTest loss: 13.6396\tTest accuracy: 0.9000.\n",
      "Training teacher classifier: 147...\n",
      "Epoch: 5\tTraining loss: 11.0084\tTest loss: 14.4918\tTest accuracy: 0.9000.\n",
      "Epoch: 10\tTraining loss: 1.6180\tTest loss: 7.2586\tTest accuracy: 0.9333.\n",
      "Epoch: 15\tTraining loss: 0.2959\tTest loss: 5.1370\tTest accuracy: 0.9667.\n",
      "Epoch: 20\tTraining loss: 0.1169\tTest loss: 4.5138\tTest accuracy: 0.9667.\n",
      "Epoch: 25\tTraining loss: 0.0698\tTest loss: 4.4746\tTest accuracy: 0.9667.\n",
      "Epoch: 30\tTraining loss: 0.0502\tTest loss: 4.6554\tTest accuracy: 0.9667.\n",
      "Training teacher classifier: 148...\n",
      "Epoch: 5\tTraining loss: 16.1745\tTest loss: 20.9847\tTest accuracy: 0.9333.\n",
      "Epoch: 10\tTraining loss: 2.8716\tTest loss: 16.2395\tTest accuracy: 0.9167.\n",
      "Epoch: 15\tTraining loss: 0.5229\tTest loss: 12.4471\tTest accuracy: 0.9500.\n",
      "Epoch: 20\tTraining loss: 0.1562\tTest loss: 15.1006\tTest accuracy: 0.9333.\n",
      "Epoch: 25\tTraining loss: 0.0866\tTest loss: 17.1300\tTest accuracy: 0.9500.\n",
      "Epoch: 30\tTraining loss: 0.0603\tTest loss: 17.0093\tTest accuracy: 0.9500.\n",
      "Training teacher classifier: 149...\n",
      "Epoch: 5\tTraining loss: 11.3588\tTest loss: 14.9850\tTest accuracy: 0.9500.\n",
      "Epoch: 10\tTraining loss: 2.7493\tTest loss: 11.1442\tTest accuracy: 0.9333.\n",
      "Epoch: 15\tTraining loss: 0.5366\tTest loss: 10.3912\tTest accuracy: 0.9500.\n",
      "Epoch: 20\tTraining loss: 0.1786\tTest loss: 9.7480\tTest accuracy: 0.9500.\n",
      "Epoch: 25\tTraining loss: 0.0899\tTest loss: 10.7001\tTest accuracy: 0.9500.\n",
      "Epoch: 30\tTraining loss: 0.0585\tTest loss: 10.6148\tTest accuracy: 0.9500.\n",
      "Training teacher classifier: 150...\n",
      "Epoch: 5\tTraining loss: 9.6624\tTest loss: 15.8418\tTest accuracy: 0.9167.\n",
      "Epoch: 10\tTraining loss: 1.3325\tTest loss: 6.7753\tTest accuracy: 0.9500.\n",
      "Epoch: 15\tTraining loss: 0.2528\tTest loss: 3.9209\tTest accuracy: 0.9500.\n",
      "Epoch: 20\tTraining loss: 0.1046\tTest loss: 6.2676\tTest accuracy: 0.9500.\n",
      "Epoch: 25\tTraining loss: 0.0633\tTest loss: 5.3607\tTest accuracy: 0.9500.\n",
      "Epoch: 30\tTraining loss: 0.0459\tTest loss: 5.5539\tTest accuracy: 0.9500.\n",
      "Training teacher classifier: 151...\n",
      "Epoch: 5\tTraining loss: 12.3475\tTest loss: 19.0919\tTest accuracy: 0.9333.\n",
      "Epoch: 10\tTraining loss: 2.4485\tTest loss: 11.7984\tTest accuracy: 0.9500.\n",
      "Epoch: 15\tTraining loss: 0.3916\tTest loss: 12.2602\tTest accuracy: 0.9333.\n",
      "Epoch: 20\tTraining loss: 0.1497\tTest loss: 13.9913\tTest accuracy: 0.9333.\n",
      "Epoch: 25\tTraining loss: 0.0866\tTest loss: 14.4864\tTest accuracy: 0.9500.\n",
      "Epoch: 30\tTraining loss: 0.0608\tTest loss: 15.0927\tTest accuracy: 0.9500.\n",
      "Training teacher classifier: 152...\n",
      "Epoch: 5\tTraining loss: 11.0781\tTest loss: 17.5576\tTest accuracy: 0.9500.\n",
      "Epoch: 10\tTraining loss: 1.5505\tTest loss: 11.0255\tTest accuracy: 0.9500.\n",
      "Epoch: 15\tTraining loss: 0.2477\tTest loss: 9.9828\tTest accuracy: 0.9500.\n",
      "Epoch: 20\tTraining loss: 0.1033\tTest loss: 11.3410\tTest accuracy: 0.9500.\n",
      "Epoch: 25\tTraining loss: 0.0650\tTest loss: 11.2454\tTest accuracy: 0.9500.\n",
      "Epoch: 30\tTraining loss: 0.0462\tTest loss: 11.5659\tTest accuracy: 0.9500.\n",
      "Training teacher classifier: 153...\n",
      "Epoch: 5\tTraining loss: 6.4491\tTest loss: 34.2229\tTest accuracy: 0.8167.\n",
      "Epoch: 10\tTraining loss: 0.9638\tTest loss: 29.2464\tTest accuracy: 0.8833.\n",
      "Epoch: 15\tTraining loss: 0.2405\tTest loss: 33.9686\tTest accuracy: 0.8833.\n",
      "Epoch: 20\tTraining loss: 0.1044\tTest loss: 36.1550\tTest accuracy: 0.8833.\n",
      "Epoch: 25\tTraining loss: 0.0602\tTest loss: 37.7743\tTest accuracy: 0.8833.\n",
      "Epoch: 30\tTraining loss: 0.0381\tTest loss: 38.9346\tTest accuracy: 0.8833.\n",
      "Training teacher classifier: 154...\n",
      "Epoch: 5\tTraining loss: 10.8027\tTest loss: 25.7257\tTest accuracy: 0.8833.\n",
      "Epoch: 10\tTraining loss: 1.6775\tTest loss: 15.2063\tTest accuracy: 0.9667.\n",
      "Epoch: 15\tTraining loss: 0.4038\tTest loss: 16.2598\tTest accuracy: 0.9333.\n",
      "Epoch: 20\tTraining loss: 0.1586\tTest loss: 16.8841\tTest accuracy: 0.9333.\n",
      "Epoch: 25\tTraining loss: 0.0980\tTest loss: 17.4513\tTest accuracy: 0.9333.\n",
      "Epoch: 30\tTraining loss: 0.0727\tTest loss: 17.8235\tTest accuracy: 0.9333.\n",
      "Training teacher classifier: 155...\n",
      "Epoch: 5\tTraining loss: 10.0125\tTest loss: 24.6721\tTest accuracy: 0.8667.\n",
      "Epoch: 10\tTraining loss: 1.7102\tTest loss: 17.3397\tTest accuracy: 0.9500.\n"
     ]
    },
    {
     "name": "stdout",
     "output_type": "stream",
     "text": [
      "Epoch: 15\tTraining loss: 0.3819\tTest loss: 14.9151\tTest accuracy: 0.9500.\n",
      "Epoch: 20\tTraining loss: 0.1735\tTest loss: 16.3472\tTest accuracy: 0.9333.\n",
      "Epoch: 25\tTraining loss: 0.1108\tTest loss: 15.5769\tTest accuracy: 0.9333.\n",
      "Epoch: 30\tTraining loss: 0.0800\tTest loss: 16.4103\tTest accuracy: 0.9333.\n",
      "Training teacher classifier: 156...\n",
      "Epoch: 5\tTraining loss: 3.6278\tTest loss: 18.9609\tTest accuracy: 0.9167.\n",
      "Epoch: 10\tTraining loss: 0.3888\tTest loss: 14.9094\tTest accuracy: 0.8833.\n",
      "Epoch: 15\tTraining loss: 0.0964\tTest loss: 12.6614\tTest accuracy: 0.9167.\n",
      "Epoch: 20\tTraining loss: 0.0491\tTest loss: 13.8477\tTest accuracy: 0.9333.\n",
      "Epoch: 25\tTraining loss: 0.0323\tTest loss: 15.0256\tTest accuracy: 0.9167.\n",
      "Epoch: 30\tTraining loss: 0.0239\tTest loss: 15.7619\tTest accuracy: 0.9167.\n",
      "Training teacher classifier: 157...\n",
      "Epoch: 5\tTraining loss: 6.9885\tTest loss: 14.8151\tTest accuracy: 0.9167.\n",
      "Epoch: 10\tTraining loss: 1.8867\tTest loss: 9.3997\tTest accuracy: 0.9333.\n",
      "Epoch: 15\tTraining loss: 0.3540\tTest loss: 6.9695\tTest accuracy: 0.9667.\n",
      "Epoch: 20\tTraining loss: 0.1446\tTest loss: 6.5941\tTest accuracy: 0.9500.\n",
      "Epoch: 25\tTraining loss: 0.0868\tTest loss: 6.5279\tTest accuracy: 0.9500.\n",
      "Epoch: 30\tTraining loss: 0.0616\tTest loss: 6.5208\tTest accuracy: 0.9500.\n",
      "Training teacher classifier: 158...\n",
      "Epoch: 5\tTraining loss: 12.3925\tTest loss: 22.9070\tTest accuracy: 0.8667.\n",
      "Epoch: 10\tTraining loss: 2.8435\tTest loss: 15.7115\tTest accuracy: 0.9500.\n",
      "Epoch: 15\tTraining loss: 0.8029\tTest loss: 16.8725\tTest accuracy: 0.9000.\n",
      "Epoch: 20\tTraining loss: 0.2744\tTest loss: 19.6202\tTest accuracy: 0.8833.\n",
      "Epoch: 25\tTraining loss: 0.1331\tTest loss: 20.4634\tTest accuracy: 0.9167.\n",
      "Epoch: 30\tTraining loss: 0.0794\tTest loss: 21.5760\tTest accuracy: 0.9167.\n",
      "Training teacher classifier: 159...\n",
      "Epoch: 5\tTraining loss: 11.4707\tTest loss: 18.0859\tTest accuracy: 0.9000.\n",
      "Epoch: 10\tTraining loss: 1.9834\tTest loss: 9.1492\tTest accuracy: 0.9667.\n",
      "Epoch: 15\tTraining loss: 0.3231\tTest loss: 8.9442\tTest accuracy: 0.9667.\n",
      "Epoch: 20\tTraining loss: 0.1285\tTest loss: 8.6106\tTest accuracy: 0.9667.\n",
      "Epoch: 25\tTraining loss: 0.0789\tTest loss: 8.8129\tTest accuracy: 0.9500.\n",
      "Epoch: 30\tTraining loss: 0.0561\tTest loss: 8.4963\tTest accuracy: 0.9500.\n",
      "Training teacher classifier: 160...\n",
      "Epoch: 5\tTraining loss: 12.2191\tTest loss: 33.9418\tTest accuracy: 0.8500.\n",
      "Epoch: 10\tTraining loss: 2.7524\tTest loss: 26.6051\tTest accuracy: 0.9000.\n",
      "Epoch: 15\tTraining loss: 0.4355\tTest loss: 31.7457\tTest accuracy: 0.9167.\n",
      "Epoch: 20\tTraining loss: 0.1607\tTest loss: 32.8135\tTest accuracy: 0.9167.\n",
      "Epoch: 25\tTraining loss: 0.1001\tTest loss: 34.7798\tTest accuracy: 0.9167.\n",
      "Epoch: 30\tTraining loss: 0.0717\tTest loss: 36.2715\tTest accuracy: 0.9167.\n",
      "Training teacher classifier: 161...\n",
      "Epoch: 5\tTraining loss: 5.0556\tTest loss: 15.8840\tTest accuracy: 0.9667.\n",
      "Epoch: 10\tTraining loss: 0.6745\tTest loss: 12.9321\tTest accuracy: 0.9500.\n",
      "Epoch: 15\tTraining loss: 0.2055\tTest loss: 13.4132\tTest accuracy: 0.9333.\n",
      "Epoch: 20\tTraining loss: 0.0504\tTest loss: 13.3391\tTest accuracy: 0.9500.\n",
      "Epoch: 25\tTraining loss: 0.0365\tTest loss: 13.3188\tTest accuracy: 0.9333.\n",
      "Epoch: 30\tTraining loss: 0.0246\tTest loss: 13.9446\tTest accuracy: 0.9333.\n",
      "Training teacher classifier: 162...\n",
      "Epoch: 5\tTraining loss: 12.4283\tTest loss: 18.0077\tTest accuracy: 0.9167.\n",
      "Epoch: 10\tTraining loss: 3.8703\tTest loss: 15.5647\tTest accuracy: 0.9167.\n",
      "Epoch: 15\tTraining loss: 0.9501\tTest loss: 17.1819\tTest accuracy: 0.9167.\n",
      "Epoch: 20\tTraining loss: 0.3038\tTest loss: 18.7679\tTest accuracy: 0.9000.\n",
      "Epoch: 25\tTraining loss: 0.1554\tTest loss: 19.7944\tTest accuracy: 0.9167.\n",
      "Epoch: 30\tTraining loss: 0.0961\tTest loss: 19.9067\tTest accuracy: 0.9167.\n",
      "Training teacher classifier: 163...\n",
      "Epoch: 5\tTraining loss: 3.9610\tTest loss: 13.2466\tTest accuracy: 0.9667.\n",
      "Epoch: 10\tTraining loss: 0.2680\tTest loss: 19.0873\tTest accuracy: 0.9333.\n",
      "Epoch: 15\tTraining loss: 0.0476\tTest loss: 20.7664\tTest accuracy: 0.9000.\n",
      "Epoch: 20\tTraining loss: 0.0265\tTest loss: 21.0513\tTest accuracy: 0.9333.\n",
      "Epoch: 25\tTraining loss: 0.0179\tTest loss: 20.3696\tTest accuracy: 0.9333.\n",
      "Epoch: 30\tTraining loss: 0.0133\tTest loss: 21.7800\tTest accuracy: 0.9333.\n",
      "Training teacher classifier: 164...\n",
      "Epoch: 5\tTraining loss: 12.2674\tTest loss: 25.1634\tTest accuracy: 0.8333.\n",
      "Epoch: 10\tTraining loss: 2.8928\tTest loss: 17.1779\tTest accuracy: 0.9000.\n",
      "Epoch: 15\tTraining loss: 0.5705\tTest loss: 15.1435\tTest accuracy: 0.9167.\n",
      "Epoch: 20\tTraining loss: 0.2373\tTest loss: 17.0457\tTest accuracy: 0.9000.\n",
      "Epoch: 25\tTraining loss: 0.1393\tTest loss: 18.6890\tTest accuracy: 0.9000.\n",
      "Epoch: 30\tTraining loss: 0.0959\tTest loss: 20.2935\tTest accuracy: 0.8833.\n",
      "Training teacher classifier: 165...\n",
      "Epoch: 5\tTraining loss: 9.3664\tTest loss: 39.4334\tTest accuracy: 0.8167.\n",
      "Epoch: 10\tTraining loss: 1.5022\tTest loss: 24.2816\tTest accuracy: 0.9167.\n",
      "Epoch: 15\tTraining loss: 0.2967\tTest loss: 28.2041\tTest accuracy: 0.9167.\n",
      "Epoch: 20\tTraining loss: 0.1361\tTest loss: 32.7416\tTest accuracy: 0.9000.\n",
      "Epoch: 25\tTraining loss: 0.0757\tTest loss: 34.7722\tTest accuracy: 0.9000.\n",
      "Epoch: 30\tTraining loss: 0.0511\tTest loss: 36.3787\tTest accuracy: 0.9167.\n",
      "Training teacher classifier: 166...\n",
      "Epoch: 5\tTraining loss: 8.0909\tTest loss: 24.1311\tTest accuracy: 0.9000.\n",
      "Epoch: 10\tTraining loss: 1.2269\tTest loss: 24.7530\tTest accuracy: 0.9167.\n",
      "Epoch: 15\tTraining loss: 0.2809\tTest loss: 24.5534\tTest accuracy: 0.9333.\n",
      "Epoch: 20\tTraining loss: 0.1213\tTest loss: 25.1575\tTest accuracy: 0.9333.\n",
      "Epoch: 25\tTraining loss: 0.0789\tTest loss: 25.7803\tTest accuracy: 0.9333.\n",
      "Epoch: 30\tTraining loss: 0.0598\tTest loss: 26.9726\tTest accuracy: 0.9333.\n",
      "Training teacher classifier: 167...\n",
      "Epoch: 5\tTraining loss: 8.2066\tTest loss: 29.2335\tTest accuracy: 0.9000.\n",
      "Epoch: 10\tTraining loss: 2.1381\tTest loss: 36.9914\tTest accuracy: 0.9000.\n",
      "Epoch: 15\tTraining loss: 0.5521\tTest loss: 42.5377\tTest accuracy: 0.8667.\n",
      "Epoch: 20\tTraining loss: 0.2106\tTest loss: 46.5261\tTest accuracy: 0.8667.\n",
      "Epoch: 25\tTraining loss: 0.1090\tTest loss: 49.2337\tTest accuracy: 0.8667.\n",
      "Epoch: 30\tTraining loss: 0.0698\tTest loss: 51.7733\tTest accuracy: 0.8667.\n",
      "Training teacher classifier: 168...\n",
      "Epoch: 5\tTraining loss: 6.2690\tTest loss: 15.3340\tTest accuracy: 0.9333.\n",
      "Epoch: 10\tTraining loss: 1.2932\tTest loss: 12.6898\tTest accuracy: 0.9167.\n",
      "Epoch: 15\tTraining loss: 0.3409\tTest loss: 15.4004\tTest accuracy: 0.9167.\n",
      "Epoch: 20\tTraining loss: 0.1618\tTest loss: 14.8072\tTest accuracy: 0.9333.\n",
      "Epoch: 25\tTraining loss: 0.1001\tTest loss: 15.2323\tTest accuracy: 0.9167.\n",
      "Epoch: 30\tTraining loss: 0.0727\tTest loss: 15.5354\tTest accuracy: 0.9167.\n",
      "Training teacher classifier: 169...\n",
      "Epoch: 5\tTraining loss: 14.3236\tTest loss: 20.0880\tTest accuracy: 0.9333.\n",
      "Epoch: 10\tTraining loss: 4.7622\tTest loss: 15.3786\tTest accuracy: 0.9500.\n",
      "Epoch: 15\tTraining loss: 1.5982\tTest loss: 16.7371\tTest accuracy: 0.9500.\n",
      "Epoch: 20\tTraining loss: 0.6635\tTest loss: 19.3816\tTest accuracy: 0.9167.\n",
      "Epoch: 25\tTraining loss: 0.3003\tTest loss: 21.4222\tTest accuracy: 0.9167.\n",
      "Epoch: 30\tTraining loss: 0.1351\tTest loss: 23.4936\tTest accuracy: 0.9000.\n",
      "Training teacher classifier: 170...\n",
      "Epoch: 5\tTraining loss: 11.9450\tTest loss: 7.7539\tTest accuracy: 0.9667.\n",
      "Epoch: 10\tTraining loss: 2.6132\tTest loss: 6.9178\tTest accuracy: 0.9333.\n",
      "Epoch: 15\tTraining loss: 0.7455\tTest loss: 6.7530\tTest accuracy: 0.9500.\n",
      "Epoch: 20\tTraining loss: 0.2459\tTest loss: 7.1950\tTest accuracy: 0.9333.\n",
      "Epoch: 25\tTraining loss: 0.1210\tTest loss: 8.9947\tTest accuracy: 0.9333.\n",
      "Epoch: 30\tTraining loss: 0.0577\tTest loss: 7.9026\tTest accuracy: 0.9167.\n",
      "Training teacher classifier: 171...\n",
      "Epoch: 5\tTraining loss: 8.1924\tTest loss: 17.0856\tTest accuracy: 0.9333.\n",
      "Epoch: 10\tTraining loss: 1.9557\tTest loss: 12.7271\tTest accuracy: 0.9167.\n",
      "Epoch: 15\tTraining loss: 0.6104\tTest loss: 13.4768\tTest accuracy: 0.9167.\n",
      "Epoch: 20\tTraining loss: 0.2214\tTest loss: 14.1587\tTest accuracy: 0.9167.\n",
      "Epoch: 25\tTraining loss: 0.1021\tTest loss: 14.8281\tTest accuracy: 0.9000.\n",
      "Epoch: 30\tTraining loss: 0.0638\tTest loss: 14.4921\tTest accuracy: 0.9167.\n",
      "Training teacher classifier: 172...\n",
      "Epoch: 5\tTraining loss: 15.1092\tTest loss: 12.8075\tTest accuracy: 0.9167.\n",
      "Epoch: 10\tTraining loss: 3.0259\tTest loss: 4.4169\tTest accuracy: 0.9833.\n"
     ]
    },
    {
     "name": "stdout",
     "output_type": "stream",
     "text": [
      "Epoch: 15\tTraining loss: 0.9173\tTest loss: 3.7380\tTest accuracy: 0.9833.\n",
      "Epoch: 20\tTraining loss: 0.4246\tTest loss: 3.7811\tTest accuracy: 0.9833.\n",
      "Epoch: 25\tTraining loss: 0.1363\tTest loss: 3.4752\tTest accuracy: 0.9833.\n",
      "Epoch: 30\tTraining loss: 0.0806\tTest loss: 3.2720\tTest accuracy: 0.9833.\n",
      "Training teacher classifier: 173...\n",
      "Epoch: 5\tTraining loss: 8.3330\tTest loss: 14.6072\tTest accuracy: 0.9500.\n",
      "Epoch: 10\tTraining loss: 2.2860\tTest loss: 9.8172\tTest accuracy: 0.9667.\n",
      "Epoch: 15\tTraining loss: 0.5252\tTest loss: 8.8126\tTest accuracy: 0.9667.\n",
      "Epoch: 20\tTraining loss: 0.2149\tTest loss: 9.1337\tTest accuracy: 0.9667.\n",
      "Epoch: 25\tTraining loss: 0.1285\tTest loss: 9.9588\tTest accuracy: 0.9667.\n",
      "Epoch: 30\tTraining loss: 0.0901\tTest loss: 10.3481\tTest accuracy: 0.9667.\n",
      "Training teacher classifier: 174...\n",
      "Epoch: 5\tTraining loss: 11.8097\tTest loss: 21.5702\tTest accuracy: 0.9500.\n",
      "Epoch: 10\tTraining loss: 1.7765\tTest loss: 14.3420\tTest accuracy: 0.9500.\n",
      "Epoch: 15\tTraining loss: 0.2894\tTest loss: 11.0228\tTest accuracy: 0.9667.\n",
      "Epoch: 20\tTraining loss: 0.1228\tTest loss: 11.5954\tTest accuracy: 0.9667.\n",
      "Epoch: 25\tTraining loss: 0.0743\tTest loss: 12.6144\tTest accuracy: 0.9667.\n",
      "Epoch: 30\tTraining loss: 0.0535\tTest loss: 13.4896\tTest accuracy: 0.9500.\n",
      "Training teacher classifier: 175...\n",
      "Epoch: 5\tTraining loss: 8.8280\tTest loss: 18.2055\tTest accuracy: 0.9167.\n",
      "Epoch: 10\tTraining loss: 1.1674\tTest loss: 13.4749\tTest accuracy: 0.9167.\n",
      "Epoch: 15\tTraining loss: 0.1800\tTest loss: 20.8591\tTest accuracy: 0.9000.\n",
      "Epoch: 20\tTraining loss: 0.0784\tTest loss: 21.8872\tTest accuracy: 0.9000.\n",
      "Epoch: 25\tTraining loss: 0.0520\tTest loss: 22.2548\tTest accuracy: 0.9000.\n",
      "Epoch: 30\tTraining loss: 0.0388\tTest loss: 23.4252\tTest accuracy: 0.9000.\n",
      "Training teacher classifier: 176...\n",
      "Epoch: 5\tTraining loss: 4.5963\tTest loss: 14.8468\tTest accuracy: 0.9167.\n",
      "Epoch: 10\tTraining loss: 1.4572\tTest loss: 14.2686\tTest accuracy: 0.9500.\n",
      "Epoch: 15\tTraining loss: 0.2752\tTest loss: 15.9687\tTest accuracy: 0.9333.\n",
      "Epoch: 20\tTraining loss: 0.1210\tTest loss: 14.9159\tTest accuracy: 0.9500.\n",
      "Epoch: 25\tTraining loss: 0.0854\tTest loss: 16.1749\tTest accuracy: 0.9333.\n",
      "Epoch: 30\tTraining loss: 0.0660\tTest loss: 16.8985\tTest accuracy: 0.9333.\n",
      "Training teacher classifier: 177...\n",
      "Epoch: 5\tTraining loss: 10.3597\tTest loss: 19.0610\tTest accuracy: 0.8667.\n",
      "Epoch: 10\tTraining loss: 1.4369\tTest loss: 16.5395\tTest accuracy: 0.9000.\n",
      "Epoch: 15\tTraining loss: 0.2568\tTest loss: 18.2839\tTest accuracy: 0.8833.\n",
      "Epoch: 20\tTraining loss: 0.0918\tTest loss: 19.2907\tTest accuracy: 0.8833.\n",
      "Epoch: 25\tTraining loss: 0.0572\tTest loss: 20.2726\tTest accuracy: 0.9000.\n",
      "Epoch: 30\tTraining loss: 0.0419\tTest loss: 21.1243\tTest accuracy: 0.9000.\n",
      "Training teacher classifier: 178...\n",
      "Epoch: 5\tTraining loss: 8.8706\tTest loss: 17.6970\tTest accuracy: 0.9500.\n",
      "Epoch: 10\tTraining loss: 1.2766\tTest loss: 11.4767\tTest accuracy: 0.9667.\n",
      "Epoch: 15\tTraining loss: 0.2821\tTest loss: 14.3915\tTest accuracy: 0.9500.\n",
      "Epoch: 20\tTraining loss: 0.1281\tTest loss: 15.1133\tTest accuracy: 0.9167.\n",
      "Epoch: 25\tTraining loss: 0.0790\tTest loss: 15.1733\tTest accuracy: 0.9167.\n",
      "Epoch: 30\tTraining loss: 0.0555\tTest loss: 16.0814\tTest accuracy: 0.9167.\n",
      "Training teacher classifier: 179...\n",
      "Epoch: 5\tTraining loss: 10.1541\tTest loss: 13.9847\tTest accuracy: 0.9667.\n",
      "Epoch: 10\tTraining loss: 1.2304\tTest loss: 3.2873\tTest accuracy: 0.9833.\n",
      "Epoch: 15\tTraining loss: 0.2924\tTest loss: 2.9351\tTest accuracy: 0.9833.\n",
      "Epoch: 20\tTraining loss: 0.1110\tTest loss: 2.4278\tTest accuracy: 0.9833.\n",
      "Epoch: 25\tTraining loss: 0.0668\tTest loss: 2.2728\tTest accuracy: 0.9833.\n",
      "Epoch: 30\tTraining loss: 0.0470\tTest loss: 2.3212\tTest accuracy: 0.9833.\n",
      "Training teacher classifier: 180...\n",
      "Epoch: 5\tTraining loss: 5.0822\tTest loss: 12.9200\tTest accuracy: 0.9333.\n",
      "Epoch: 10\tTraining loss: 0.8817\tTest loss: 9.9326\tTest accuracy: 0.9667.\n",
      "Epoch: 15\tTraining loss: 0.2235\tTest loss: 10.2181\tTest accuracy: 0.9667.\n",
      "Epoch: 20\tTraining loss: 0.1146\tTest loss: 10.9516\tTest accuracy: 0.9667.\n",
      "Epoch: 25\tTraining loss: 0.0760\tTest loss: 11.0504\tTest accuracy: 0.9667.\n",
      "Epoch: 30\tTraining loss: 0.0576\tTest loss: 11.3513\tTest accuracy: 0.9667.\n",
      "Training teacher classifier: 181...\n",
      "Epoch: 5\tTraining loss: 9.4349\tTest loss: 19.2831\tTest accuracy: 0.9333.\n",
      "Epoch: 10\tTraining loss: 1.9415\tTest loss: 18.2774\tTest accuracy: 0.9167.\n",
      "Epoch: 15\tTraining loss: 0.4578\tTest loss: 17.3694\tTest accuracy: 0.9500.\n",
      "Epoch: 20\tTraining loss: 0.1878\tTest loss: 19.2932\tTest accuracy: 0.9500.\n",
      "Epoch: 25\tTraining loss: 0.1064\tTest loss: 20.2719\tTest accuracy: 0.9500.\n",
      "Epoch: 30\tTraining loss: 0.0707\tTest loss: 20.9128\tTest accuracy: 0.9500.\n",
      "Training teacher classifier: 182...\n",
      "Epoch: 5\tTraining loss: 6.3772\tTest loss: 9.6309\tTest accuracy: 0.9500.\n",
      "Epoch: 10\tTraining loss: 0.7510\tTest loss: 10.4353\tTest accuracy: 0.9333.\n",
      "Epoch: 15\tTraining loss: 0.1537\tTest loss: 8.1666\tTest accuracy: 0.9333.\n",
      "Epoch: 20\tTraining loss: 0.0761\tTest loss: 8.3227\tTest accuracy: 0.9500.\n",
      "Epoch: 25\tTraining loss: 0.0518\tTest loss: 8.1795\tTest accuracy: 0.9500.\n",
      "Epoch: 30\tTraining loss: 0.0395\tTest loss: 8.1524\tTest accuracy: 0.9333.\n",
      "Training teacher classifier: 183...\n",
      "Epoch: 5\tTraining loss: 9.0962\tTest loss: 12.7765\tTest accuracy: 0.9667.\n",
      "Epoch: 10\tTraining loss: 1.1996\tTest loss: 8.9577\tTest accuracy: 0.9500.\n",
      "Epoch: 15\tTraining loss: 0.2068\tTest loss: 10.9827\tTest accuracy: 0.9333.\n",
      "Epoch: 20\tTraining loss: 0.0938\tTest loss: 11.3127\tTest accuracy: 0.9333.\n",
      "Epoch: 25\tTraining loss: 0.0560\tTest loss: 11.9415\tTest accuracy: 0.9333.\n",
      "Epoch: 30\tTraining loss: 0.0384\tTest loss: 12.3550\tTest accuracy: 0.9333.\n",
      "Training teacher classifier: 184...\n",
      "Epoch: 5\tTraining loss: 8.1219\tTest loss: 19.9080\tTest accuracy: 0.8833.\n",
      "Epoch: 10\tTraining loss: 1.6428\tTest loss: 11.3984\tTest accuracy: 0.9333.\n",
      "Epoch: 15\tTraining loss: 0.3344\tTest loss: 10.0674\tTest accuracy: 0.9500.\n",
      "Epoch: 20\tTraining loss: 0.1195\tTest loss: 12.6127\tTest accuracy: 0.9333.\n",
      "Epoch: 25\tTraining loss: 0.0698\tTest loss: 11.6496\tTest accuracy: 0.9333.\n",
      "Epoch: 30\tTraining loss: 0.0500\tTest loss: 11.3352\tTest accuracy: 0.9333.\n",
      "Training teacher classifier: 185...\n",
      "Epoch: 5\tTraining loss: 4.3203\tTest loss: 3.1513\tTest accuracy: 0.9833.\n",
      "Epoch: 10\tTraining loss: 0.3607\tTest loss: 6.2073\tTest accuracy: 0.9833.\n",
      "Epoch: 15\tTraining loss: 0.0886\tTest loss: 7.9766\tTest accuracy: 0.9833.\n",
      "Epoch: 20\tTraining loss: 0.0455\tTest loss: 7.7613\tTest accuracy: 0.9833.\n",
      "Epoch: 25\tTraining loss: 0.0316\tTest loss: 7.5085\tTest accuracy: 0.9833.\n",
      "Epoch: 30\tTraining loss: 0.0251\tTest loss: 7.1663\tTest accuracy: 0.9833.\n",
      "Training teacher classifier: 186...\n",
      "Epoch: 5\tTraining loss: 3.4394\tTest loss: 13.7938\tTest accuracy: 0.9333.\n",
      "Epoch: 10\tTraining loss: 0.3930\tTest loss: 22.1684\tTest accuracy: 0.8833.\n",
      "Epoch: 15\tTraining loss: 0.0804\tTest loss: 19.5960\tTest accuracy: 0.9000.\n",
      "Epoch: 20\tTraining loss: 0.0433\tTest loss: 19.4913\tTest accuracy: 0.9000.\n",
      "Epoch: 25\tTraining loss: 0.0306\tTest loss: 19.5861\tTest accuracy: 0.9000.\n",
      "Epoch: 30\tTraining loss: 0.0236\tTest loss: 19.9730\tTest accuracy: 0.9000.\n",
      "Training teacher classifier: 187...\n",
      "Epoch: 5\tTraining loss: 12.0070\tTest loss: 19.1175\tTest accuracy: 0.9167.\n",
      "Epoch: 10\tTraining loss: 2.3351\tTest loss: 17.6943\tTest accuracy: 0.9000.\n",
      "Epoch: 15\tTraining loss: 0.5180\tTest loss: 13.8725\tTest accuracy: 0.9333.\n",
      "Epoch: 20\tTraining loss: 0.1791\tTest loss: 12.2613\tTest accuracy: 0.9667.\n",
      "Epoch: 25\tTraining loss: 0.0911\tTest loss: 12.8031\tTest accuracy: 0.9667.\n",
      "Epoch: 30\tTraining loss: 0.0573\tTest loss: 13.0980\tTest accuracy: 0.9667.\n",
      "Training teacher classifier: 188...\n",
      "Epoch: 5\tTraining loss: 7.8480\tTest loss: 15.7814\tTest accuracy: 0.9167.\n",
      "Epoch: 10\tTraining loss: 1.1360\tTest loss: 12.8434\tTest accuracy: 0.9167.\n",
      "Epoch: 15\tTraining loss: 0.2110\tTest loss: 9.6022\tTest accuracy: 0.9333.\n",
      "Epoch: 20\tTraining loss: 0.0895\tTest loss: 10.8451\tTest accuracy: 0.9333.\n",
      "Epoch: 25\tTraining loss: 0.0538\tTest loss: 11.3543\tTest accuracy: 0.9167.\n",
      "Epoch: 30\tTraining loss: 0.0376\tTest loss: 10.2365\tTest accuracy: 0.9167.\n",
      "Training teacher classifier: 189...\n",
      "Epoch: 5\tTraining loss: 15.4153\tTest loss: 26.1647\tTest accuracy: 0.8667.\n",
      "Epoch: 10\tTraining loss: 3.6830\tTest loss: 8.1825\tTest accuracy: 0.9667.\n"
     ]
    },
    {
     "name": "stdout",
     "output_type": "stream",
     "text": [
      "Epoch: 15\tTraining loss: 0.5447\tTest loss: 10.6049\tTest accuracy: 0.9833.\n",
      "Epoch: 20\tTraining loss: 0.1431\tTest loss: 11.4846\tTest accuracy: 0.9500.\n",
      "Epoch: 25\tTraining loss: 0.0699\tTest loss: 13.2333\tTest accuracy: 0.9333.\n",
      "Epoch: 30\tTraining loss: 0.0441\tTest loss: 13.8643\tTest accuracy: 0.9167.\n",
      "Training teacher classifier: 190...\n",
      "Epoch: 5\tTraining loss: 7.3467\tTest loss: 15.7145\tTest accuracy: 0.8833.\n",
      "Epoch: 10\tTraining loss: 0.6182\tTest loss: 1.4758\tTest accuracy: 1.0000.\n",
      "Epoch: 15\tTraining loss: 0.1433\tTest loss: 1.5123\tTest accuracy: 1.0000.\n",
      "Epoch: 20\tTraining loss: 0.0728\tTest loss: 1.6599\tTest accuracy: 0.9833.\n",
      "Epoch: 25\tTraining loss: 0.0535\tTest loss: 1.5246\tTest accuracy: 0.9833.\n",
      "Epoch: 30\tTraining loss: 0.0421\tTest loss: 1.4647\tTest accuracy: 0.9833.\n",
      "Training teacher classifier: 191...\n",
      "Epoch: 5\tTraining loss: 10.5287\tTest loss: 18.9316\tTest accuracy: 0.9500.\n",
      "Epoch: 10\tTraining loss: 1.4602\tTest loss: 15.3205\tTest accuracy: 0.9667.\n",
      "Epoch: 15\tTraining loss: 0.3399\tTest loss: 15.9989\tTest accuracy: 0.9333.\n",
      "Epoch: 20\tTraining loss: 0.1527\tTest loss: 15.0891\tTest accuracy: 0.9500.\n",
      "Epoch: 25\tTraining loss: 0.0895\tTest loss: 14.7345\tTest accuracy: 0.9500.\n",
      "Epoch: 30\tTraining loss: 0.0659\tTest loss: 14.8561\tTest accuracy: 0.9667.\n",
      "Training teacher classifier: 192...\n",
      "Epoch: 5\tTraining loss: 13.2006\tTest loss: 30.5218\tTest accuracy: 0.8333.\n",
      "Epoch: 10\tTraining loss: 3.4903\tTest loss: 14.5851\tTest accuracy: 0.9000.\n",
      "Epoch: 15\tTraining loss: 0.7373\tTest loss: 14.0199\tTest accuracy: 0.9167.\n",
      "Epoch: 20\tTraining loss: 0.2604\tTest loss: 12.8667\tTest accuracy: 0.9000.\n",
      "Epoch: 25\tTraining loss: 0.1354\tTest loss: 12.5616\tTest accuracy: 0.9167.\n",
      "Epoch: 30\tTraining loss: 0.0904\tTest loss: 11.3564\tTest accuracy: 0.9167.\n",
      "Training teacher classifier: 193...\n",
      "Epoch: 5\tTraining loss: 11.5576\tTest loss: 12.6647\tTest accuracy: 0.9167.\n",
      "Epoch: 10\tTraining loss: 2.2084\tTest loss: 6.1779\tTest accuracy: 0.9500.\n",
      "Epoch: 15\tTraining loss: 0.5433\tTest loss: 7.5576\tTest accuracy: 0.9500.\n",
      "Epoch: 20\tTraining loss: 0.2516\tTest loss: 7.9081\tTest accuracy: 0.9333.\n",
      "Epoch: 25\tTraining loss: 0.1523\tTest loss: 8.5242\tTest accuracy: 0.9500.\n",
      "Epoch: 30\tTraining loss: 0.1106\tTest loss: 8.6073\tTest accuracy: 0.9500.\n",
      "Training teacher classifier: 194...\n",
      "Epoch: 5\tTraining loss: 8.1064\tTest loss: 12.1127\tTest accuracy: 0.9167.\n",
      "Epoch: 10\tTraining loss: 0.7254\tTest loss: 6.6806\tTest accuracy: 0.9500.\n",
      "Epoch: 15\tTraining loss: 0.1465\tTest loss: 7.5272\tTest accuracy: 0.9667.\n",
      "Epoch: 20\tTraining loss: 0.0709\tTest loss: 7.6705\tTest accuracy: 0.9667.\n",
      "Epoch: 25\tTraining loss: 0.0454\tTest loss: 7.8709\tTest accuracy: 0.9667.\n",
      "Epoch: 30\tTraining loss: 0.0333\tTest loss: 7.9299\tTest accuracy: 0.9667.\n",
      "Training teacher classifier: 195...\n",
      "Epoch: 5\tTraining loss: 3.3080\tTest loss: 5.1892\tTest accuracy: 0.9833.\n",
      "Epoch: 10\tTraining loss: 0.8064\tTest loss: 3.7281\tTest accuracy: 1.0000.\n",
      "Epoch: 15\tTraining loss: 0.1904\tTest loss: 2.5604\tTest accuracy: 0.9833.\n",
      "Epoch: 20\tTraining loss: 0.0747\tTest loss: 1.7672\tTest accuracy: 1.0000.\n",
      "Epoch: 25\tTraining loss: 0.0409\tTest loss: 1.4858\tTest accuracy: 1.0000.\n",
      "Epoch: 30\tTraining loss: 0.0276\tTest loss: 1.4779\tTest accuracy: 1.0000.\n",
      "Training teacher classifier: 196...\n",
      "Epoch: 5\tTraining loss: 7.0164\tTest loss: 10.9100\tTest accuracy: 0.9667.\n",
      "Epoch: 10\tTraining loss: 0.9852\tTest loss: 1.3763\tTest accuracy: 1.0000.\n",
      "Epoch: 15\tTraining loss: 0.2004\tTest loss: 1.1701\tTest accuracy: 1.0000.\n",
      "Epoch: 20\tTraining loss: 0.0900\tTest loss: 0.9184\tTest accuracy: 1.0000.\n",
      "Epoch: 25\tTraining loss: 0.0584\tTest loss: 0.9558\tTest accuracy: 1.0000.\n",
      "Epoch: 30\tTraining loss: 0.0422\tTest loss: 0.9165\tTest accuracy: 1.0000.\n",
      "Training teacher classifier: 197...\n",
      "Epoch: 5\tTraining loss: 4.0449\tTest loss: 5.3512\tTest accuracy: 0.9667.\n",
      "Epoch: 10\tTraining loss: 0.3724\tTest loss: 2.0443\tTest accuracy: 1.0000.\n",
      "Epoch: 15\tTraining loss: 0.0854\tTest loss: 2.6398\tTest accuracy: 0.9833.\n",
      "Epoch: 20\tTraining loss: 0.0340\tTest loss: 2.4661\tTest accuracy: 0.9833.\n",
      "Epoch: 25\tTraining loss: 0.0203\tTest loss: 2.1969\tTest accuracy: 0.9833.\n",
      "Epoch: 30\tTraining loss: 0.0147\tTest loss: 2.1135\tTest accuracy: 0.9833.\n",
      "Training teacher classifier: 198...\n",
      "Epoch: 5\tTraining loss: 3.8169\tTest loss: 3.6040\tTest accuracy: 1.0000.\n",
      "Epoch: 10\tTraining loss: 0.7006\tTest loss: 1.7350\tTest accuracy: 1.0000.\n",
      "Epoch: 15\tTraining loss: 0.1466\tTest loss: 1.5514\tTest accuracy: 0.9833.\n",
      "Epoch: 20\tTraining loss: 0.0604\tTest loss: 1.5006\tTest accuracy: 1.0000.\n",
      "Epoch: 25\tTraining loss: 0.0365\tTest loss: 1.5836\tTest accuracy: 1.0000.\n",
      "Epoch: 30\tTraining loss: 0.0261\tTest loss: 1.8269\tTest accuracy: 1.0000.\n",
      "Training teacher classifier: 199...\n",
      "Epoch: 5\tTraining loss: 8.2891\tTest loss: 12.0209\tTest accuracy: 0.9333.\n",
      "Epoch: 10\tTraining loss: 1.7350\tTest loss: 4.9441\tTest accuracy: 0.9833.\n",
      "Epoch: 15\tTraining loss: 0.2911\tTest loss: 3.5221\tTest accuracy: 0.9833.\n",
      "Epoch: 20\tTraining loss: 0.0971\tTest loss: 3.1255\tTest accuracy: 0.9833.\n",
      "Epoch: 25\tTraining loss: 0.0552\tTest loss: 3.0234\tTest accuracy: 0.9833.\n",
      "Epoch: 30\tTraining loss: 0.0369\tTest loss: 2.8104\tTest accuracy: 0.9833.\n",
      "Training teacher classifier: 200...\n",
      "Epoch: 5\tTraining loss: 10.0328\tTest loss: 12.8728\tTest accuracy: 0.9333.\n",
      "Epoch: 10\tTraining loss: 2.0543\tTest loss: 3.8033\tTest accuracy: 0.9667.\n",
      "Epoch: 15\tTraining loss: 0.3057\tTest loss: 1.2520\tTest accuracy: 1.0000.\n",
      "Epoch: 20\tTraining loss: 0.1043\tTest loss: 0.6694\tTest accuracy: 1.0000.\n",
      "Epoch: 25\tTraining loss: 0.0579\tTest loss: 0.6547\tTest accuracy: 1.0000.\n",
      "Epoch: 30\tTraining loss: 0.0404\tTest loss: 0.6705\tTest accuracy: 1.0000.\n"
     ]
    }
   ],
   "source": [
    "# split teacher_data into 200 folds\n",
    "kf = KFold(n_splits=num_teachers)\n",
    "\n",
    "for i, (_, data_index) in enumerate(kf.split(teacher_data)):\n",
    "    # take out one teacher subset\n",
    "    teacher_subset = Subset(teacher_data, data_index)\n",
    "    \n",
    "    classifier = classifiers[i]\n",
    "    \n",
    "    print('Training teacher classifier: {}...'.format(i+1))\n",
    "    \n",
    "    # split teacher subset into 80% train and 20% test set\n",
    "    num_samples = len(teacher_subset)\n",
    "    indices = list(range(num_samples))\n",
    "    np.random.shuffle(indices)\n",
    "    split = int(np.floor(0.2 * num_samples))\n",
    "    train_index, test_index = indices[split:], indices[:split]\n",
    "\n",
    "    # define samplers for obtaining training and test batches\n",
    "    train_sampler = SubsetRandomSampler(train_index)\n",
    "    test_sampler = SubsetRandomSampler(test_index)\n",
    "\n",
    "    # create dataloader\n",
    "    trainloader = DataLoader(teacher_subset, batch_size=batch_size, sampler=train_sampler)\n",
    "    testloader = DataLoader(teacher_subset, batch_size=batch_size, sampler=test_sampler)\n",
    "\n",
    "    # specify loss and optimization function\n",
    "    criterion = nn.NLLLoss()\n",
    "    optimizer = optim.Adam(classifier.parameters(), lr=0.003)\n",
    "\n",
    "    # training\n",
    "    classifier.train()\n",
    "\n",
    "    for epoch in range(epochs):\n",
    "        train_loss = 0\n",
    "        for data, label in trainloader:\n",
    "            optimizer.zero_grad()\n",
    "\n",
    "            output = classifier(data)\n",
    "            loss = criterion(output, label)\n",
    "            loss.backward()\n",
    "            optimizer.step()\n",
    "            train_loss += loss.item()*data.size(0)\n",
    "\n",
    "        if (epoch+1) % print_every == 0:                 \n",
    "            # switch to validation mode\n",
    "            classifier.eval()\n",
    "            test_loss = 0\n",
    "            accuracy = 0\n",
    "            with torch.no_grad():\n",
    "                for data, label in testloader:\n",
    "                    output = classifier(data)\n",
    "                    loss = criterion(output, label)\n",
    "                    test_loss += loss.item()*data.size(0)\n",
    "\n",
    "                    # calculate accuracy\n",
    "                    ps = torch.exp(output)\n",
    "                    top_p, top_class = ps.topk(1, dim=1)\n",
    "                    equals = top_class == label.view(*top_class.shape)\n",
    "                    accuracy += torch.mean(equals.type(torch.FloatTensor)).item()\n",
    "\n",
    "\n",
    "                print(\"Epoch: {}\\tTraining loss: {:.4f}\\tTest loss: {:.4f}\\tTest accuracy: {:.4f}.\".format(epoch+1,\n",
    "                                                                                               train_loss/print_every,\n",
    "                                                                                               test_loss/len(testloader),\n",
    "                                                                                               accuracy/len(testloader)))\n",
    "            # switch back to training mode\n",
    "            classifier.train()"
   ]
  },
  {
   "cell_type": "code",
   "execution_count": 83,
   "metadata": {},
   "outputs": [],
   "source": [
    "# save 200 classifiers\n",
    "\n",
    "all_points = []\n",
    "\n",
    "for i in range(len(classifiers)):\n",
    "    all_points.append(classifiers[i].state_dict())\n",
    "    \n",
    "checkpoint = {'classifiers_list': all_points}\n",
    "torch.save(checkpoint, 'checkpoints/teachers_checkpoint.pth')"
   ]
  },
  {
   "cell_type": "code",
   "execution_count": 84,
   "metadata": {},
   "outputs": [],
   "source": [
    "# load checkpoint\n",
    "\n",
    "checkpoint = torch.load('checkpoints/teachers_checkpoint.pth')\n",
    "all_points = checkpoint['classifiers_list']\n",
    "\n",
    "for i in range(len(all_points)):\n",
    "    classifiers[i].load_state_dict(all_points[i])"
   ]
  },
  {
   "cell_type": "markdown",
   "metadata": {},
   "source": [
    "1. Devide teacher dataset (60000 samples) into 200 different teacher subsets, each subset contains 300 samples.\n",
    "2. For each subset, train a classifier. There will be 200 classifiers in total.\n",
    "3. In each subset, split into 80% train and 20% validation.\n",
    "4. Save 300 classifiers then load them.\n",
    "5. Use these classifiers to predict the labels for test_data (or student_data), but the training part only.\n",
    "6. Perform PATE analysis\n",
    "7. Build a model on student dataset. Split student dataset into 80% train and 20% test (maybe validation as well).\n",
    "8. Train this model with created labels.\n",
    "9. Calculate accuracy on test set, using ground truth labels."
   ]
  },
  {
   "cell_type": "code",
   "execution_count": null,
   "metadata": {},
   "outputs": [],
   "source": []
  }
 ],
 "metadata": {
  "kernelspec": {
   "display_name": "Python 3",
   "language": "python",
   "name": "python3"
  },
  "language_info": {
   "codemirror_mode": {
    "name": "ipython",
    "version": 3
   },
   "file_extension": ".py",
   "mimetype": "text/x-python",
   "name": "python",
   "nbconvert_exporter": "python",
   "pygments_lexer": "ipython3",
   "version": "3.7.1"
  }
 },
 "nbformat": 4,
 "nbformat_minor": 2
}
